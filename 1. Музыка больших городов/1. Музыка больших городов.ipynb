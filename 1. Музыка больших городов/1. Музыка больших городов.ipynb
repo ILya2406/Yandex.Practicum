{
 "cells": [
  {
   "cell_type": "markdown",
   "metadata": {
    "deletable": false,
    "editable": false,
    "id": "E0vqbgi9ay0H"
   },
   "source": [
    "# Яндекс Музыка"
   ]
  },
  {
   "cell_type": "markdown",
   "metadata": {
    "deletable": false,
    "editable": false,
    "id": "VUC88oWjTJw2"
   },
   "source": [
    "Сравнение Москвы и Петербурга окружено мифами. Например:\n",
    " * Москва — мегаполис, подчинённый жёсткому ритму рабочей недели;\n",
    " * Петербург — культурная столица, со своими вкусами.\n",
    "\n",
    "На данных Яндекс Музыки вы сравните поведение пользователей двух столиц.\n",
    "\n",
    "**Цель исследования** — проверьте три гипотезы:\n",
    "1. Активность пользователей зависит от дня недели. Причём в Москве и Петербурге это проявляется по-разному.\n",
    "2. В понедельник утром в Москве преобладают одни жанры, а в Петербурге — другие. Так же и вечером пятницы преобладают разные жанры — в зависимости от города.\n",
    "3. Москва и Петербург предпочитают разные жанры музыки. В Москве чаще слушают поп-музыку, в Петербурге — русский рэп.\n",
    "\n",
    "**Ход исследования**\n",
    "\n",
    "Данные о поведении пользователей вы получите из файла `yandex_music_project.csv`. О качестве данных ничего не известно. Поэтому перед проверкой гипотез понадобится обзор данных.\n",
    "\n",
    "Вы проверите данные на ошибки и оцените их влияние на исследование. Затем, на этапе предобработки вы поищете возможность исправить самые критичные ошибки данных.\n",
    "\n",
    "Таким образом, исследование пройдёт в три этапа:\n",
    " 1. Обзор данных.\n",
    " 2. Предобработка данных.\n",
    " 3. Проверка гипотез.\n",
    "\n"
   ]
  },
  {
   "cell_type": "markdown",
   "metadata": {
    "deletable": false,
    "editable": false,
    "id": "Ml1hmfXC_Zcs"
   },
   "source": [
    "## Обзор данных\n",
    "\n",
    "Составьте первое представление о данных Яндекс Музыки.\n",
    "\n",
    "\n"
   ]
  },
  {
   "cell_type": "markdown",
   "metadata": {
    "deletable": false,
    "editable": false,
    "id": "57eAOGIz_Zcs",
    "tags": [
     "start_task"
    ]
   },
   "source": [
    "**Задание 1**"
   ]
  },
  {
   "cell_type": "code",
   "execution_count": 1,
   "metadata": {
    "deletable": false,
    "id": "AXN7PHPN_Zcs"
   },
   "outputs": [],
   "source": [
    "# импорт библиотеки pandas\n",
    "import pandas as pd"
   ]
  },
  {
   "cell_type": "markdown",
   "metadata": {
    "deletable": false,
    "editable": false,
    "id": "SG23P8tt_Zcs",
    "tags": [
     "start_task"
    ]
   },
   "source": [
    "**Задание 2**"
   ]
  },
  {
   "cell_type": "code",
   "execution_count": 2,
   "metadata": {
    "deletable": false,
    "id": "fFVu7vqh_Zct"
   },
   "outputs": [],
   "source": [
    "# чтение файла с данными и сохранение в df\n",
    "df = pd.read_csv('/datasets/yandex_music_project.csv')"
   ]
  },
  {
   "cell_type": "markdown",
   "metadata": {
    "deletable": false,
    "editable": false,
    "id": "rDoOMd3uTqnZ",
    "tags": [
     "start_task"
    ]
   },
   "source": [
    "**Задание 3**"
   ]
  },
  {
   "cell_type": "code",
   "execution_count": 3,
   "metadata": {
    "deletable": false,
    "id": "oWTVX3gW_Zct"
   },
   "outputs": [
    {
     "data": {
      "text/html": [
       "<div>\n",
       "<style scoped>\n",
       "    .dataframe tbody tr th:only-of-type {\n",
       "        vertical-align: middle;\n",
       "    }\n",
       "\n",
       "    .dataframe tbody tr th {\n",
       "        vertical-align: top;\n",
       "    }\n",
       "\n",
       "    .dataframe thead th {\n",
       "        text-align: right;\n",
       "    }\n",
       "</style>\n",
       "<table border=\"1\" class=\"dataframe\">\n",
       "  <thead>\n",
       "    <tr style=\"text-align: right;\">\n",
       "      <th></th>\n",
       "      <th>userID</th>\n",
       "      <th>Track</th>\n",
       "      <th>artist</th>\n",
       "      <th>genre</th>\n",
       "      <th>City</th>\n",
       "      <th>time</th>\n",
       "      <th>Day</th>\n",
       "    </tr>\n",
       "  </thead>\n",
       "  <tbody>\n",
       "    <tr>\n",
       "      <th>0</th>\n",
       "      <td>FFB692EC</td>\n",
       "      <td>Kamigata To Boots</td>\n",
       "      <td>The Mass Missile</td>\n",
       "      <td>rock</td>\n",
       "      <td>Saint-Petersburg</td>\n",
       "      <td>20:28:33</td>\n",
       "      <td>Wednesday</td>\n",
       "    </tr>\n",
       "    <tr>\n",
       "      <th>1</th>\n",
       "      <td>55204538</td>\n",
       "      <td>Delayed Because of Accident</td>\n",
       "      <td>Andreas Rönnberg</td>\n",
       "      <td>rock</td>\n",
       "      <td>Moscow</td>\n",
       "      <td>14:07:09</td>\n",
       "      <td>Friday</td>\n",
       "    </tr>\n",
       "    <tr>\n",
       "      <th>2</th>\n",
       "      <td>20EC38</td>\n",
       "      <td>Funiculì funiculà</td>\n",
       "      <td>Mario Lanza</td>\n",
       "      <td>pop</td>\n",
       "      <td>Saint-Petersburg</td>\n",
       "      <td>20:58:07</td>\n",
       "      <td>Wednesday</td>\n",
       "    </tr>\n",
       "    <tr>\n",
       "      <th>3</th>\n",
       "      <td>A3DD03C9</td>\n",
       "      <td>Dragons in the Sunset</td>\n",
       "      <td>Fire + Ice</td>\n",
       "      <td>folk</td>\n",
       "      <td>Saint-Petersburg</td>\n",
       "      <td>08:37:09</td>\n",
       "      <td>Monday</td>\n",
       "    </tr>\n",
       "    <tr>\n",
       "      <th>4</th>\n",
       "      <td>E2DC1FAE</td>\n",
       "      <td>Soul People</td>\n",
       "      <td>Space Echo</td>\n",
       "      <td>dance</td>\n",
       "      <td>Moscow</td>\n",
       "      <td>08:34:34</td>\n",
       "      <td>Monday</td>\n",
       "    </tr>\n",
       "    <tr>\n",
       "      <th>5</th>\n",
       "      <td>842029A1</td>\n",
       "      <td>Преданная</td>\n",
       "      <td>IMPERVTOR</td>\n",
       "      <td>rusrap</td>\n",
       "      <td>Saint-Petersburg</td>\n",
       "      <td>13:09:41</td>\n",
       "      <td>Friday</td>\n",
       "    </tr>\n",
       "    <tr>\n",
       "      <th>6</th>\n",
       "      <td>4CB90AA5</td>\n",
       "      <td>True</td>\n",
       "      <td>Roman Messer</td>\n",
       "      <td>dance</td>\n",
       "      <td>Moscow</td>\n",
       "      <td>13:00:07</td>\n",
       "      <td>Wednesday</td>\n",
       "    </tr>\n",
       "    <tr>\n",
       "      <th>7</th>\n",
       "      <td>F03E1C1F</td>\n",
       "      <td>Feeling This Way</td>\n",
       "      <td>Polina Griffith</td>\n",
       "      <td>dance</td>\n",
       "      <td>Moscow</td>\n",
       "      <td>20:47:49</td>\n",
       "      <td>Wednesday</td>\n",
       "    </tr>\n",
       "    <tr>\n",
       "      <th>8</th>\n",
       "      <td>8FA1D3BE</td>\n",
       "      <td>И вновь продолжается бой</td>\n",
       "      <td>NaN</td>\n",
       "      <td>ruspop</td>\n",
       "      <td>Moscow</td>\n",
       "      <td>09:17:40</td>\n",
       "      <td>Friday</td>\n",
       "    </tr>\n",
       "    <tr>\n",
       "      <th>9</th>\n",
       "      <td>E772D5C0</td>\n",
       "      <td>Pessimist</td>\n",
       "      <td>NaN</td>\n",
       "      <td>dance</td>\n",
       "      <td>Saint-Petersburg</td>\n",
       "      <td>21:20:49</td>\n",
       "      <td>Wednesday</td>\n",
       "    </tr>\n",
       "  </tbody>\n",
       "</table>\n",
       "</div>"
      ],
      "text/plain": [
       "     userID                        Track            artist   genre  \\\n",
       "0  FFB692EC            Kamigata To Boots  The Mass Missile    rock   \n",
       "1  55204538  Delayed Because of Accident  Andreas Rönnberg    rock   \n",
       "2    20EC38            Funiculì funiculà       Mario Lanza     pop   \n",
       "3  A3DD03C9        Dragons in the Sunset        Fire + Ice    folk   \n",
       "4  E2DC1FAE                  Soul People        Space Echo   dance   \n",
       "5  842029A1                    Преданная         IMPERVTOR  rusrap   \n",
       "6  4CB90AA5                         True      Roman Messer   dance   \n",
       "7  F03E1C1F             Feeling This Way   Polina Griffith   dance   \n",
       "8  8FA1D3BE     И вновь продолжается бой               NaN  ruspop   \n",
       "9  E772D5C0                    Pessimist               NaN   dance   \n",
       "\n",
       "             City        time        Day  \n",
       "0  Saint-Petersburg  20:28:33  Wednesday  \n",
       "1            Moscow  14:07:09     Friday  \n",
       "2  Saint-Petersburg  20:58:07  Wednesday  \n",
       "3  Saint-Petersburg  08:37:09     Monday  \n",
       "4            Moscow  08:34:34     Monday  \n",
       "5  Saint-Petersburg  13:09:41     Friday  \n",
       "6            Moscow  13:00:07  Wednesday  \n",
       "7            Moscow  20:47:49  Wednesday  \n",
       "8            Moscow  09:17:40     Friday  \n",
       "9  Saint-Petersburg  21:20:49  Wednesday  "
      ]
     },
     "execution_count": 3,
     "metadata": {},
     "output_type": "execute_result"
    }
   ],
   "source": [
    "# получение первых 10 строк таблицы df\n",
    "df.head(10)"
   ]
  },
  {
   "cell_type": "markdown",
   "metadata": {
    "deletable": false,
    "editable": false,
    "id": "EO73Kwic_Zct",
    "tags": [
     "start_task"
    ]
   },
   "source": [
    "**Задание 4**"
   ]
  },
  {
   "cell_type": "code",
   "execution_count": 4,
   "metadata": {
    "deletable": false,
    "id": "DSf2kIb-_Zct"
   },
   "outputs": [
    {
     "name": "stdout",
     "output_type": "stream",
     "text": [
      "<class 'pandas.core.frame.DataFrame'>\n",
      "RangeIndex: 65079 entries, 0 to 65078\n",
      "Data columns (total 7 columns):\n",
      " #   Column    Non-Null Count  Dtype \n",
      "---  ------    --------------  ----- \n",
      " 0     userID  65079 non-null  object\n",
      " 1   Track     63848 non-null  object\n",
      " 2   artist    57876 non-null  object\n",
      " 3   genre     63881 non-null  object\n",
      " 4     City    65079 non-null  object\n",
      " 5   time      65079 non-null  object\n",
      " 6   Day       65079 non-null  object\n",
      "dtypes: object(7)\n",
      "memory usage: 3.5+ MB\n"
     ]
    }
   ],
   "source": [
    "# получение общей информации о данных в таблице df\n",
    "df.info()"
   ]
  },
  {
   "cell_type": "markdown",
   "metadata": {
    "deletable": false,
    "editable": false,
    "id": "TaQ2Iwbr_Zct"
   },
   "source": [
    "Количество значений в столбцах различается. Значит, в данных есть пропущенные значения."
   ]
  },
  {
   "cell_type": "markdown",
   "metadata": {
    "deletable": false,
    "editable": false,
    "id": "4P0UCWzswgEm",
    "tags": [
     "start_task"
    ]
   },
   "source": [
    "**Задание 5**"
   ]
  },
  {
   "cell_type": "markdown",
   "metadata": {
    "id": "c137-ZstwgEm"
   },
   "source": [
    "С первого взгляда можно заметить, что user_id и city записан\n",
    "с пробелом (название), а Track и Day и City - с прописной буквой\n",
    "\n",
    "Так как количество значений различается в столбацах, слдедовательно, есть пропуски в датафрейме\n"
   ]
  },
  {
   "cell_type": "markdown",
   "metadata": {
    "deletable": false,
    "editable": false,
    "id": "MCB6-dXG_Zct"
   },
   "source": [
    "**Выводы**\n",
    "\n",
    "В каждой строке таблицы — данные о прослушанном треке. Часть колонок описывает саму композицию: название, исполнителя и жанр. Остальные данные рассказывают о пользователе: из какого он города, когда он слушал музыку.\n",
    "\n",
    "Предварительно можно утверждать, что данных достаточно для проверки гипотез. Но встречаются пропуски в данных, а в названиях колонок — расхождения с хорошим стилем.\n",
    "\n",
    "Чтобы двигаться дальше, нужно устранить проблемы в данных."
   ]
  },
  {
   "cell_type": "markdown",
   "metadata": {
    "deletable": false,
    "editable": false,
    "id": "SjYF6Ub9_Zct"
   },
   "source": [
    "## Предобработка данных"
   ]
  },
  {
   "cell_type": "markdown",
   "metadata": {
    "deletable": false,
    "editable": false,
    "id": "dIaKXr29_Zct",
    "tags": [
     "start_task"
    ]
   },
   "source": [
    "### Переименование столбцов\n",
    "\n",
    "**Задание 6**"
   ]
  },
  {
   "cell_type": "code",
   "execution_count": 6,
   "metadata": {
    "deletable": false,
    "id": "oKOTdF_Q_Zct"
   },
   "outputs": [
    {
     "name": "stdout",
     "output_type": "stream",
     "text": [
      "Index(['  userID', 'Track', 'artist', 'genre', '  City  ', 'time', 'Day'], dtype='object')\n"
     ]
    }
   ],
   "source": [
    "# перечень названий столбцов таблицы df\n",
    "print(df.columns)"
   ]
  },
  {
   "cell_type": "markdown",
   "metadata": {
    "deletable": false,
    "editable": false,
    "id": "zj5534cv_Zct",
    "tags": [
     "start_task"
    ]
   },
   "source": [
    "**Задание 7**"
   ]
  },
  {
   "cell_type": "code",
   "execution_count": 7,
   "metadata": {
    "deletable": false,
    "id": "ISlFqs5y_Zct"
   },
   "outputs": [],
   "source": [
    "# переименование столбцов\n",
    "df = df.rename(columns = {'  userID': 'user_id', 'Track' : 'track', '  City  ':'city','Day' : 'day'})"
   ]
  },
  {
   "cell_type": "markdown",
   "metadata": {
    "deletable": false,
    "editable": false,
    "id": "1dqbh00J_Zct",
    "tags": [
     "start_task"
    ]
   },
   "source": [
    "**Задание 8**"
   ]
  },
  {
   "cell_type": "code",
   "execution_count": 8,
   "metadata": {
    "deletable": false,
    "id": "d4NOAmTW_Zct"
   },
   "outputs": [
    {
     "name": "stdout",
     "output_type": "stream",
     "text": [
      "Index(['user_id', 'track', 'artist', 'genre', 'city', 'time', 'day'], dtype='object')\n"
     ]
    }
   ],
   "source": [
    "# проверка результатов - перечень названий столбцов\n",
    "print(df.columns)"
   ]
  },
  {
   "cell_type": "markdown",
   "metadata": {
    "deletable": false,
    "editable": false,
    "id": "5ISfbcfY_Zct",
    "tags": [
     "start_task"
    ]
   },
   "source": [
    "### Обработка пропущенных значений\n",
    "\n",
    "**Задание 9**"
   ]
  },
  {
   "cell_type": "code",
   "execution_count": 9,
   "metadata": {
    "deletable": false,
    "id": "RskX29qr_Zct"
   },
   "outputs": [
    {
     "data": {
      "text/plain": [
       "user_id       0\n",
       "track      1231\n",
       "artist     7203\n",
       "genre      1198\n",
       "city          0\n",
       "time          0\n",
       "day           0\n",
       "dtype: int64"
      ]
     },
     "execution_count": 9,
     "metadata": {},
     "output_type": "execute_result"
    }
   ],
   "source": [
    "# подсчёт пропусков\n",
    "df.isna().sum()"
   ]
  },
  {
   "cell_type": "markdown",
   "metadata": {
    "deletable": false,
    "editable": false,
    "id": "fSv2laPA_Zct",
    "tags": [
     "start_task"
    ]
   },
   "source": [
    "**Задание 10**"
   ]
  },
  {
   "cell_type": "code",
   "execution_count": 10,
   "metadata": {
    "deletable": false,
    "id": "KplB5qWs_Zct"
   },
   "outputs": [],
   "source": [
    "# замена пропущенных значений на 'unknown'\n",
    "columns = ['track', 'artist','genre']\n",
    "for i in columns:\n",
    "    df[i] = df[i].fillna('unknown')\n"
   ]
  },
  {
   "cell_type": "markdown",
   "metadata": {
    "deletable": false,
    "editable": false,
    "id": "Ilsm-MZo_Zct",
    "tags": [
     "start_task"
    ]
   },
   "source": [
    "**Задание 11**"
   ]
  },
  {
   "cell_type": "code",
   "execution_count": 11,
   "metadata": {
    "deletable": false,
    "id": "Tq4nYRX4_Zct"
   },
   "outputs": [
    {
     "data": {
      "text/plain": [
       "user_id    0\n",
       "track      0\n",
       "artist     0\n",
       "genre      0\n",
       "city       0\n",
       "time       0\n",
       "day        0\n",
       "dtype: int64"
      ]
     },
     "execution_count": 11,
     "metadata": {},
     "output_type": "execute_result"
    }
   ],
   "source": [
    "# проверка на отсутствие пропусков\n",
    "df.isna().sum()"
   ]
  },
  {
   "cell_type": "markdown",
   "metadata": {
    "deletable": false,
    "editable": false,
    "id": "BWKRtBJ3_Zct",
    "tags": [
     "start_task"
    ]
   },
   "source": [
    "### Обработка дубликатов\n",
    "\n",
    "**Задание 12**"
   ]
  },
  {
   "cell_type": "code",
   "execution_count": 12,
   "metadata": {
    "deletable": false,
    "id": "36eES_S0_Zct"
   },
   "outputs": [
    {
     "data": {
      "text/plain": [
       "3826"
      ]
     },
     "execution_count": 12,
     "metadata": {},
     "output_type": "execute_result"
    }
   ],
   "source": [
    "# подсчёт явных дубликатов\n",
    "df.duplicated().sum()"
   ]
  },
  {
   "cell_type": "markdown",
   "metadata": {
    "deletable": false,
    "editable": false,
    "id": "Ot25h6XR_Zct",
    "tags": [
     "start_task"
    ]
   },
   "source": [
    "**Задание 13**"
   ]
  },
  {
   "cell_type": "code",
   "execution_count": 13,
   "metadata": {
    "deletable": false,
    "id": "exFHq6tt_Zct"
   },
   "outputs": [],
   "source": [
    "# удаление явных дубликатов, создание новых индексов и удаление старых\n",
    "df = df.drop_duplicates().reset_index(drop = True)"
   ]
  },
  {
   "cell_type": "markdown",
   "metadata": {
    "deletable": false,
    "editable": false,
    "id": "Im2YwBEG_Zct",
    "tags": [
     "start_task"
    ]
   },
   "source": [
    "**Задание 14**"
   ]
  },
  {
   "cell_type": "code",
   "execution_count": 14,
   "metadata": {
    "deletable": false,
    "id": "-8PuNWQ0_Zct"
   },
   "outputs": [
    {
     "data": {
      "text/plain": [
       "0"
      ]
     },
     "execution_count": 14,
     "metadata": {},
     "output_type": "execute_result"
    }
   ],
   "source": [
    "# проверка на отсутствие явных дубликатов\n",
    "df.duplicated().sum()"
   ]
  },
  {
   "cell_type": "markdown",
   "metadata": {
    "deletable": false,
    "editable": false,
    "id": "eSjWwsOh_Zct",
    "tags": [
     "start_task"
    ]
   },
   "source": [
    "**Задание 15**"
   ]
  },
  {
   "cell_type": "code",
   "execution_count": 15,
   "metadata": {
    "deletable": false,
    "id": "JIUcqzZN_Zct"
   },
   "outputs": [
    {
     "data": {
      "text/plain": [
       "array(['acid', 'acoustic', 'action', 'adult', 'africa', 'afrikaans',\n",
       "       'alternative', 'alternativepunk', 'ambient', 'americana',\n",
       "       'animated', 'anime', 'arabesk', 'arabic', 'arena',\n",
       "       'argentinetango', 'art', 'audiobook', 'author', 'avantgarde',\n",
       "       'axé', 'baile', 'balkan', 'beats', 'bigroom', 'black', 'bluegrass',\n",
       "       'blues', 'bollywood', 'bossa', 'brazilian', 'breakbeat', 'breaks',\n",
       "       'broadway', 'cantautori', 'cantopop', 'canzone', 'caribbean',\n",
       "       'caucasian', 'celtic', 'chamber', 'chanson', 'children', 'chill',\n",
       "       'chinese', 'choral', 'christian', 'christmas', 'classical',\n",
       "       'classicmetal', 'club', 'colombian', 'comedy', 'conjazz',\n",
       "       'contemporary', 'country', 'cuban', 'dance', 'dancehall',\n",
       "       'dancepop', 'dark', 'death', 'deep', 'deutschrock', 'deutschspr',\n",
       "       'dirty', 'disco', 'dnb', 'documentary', 'downbeat', 'downtempo',\n",
       "       'drum', 'dub', 'dubstep', 'eastern', 'easy', 'electronic',\n",
       "       'electropop', 'emo', 'entehno', 'epicmetal', 'estrada', 'ethnic',\n",
       "       'eurofolk', 'european', 'experimental', 'extrememetal', 'fado',\n",
       "       'fairytail', 'film', 'fitness', 'flamenco', 'folk', 'folklore',\n",
       "       'folkmetal', 'folkrock', 'folktronica', 'forró', 'frankreich',\n",
       "       'französisch', 'french', 'funk', 'future', 'gangsta', 'garage',\n",
       "       'german', 'ghazal', 'gitarre', 'glitch', 'gospel', 'gothic',\n",
       "       'grime', 'grunge', 'gypsy', 'handsup', \"hard'n'heavy\", 'hardcore',\n",
       "       'hardstyle', 'hardtechno', 'hip', 'hip-hop', 'hiphop',\n",
       "       'historisch', 'holiday', 'hop', 'horror', 'house', 'hymn', 'idm',\n",
       "       'independent', 'indian', 'indie', 'indipop', 'industrial',\n",
       "       'inspirational', 'instrumental', 'international', 'irish', 'jam',\n",
       "       'japanese', 'jazz', 'jewish', 'jpop', 'jungle', 'k-pop',\n",
       "       'karadeniz', 'karaoke', 'kayokyoku', 'korean', 'laiko', 'latin',\n",
       "       'latino', 'leftfield', 'local', 'lounge', 'loungeelectronic',\n",
       "       'lovers', 'malaysian', 'mandopop', 'marschmusik', 'meditative',\n",
       "       'mediterranean', 'melodic', 'metal', 'metalcore', 'mexican',\n",
       "       'middle', 'minimal', 'miscellaneous', 'modern', 'mood', 'mpb',\n",
       "       'muslim', 'native', 'neoklassik', 'neue', 'new', 'newage',\n",
       "       'newwave', 'nu', 'nujazz', 'numetal', 'oceania', 'old', 'opera',\n",
       "       'orchestral', 'other', 'piano', 'podcasts', 'pop', 'popdance',\n",
       "       'popelectronic', 'popeurodance', 'poprussian', 'post',\n",
       "       'posthardcore', 'postrock', 'power', 'progmetal', 'progressive',\n",
       "       'psychedelic', 'punjabi', 'punk', 'quebecois', 'ragga', 'ram',\n",
       "       'rancheras', 'rap', 'rave', 'reggae', 'reggaeton', 'regional',\n",
       "       'relax', 'religious', 'retro', 'rhythm', 'rnb', 'rnr', 'rock',\n",
       "       'rockabilly', 'rockalternative', 'rockindie', 'rockother',\n",
       "       'romance', 'roots', 'ruspop', 'rusrap', 'rusrock', 'russian',\n",
       "       'salsa', 'samba', 'scenic', 'schlager', 'self', 'sertanejo',\n",
       "       'shanson', 'shoegazing', 'showtunes', 'singer', 'ska', 'skarock',\n",
       "       'slow', 'smooth', 'soft', 'soul', 'soulful', 'sound', 'soundtrack',\n",
       "       'southern', 'specialty', 'speech', 'spiritual', 'sport',\n",
       "       'stonerrock', 'surf', 'swing', 'synthpop', 'synthrock',\n",
       "       'sängerportrait', 'tango', 'tanzorchester', 'taraftar', 'tatar',\n",
       "       'tech', 'techno', 'teen', 'thrash', 'top', 'traditional',\n",
       "       'tradjazz', 'trance', 'tribal', 'trip', 'triphop', 'tropical',\n",
       "       'türk', 'türkçe', 'ukrrock', 'unknown', 'urban', 'uzbek',\n",
       "       'variété', 'vi', 'videogame', 'vocal', 'western', 'world',\n",
       "       'worldbeat', 'ïîï', 'электроника'], dtype=object)"
      ]
     },
     "execution_count": 15,
     "metadata": {},
     "output_type": "execute_result"
    }
   ],
   "source": [
    "# просмотр уникальных отсортированных названий жанров\n",
    "df['genre'].sort_values().unique()"
   ]
  },
  {
   "cell_type": "markdown",
   "metadata": {
    "deletable": false,
    "editable": false,
    "id": "qej-Qmuo_Zct",
    "tags": [
     "start_task"
    ]
   },
   "source": [
    "**Задание 16**"
   ]
  },
  {
   "cell_type": "code",
   "execution_count": 16,
   "metadata": {
    "deletable": false,
    "id": "ErNDkmns_Zct"
   },
   "outputs": [],
   "source": [
    "df['genre'] = df['genre'].replace('hop', 'hiphop')\n",
    "df['genre'] = df['genre'].replace( 'hip-hop','hiphop')\n",
    "df['genre'] = df['genre'].replace('hip', 'hiphop')"
   ]
  },
  {
   "cell_type": "markdown",
   "metadata": {
    "deletable": false,
    "editable": false,
    "id": "zQKF16_RG15m",
    "tags": [
     "start_task"
    ]
   },
   "source": [
    "**Задание 17**"
   ]
  },
  {
   "cell_type": "code",
   "execution_count": 17,
   "metadata": {
    "deletable": false,
    "id": "wvixALnFG15m"
   },
   "outputs": [
    {
     "data": {
      "text/plain": [
       "array(['acid', 'acoustic', 'action', 'adult', 'africa', 'afrikaans',\n",
       "       'alternative', 'alternativepunk', 'ambient', 'americana',\n",
       "       'animated', 'anime', 'arabesk', 'arabic', 'arena',\n",
       "       'argentinetango', 'art', 'audiobook', 'author', 'avantgarde',\n",
       "       'axé', 'baile', 'balkan', 'beats', 'bigroom', 'black', 'bluegrass',\n",
       "       'blues', 'bollywood', 'bossa', 'brazilian', 'breakbeat', 'breaks',\n",
       "       'broadway', 'cantautori', 'cantopop', 'canzone', 'caribbean',\n",
       "       'caucasian', 'celtic', 'chamber', 'chanson', 'children', 'chill',\n",
       "       'chinese', 'choral', 'christian', 'christmas', 'classical',\n",
       "       'classicmetal', 'club', 'colombian', 'comedy', 'conjazz',\n",
       "       'contemporary', 'country', 'cuban', 'dance', 'dancehall',\n",
       "       'dancepop', 'dark', 'death', 'deep', 'deutschrock', 'deutschspr',\n",
       "       'dirty', 'disco', 'dnb', 'documentary', 'downbeat', 'downtempo',\n",
       "       'drum', 'dub', 'dubstep', 'eastern', 'easy', 'electronic',\n",
       "       'electropop', 'emo', 'entehno', 'epicmetal', 'estrada', 'ethnic',\n",
       "       'eurofolk', 'european', 'experimental', 'extrememetal', 'fado',\n",
       "       'fairytail', 'film', 'fitness', 'flamenco', 'folk', 'folklore',\n",
       "       'folkmetal', 'folkrock', 'folktronica', 'forró', 'frankreich',\n",
       "       'französisch', 'french', 'funk', 'future', 'gangsta', 'garage',\n",
       "       'german', 'ghazal', 'gitarre', 'glitch', 'gospel', 'gothic',\n",
       "       'grime', 'grunge', 'gypsy', 'handsup', \"hard'n'heavy\", 'hardcore',\n",
       "       'hardstyle', 'hardtechno', 'hiphop', 'historisch', 'holiday',\n",
       "       'horror', 'house', 'hymn', 'idm', 'independent', 'indian', 'indie',\n",
       "       'indipop', 'industrial', 'inspirational', 'instrumental',\n",
       "       'international', 'irish', 'jam', 'japanese', 'jazz', 'jewish',\n",
       "       'jpop', 'jungle', 'k-pop', 'karadeniz', 'karaoke', 'kayokyoku',\n",
       "       'korean', 'laiko', 'latin', 'latino', 'leftfield', 'local',\n",
       "       'lounge', 'loungeelectronic', 'lovers', 'malaysian', 'mandopop',\n",
       "       'marschmusik', 'meditative', 'mediterranean', 'melodic', 'metal',\n",
       "       'metalcore', 'mexican', 'middle', 'minimal', 'miscellaneous',\n",
       "       'modern', 'mood', 'mpb', 'muslim', 'native', 'neoklassik', 'neue',\n",
       "       'new', 'newage', 'newwave', 'nu', 'nujazz', 'numetal', 'oceania',\n",
       "       'old', 'opera', 'orchestral', 'other', 'piano', 'podcasts', 'pop',\n",
       "       'popdance', 'popelectronic', 'popeurodance', 'poprussian', 'post',\n",
       "       'posthardcore', 'postrock', 'power', 'progmetal', 'progressive',\n",
       "       'psychedelic', 'punjabi', 'punk', 'quebecois', 'ragga', 'ram',\n",
       "       'rancheras', 'rap', 'rave', 'reggae', 'reggaeton', 'regional',\n",
       "       'relax', 'religious', 'retro', 'rhythm', 'rnb', 'rnr', 'rock',\n",
       "       'rockabilly', 'rockalternative', 'rockindie', 'rockother',\n",
       "       'romance', 'roots', 'ruspop', 'rusrap', 'rusrock', 'russian',\n",
       "       'salsa', 'samba', 'scenic', 'schlager', 'self', 'sertanejo',\n",
       "       'shanson', 'shoegazing', 'showtunes', 'singer', 'ska', 'skarock',\n",
       "       'slow', 'smooth', 'soft', 'soul', 'soulful', 'sound', 'soundtrack',\n",
       "       'southern', 'specialty', 'speech', 'spiritual', 'sport',\n",
       "       'stonerrock', 'surf', 'swing', 'synthpop', 'synthrock',\n",
       "       'sängerportrait', 'tango', 'tanzorchester', 'taraftar', 'tatar',\n",
       "       'tech', 'techno', 'teen', 'thrash', 'top', 'traditional',\n",
       "       'tradjazz', 'trance', 'tribal', 'trip', 'triphop', 'tropical',\n",
       "       'türk', 'türkçe', 'ukrrock', 'unknown', 'urban', 'uzbek',\n",
       "       'variété', 'vi', 'videogame', 'vocal', 'western', 'world',\n",
       "       'worldbeat', 'ïîï', 'электроника'], dtype=object)"
      ]
     },
     "execution_count": 17,
     "metadata": {},
     "output_type": "execute_result"
    }
   ],
   "source": [
    "# проверка на отсутствие неявных дубликатов\n",
    "df['genre'].sort_values().unique()"
   ]
  },
  {
   "cell_type": "markdown",
   "metadata": {
    "deletable": false,
    "editable": false,
    "id": "jz6a9-7HQUDd"
   },
   "source": [
    "**Выводы**\n",
    "\n",
    "Предобработка обнаружила три проблемы в данных:\n",
    "\n",
    "- нарушения в стиле заголовков,\n",
    "- пропущенные значения,\n",
    "- дубликаты — явные и неявные.\n",
    "\n",
    "Вы исправили заголовки, чтобы упростить работу с таблицей. Без дубликатов исследование станет более точным.\n",
    "\n",
    "Пропущенные значения вы заменили на `'unknown'`. Ещё предстоит увидеть, не повредят ли исследованию пропуски в колонке `genre`.\n",
    "\n",
    "Теперь можно перейти к проверке гипотез."
   ]
  },
  {
   "cell_type": "markdown",
   "metadata": {
    "deletable": false,
    "editable": false,
    "id": "WttZHXH0SqKk"
   },
   "source": [
    "## Проверка гипотез"
   ]
  },
  {
   "cell_type": "markdown",
   "metadata": {
    "deletable": false,
    "editable": false,
    "id": "Im936VVi_Zcu"
   },
   "source": [
    "### Сравнение поведения пользователей двух столиц"
   ]
  },
  {
   "cell_type": "markdown",
   "metadata": {
    "deletable": false,
    "editable": false,
    "id": "nwt_MuaL_Zcu"
   },
   "source": [
    "Первая гипотеза утверждает, что пользователи по-разному слушают музыку в Москве и Санкт-Петербурге. Проверим это предположение по данным о трёх днях недели — понедельнике, среде и пятнице. Для этого:\n",
    "\n",
    "* Разделим пользователей Москвы и Санкт-Петербурга.\n",
    "* Сравним, сколько треков послушала каждая группа пользователей в понедельник, среду и пятницу.\n"
   ]
  },
  {
   "cell_type": "markdown",
   "metadata": {
    "deletable": false,
    "id": "8Dw_YMmT_Zcu",
    "tags": [
     "start_task"
    ]
   },
   "source": [
    "**Задание 18**\n",
    "\n"
   ]
  },
  {
   "cell_type": "code",
   "execution_count": 40,
   "metadata": {
    "deletable": false,
    "id": "0_Qs96oh_Zcu"
   },
   "outputs": [
    {
     "name": "stdout",
     "output_type": "stream",
     "text": [
      "city\n",
      "Moscow              42741\n",
      "Saint-Petersburg    18512\n",
      "Name: time, dtype: int64\n"
     ]
    }
   ],
   "source": [
    "# подсчёт прослушиваний в каждом город\n",
    "print(df.groupby('city')['time'].count())\n",
    " "
   ]
  },
  {
   "cell_type": "markdown",
   "metadata": {
    "id": "dzli3w8o_Zcu",
    "tags": [
     "start_task"
    ]
   },
   "source": [
    "**Задание 19**\n"
   ]
  },
  {
   "cell_type": "code",
   "execution_count": 19,
   "metadata": {
    "deletable": false,
    "id": "uZMKjiJz_Zcu"
   },
   "outputs": [
    {
     "name": "stdout",
     "output_type": "stream",
     "text": [
      "day\n",
      "Friday       21840\n",
      "Monday       21354\n",
      "Wednesday    18059\n",
      "Name: time, dtype: int64\n"
     ]
    }
   ],
   "source": [
    "# подсчёт прослушиваний в каждый из трёх дней\n",
    "df1 = df.groupby('day')['time'].count()\n",
    "\n",
    "print(df1)\n",
    "\n",
    "\n",
    "\n"
   ]
  },
  {
   "cell_type": "markdown",
   "metadata": {
    "deletable": false,
    "editable": false,
    "id": "POzs8bGa_Zcu",
    "tags": [
     "start_task"
    ]
   },
   "source": [
    "**Задание 20**"
   ]
  },
  {
   "cell_type": "code",
   "execution_count": 20,
   "metadata": {
    "deletable": false,
    "id": "Nz3GdQB1_Zcu"
   },
   "outputs": [],
   "source": [
    "def number_tracks(day, city):\n",
    "    # выберите только строки df со значением переменной day в столбце day\n",
    "    track_list = df[df['day'] == day]\n",
    "    track_list = track_list[track_list['city'] == city]\n",
    "    # выберите только строки track_list со значением переменной city в столбце city\n",
    "    track_list_count = track_list.count()['user_id']\n",
    "    # вызовите метод подсчета строк для track_list и выберите столбец user_id\n",
    "    return track_list_count"
   ]
  },
  {
   "cell_type": "markdown",
   "metadata": {
    "deletable": false,
    "editable": false,
    "id": "ytf7xFrFJQ2r",
    "tags": [
     "start_task"
    ]
   },
   "source": [
    "**Задание 21**"
   ]
  },
  {
   "cell_type": "code",
   "execution_count": 21,
   "metadata": {
    "deletable": false,
    "id": "rJcRATNQ_Zcu"
   },
   "outputs": [],
   "source": [
    "# количество прослушиваний в Москве по понедельникам\n",
    "k1 = number_tracks('Monday', 'Moscow')"
   ]
  },
  {
   "cell_type": "code",
   "execution_count": 22,
   "metadata": {
    "deletable": false,
    "id": "hq_ncZ5T_Zcu"
   },
   "outputs": [],
   "source": [
    "# количество прослушиваний в Санкт-Петербурге по понедельникам\n",
    "k2 = number_tracks('Monday', 'Saint-Petersburg')"
   ]
  },
  {
   "cell_type": "code",
   "execution_count": 23,
   "metadata": {
    "deletable": false,
    "id": "_NTy2VPU_Zcu"
   },
   "outputs": [],
   "source": [
    "# количество прослушиваний в Москве по средам\n",
    "k3 = number_tracks('Wednesday', 'Moscow')"
   ]
  },
  {
   "cell_type": "code",
   "execution_count": 24,
   "metadata": {
    "deletable": false,
    "id": "j2y3TAwo_Zcu"
   },
   "outputs": [],
   "source": [
    "# количество прослушиваний в Санкт-Петербурге по средам\n",
    "k4 = number_tracks('Wednesday', 'Saint-Petersburg')"
   ]
  },
  {
   "cell_type": "code",
   "execution_count": 25,
   "metadata": {
    "deletable": false,
    "id": "vYDw5u_K_Zcu"
   },
   "outputs": [],
   "source": [
    "# количество прослушиваний в Москве по пятницам\n",
    "k5 = number_tracks('Friday', 'Moscow')"
   ]
  },
  {
   "cell_type": "code",
   "execution_count": 26,
   "metadata": {
    "deletable": false,
    "id": "8_yzFtW3_Zcu"
   },
   "outputs": [],
   "source": [
    "# количество прослушиваний в Санкт-Петербурге по пятницам\n",
    "k6 = number_tracks('Friday', 'Saint-Petersburg')"
   ]
  },
  {
   "cell_type": "markdown",
   "metadata": {
    "deletable": false,
    "editable": false,
    "id": "7QXffbO-_Zcu",
    "tags": [
     "start_task"
    ]
   },
   "source": [
    "**Задание 22**"
   ]
  },
  {
   "cell_type": "code",
   "execution_count": 27,
   "metadata": {
    "deletable": false,
    "id": "APAcLpOr_Zcu"
   },
   "outputs": [
    {
     "data": {
      "text/html": [
       "<div>\n",
       "<style scoped>\n",
       "    .dataframe tbody tr th:only-of-type {\n",
       "        vertical-align: middle;\n",
       "    }\n",
       "\n",
       "    .dataframe tbody tr th {\n",
       "        vertical-align: top;\n",
       "    }\n",
       "\n",
       "    .dataframe thead th {\n",
       "        text-align: right;\n",
       "    }\n",
       "</style>\n",
       "<table border=\"1\" class=\"dataframe\">\n",
       "  <thead>\n",
       "    <tr style=\"text-align: right;\">\n",
       "      <th></th>\n",
       "      <th>city</th>\n",
       "      <th>monday</th>\n",
       "      <th>wednesday</th>\n",
       "      <th>friday</th>\n",
       "    </tr>\n",
       "  </thead>\n",
       "  <tbody>\n",
       "    <tr>\n",
       "      <th>0</th>\n",
       "      <td>Moscow</td>\n",
       "      <td>15740</td>\n",
       "      <td>11056</td>\n",
       "      <td>15945</td>\n",
       "    </tr>\n",
       "    <tr>\n",
       "      <th>1</th>\n",
       "      <td>Saint-Petersburg</td>\n",
       "      <td>5614</td>\n",
       "      <td>7003</td>\n",
       "      <td>5895</td>\n",
       "    </tr>\n",
       "  </tbody>\n",
       "</table>\n",
       "</div>"
      ],
      "text/plain": [
       "               city  monday  wednesday  friday\n",
       "0            Moscow   15740      11056   15945\n",
       "1  Saint-Petersburg    5614       7003    5895"
      ]
     },
     "execution_count": 27,
     "metadata": {},
     "output_type": "execute_result"
    }
   ],
   "source": [
    "# создание таблицы с результатами\n",
    "# вывод таблицы на экран\n",
    "columns_ = ['city', 'monday', 'wednesday', 'friday']\n",
    "data_ = [\n",
    "    ['Moscow', k1,k3, k5],\n",
    "    ['Saint-Petersburg', k2,k4,k6]\n",
    "]\n",
    "df4 = pd.DataFrame(data = data_, columns = columns_)\n",
    "df4.head()"
   ]
  },
  {
   "cell_type": "markdown",
   "metadata": {
    "deletable": false,
    "editable": false,
    "id": "-EgPIHYu_Zcu"
   },
   "source": [
    "**Выводы**\n",
    "\n",
    "Данные показывают разницу поведения пользователей:\n",
    "\n",
    "- В Москве пик прослушиваний приходится на понедельник и пятницу, а в среду заметен спад.\n",
    "- В Петербурге, наоборот, больше слушают музыку по средам. Активность в понедельник и пятницу здесь почти в равной мере уступает среде.\n",
    "\n",
    "Значит, данные говорят в пользу первой гипотезы."
   ]
  },
  {
   "cell_type": "markdown",
   "metadata": {
    "deletable": false,
    "editable": false,
    "id": "atZAxtq4_Zcu"
   },
   "source": [
    "### Музыка в начале и в конце недели"
   ]
  },
  {
   "cell_type": "markdown",
   "metadata": {
    "deletable": false,
    "editable": false,
    "id": "eXrQqXFH_Zcu"
   },
   "source": [
    "Согласно второй гипотезе, утром в понедельник в Москве преобладают одни жанры, а в Петербурге — другие. Так же и вечером пятницы преобладают разные жанры — в зависимости от города."
   ]
  },
  {
   "cell_type": "markdown",
   "metadata": {
    "deletable": false,
    "editable": false,
    "id": "S8UcW6Hw_Zcu",
    "tags": [
     "start_task"
    ]
   },
   "source": [
    "**Задание 23**"
   ]
  },
  {
   "cell_type": "code",
   "execution_count": 28,
   "metadata": {
    "deletable": false,
    "id": "qeaFfM_P_Zcu"
   },
   "outputs": [],
   "source": [
    "# получение таблицы moscow_general из тех строк таблицы df,\n",
    "# для которых значение в столбце 'city' равно 'Moscow'\n",
    "moscow_general = df[df['city'] == 'Moscow']\n"
   ]
  },
  {
   "cell_type": "code",
   "execution_count": 29,
   "metadata": {
    "deletable": false,
    "id": "ORaVRKto_Zcu"
   },
   "outputs": [],
   "source": [
    "# получение таблицы spb_general из тех строк таблицы df,\n",
    "#для которых значение в столбце 'city' равно 'Saint-Petersburg'\n",
    "spb_general = df[df['city'] == 'Saint-Petersburg']"
   ]
  },
  {
   "cell_type": "markdown",
   "metadata": {
    "deletable": false,
    "editable": false,
    "id": "MEJV-CX2_Zcu",
    "tags": [
     "start_task"
    ]
   },
   "source": [
    "**Задание 24**"
   ]
  },
  {
   "cell_type": "code",
   "execution_count": 30,
   "metadata": {
    "deletable": false,
    "id": "laJT9BYl_Zcu"
   },
   "outputs": [],
   "source": [
    "def genre_weekday(df, day, time1, time2):\n",
    "    # последовательная фильтрация\n",
    "    # оставляем в genre_df только те строки df, у которых день равен day\n",
    "    genre_df = df[df['day'] == day]\n",
    "    # оставляем в genre_df только те строки genre_df, у которых время меньше time2\n",
    "    genre_df = genre_df[genre_df['time'] < time2]\n",
    "    # оставляем в genre_df только те строки genre_df, у которых время больше time1\n",
    "    genre_df = genre_df[genre_df['time'] > time1]\n",
    "    # сгруппируем отфильтрованный датафрейм по столбцу с названиями жанров, \n",
    "    #возьмём столбец genre и посчитаем кол-во строк для каждого жанра методом count()\n",
    "    genre_df_grouped = genre_df.sort_values(by = 'genre').groupby('genre')['genre'].count()\n",
    "    # отсортируем результат по убыванию \n",
    "    #(чтобы в начале Series оказались самые популярные жанры)\n",
    "    genre_df_sorted = genre_df_grouped.sort_values(ascending = False)\n",
    "    # вернём Series с 10 самыми популярными жанрами в указанный отрезок времени заданного дня\n",
    "    return genre_df_sorted[:10]\n"
   ]
  },
  {
   "cell_type": "markdown",
   "metadata": {
    "deletable": false,
    "editable": false,
    "id": "la2s2_PF_Zcu",
    "tags": [
     "start_task"
    ]
   },
   "source": [
    "**Задание 25**"
   ]
  },
  {
   "cell_type": "code",
   "execution_count": 31,
   "metadata": {
    "deletable": false,
    "id": "yz7itPUQ_Zcu"
   },
   "outputs": [
    {
     "data": {
      "text/plain": [
       "genre\n",
       "pop            781\n",
       "dance          549\n",
       "electronic     480\n",
       "rock           474\n",
       "hiphop         286\n",
       "ruspop         186\n",
       "world          181\n",
       "rusrap         175\n",
       "alternative    164\n",
       "unknown        161\n",
       "Name: genre, dtype: int64"
      ]
     },
     "execution_count": 31,
     "metadata": {},
     "output_type": "execute_result"
    }
   ],
   "source": [
    "# вызов функции для утра понедельника в Москве \n",
    "#(вместо df — таблица moscow_general)\n",
    "genre_weekday(moscow_general, 'Monday', '07:00', '11:00')\n"
   ]
  },
  {
   "cell_type": "code",
   "execution_count": 32,
   "metadata": {
    "deletable": false,
    "id": "kwUcHPdy_Zcu"
   },
   "outputs": [
    {
     "data": {
      "text/plain": [
       "genre\n",
       "pop            218\n",
       "dance          182\n",
       "rock           162\n",
       "electronic     147\n",
       "hiphop          80\n",
       "ruspop          64\n",
       "alternative     58\n",
       "rusrap          55\n",
       "jazz            44\n",
       "classical       40\n",
       "Name: genre, dtype: int64"
      ]
     },
     "execution_count": 32,
     "metadata": {},
     "output_type": "execute_result"
    }
   ],
   "source": [
    "# вызов функции для утра понедельника в\n",
    "#Петербурге (вместо df — таблица spb_general)\n",
    "\n",
    "genre_weekday(spb_general, 'Monday', '07:00', '11:00')"
   ]
  },
  {
   "cell_type": "code",
   "execution_count": 33,
   "metadata": {
    "deletable": false,
    "id": "EzXVRE1o_Zcu"
   },
   "outputs": [
    {
     "data": {
      "text/plain": [
       "genre\n",
       "pop            713\n",
       "rock           517\n",
       "dance          495\n",
       "electronic     482\n",
       "hiphop         273\n",
       "world          208\n",
       "ruspop         170\n",
       "alternative    163\n",
       "classical      163\n",
       "rusrap         142\n",
       "Name: genre, dtype: int64"
      ]
     },
     "execution_count": 33,
     "metadata": {},
     "output_type": "execute_result"
    }
   ],
   "source": [
    "# вызов функции для вечера пятницы в Москве\n",
    "genre_weekday(moscow_general, 'Friday',  '17:00', '23:00')"
   ]
  },
  {
   "cell_type": "code",
   "execution_count": 34,
   "metadata": {
    "deletable": false,
    "id": "JZaEKu5v_Zcu"
   },
   "outputs": [
    {
     "data": {
      "text/plain": [
       "genre\n",
       "pop            256\n",
       "electronic     216\n",
       "rock           216\n",
       "dance          210\n",
       "hiphop          97\n",
       "alternative     63\n",
       "jazz            61\n",
       "classical       60\n",
       "rusrap          59\n",
       "world           54\n",
       "Name: genre, dtype: int64"
      ]
     },
     "execution_count": 34,
     "metadata": {},
     "output_type": "execute_result"
    }
   ],
   "source": [
    "# вызов функции для вечера пятницы в Петербурге\n",
    "genre_weekday(spb_general, 'Friday', '17:00', '23:00')"
   ]
  },
  {
   "cell_type": "markdown",
   "metadata": {
    "deletable": false,
    "editable": false,
    "id": "wrCe4MNX_Zcu"
   },
   "source": [
    "**Выводы**\n",
    "\n",
    "Если сравнить топ-10 жанров в понедельник утром, можно сделать такие выводы:\n",
    "\n",
    "1. В Москве и Петербурге слушают похожую музыку. Единственное различие — в московский рейтинг вошёл жанр “world”, а в петербургский — джаз и классика.\n",
    "\n",
    "2. В Москве пропущенных значений оказалось так много, что значение `'unknown'` заняло десятое место среди самых популярных жанров. Значит, пропущенные значения занимают существенную долю в данных и угрожают достоверности исследования.\n",
    "\n",
    "Вечер пятницы не меняет эту картину. Некоторые жанры поднимаются немного выше, другие спускаются, но в целом топ-10 остаётся тем же самым.\n",
    "\n",
    "Таким образом, вторая гипотеза подтвердилась лишь частично:\n",
    "* Пользователи слушают похожую музыку в начале недели и в конце.\n",
    "* Разница между Москвой и Петербургом не слишком выражена. В Москве чаще слушают русскую популярную музыку, в Петербурге — джаз.\n",
    "\n",
    "Однако пропуски в данных ставят под сомнение этот результат. В Москве их так много, что рейтинг топ-10 мог бы выглядеть иначе, если бы не утерянные  данные о жанрах."
   ]
  },
  {
   "cell_type": "markdown",
   "metadata": {
    "deletable": false,
    "editable": false,
    "id": "JolODAqr_Zcu"
   },
   "source": [
    "### Жанровые предпочтения в Москве и Петербурге\n",
    "\n",
    "Гипотеза: Петербург — столица рэпа, музыку этого жанра там слушают чаще, чем в Москве.  А Москва — город контрастов, в котором, тем не менее, преобладает поп-музыка."
   ]
  },
  {
   "cell_type": "markdown",
   "metadata": {
    "deletable": false,
    "editable": false,
    "id": "DlegSvaT_Zcu",
    "tags": [
     "start_task"
    ]
   },
   "source": [
    "**Задание 26**"
   ]
  },
  {
   "cell_type": "code",
   "execution_count": 35,
   "metadata": {
    "deletable": false,
    "id": "r19lIPke_Zcu"
   },
   "outputs": [],
   "source": [
    "# одной строкой: группировка таблицы moscow_general\n",
    "#по столбцу 'genre', выбор столбца `genre`, подсчёт числа значений\n",
    "#'genre' методом count(), сохранение в moscow_genres\n",
    "\n",
    "moscow_genres = moscow_general.groupby('genre')['genre'].count()\n",
    "moscow_genres = moscow_genres.sort_values(ascending = False)\n",
    "# сортировка получившегося Series в порядке убывания \n",
    "#и сохранение обратно в moscow_genres\n",
    "\n",
    "\n"
   ]
  },
  {
   "cell_type": "markdown",
   "metadata": {
    "deletable": false,
    "editable": false,
    "id": "6kMuomxTiIr8",
    "tags": [
     "start_task"
    ]
   },
   "source": [
    "**Задание 27**"
   ]
  },
  {
   "cell_type": "code",
   "execution_count": 36,
   "metadata": {
    "deletable": false,
    "id": "WhCSooF8_Zcv"
   },
   "outputs": [
    {
     "data": {
      "text/plain": [
       "genre\n",
       "pop            5892\n",
       "dance          4435\n",
       "rock           3965\n",
       "electronic     3786\n",
       "hiphop         2096\n",
       "classical      1616\n",
       "world          1432\n",
       "alternative    1379\n",
       "ruspop         1372\n",
       "rusrap         1161\n",
       "Name: genre, dtype: int64"
      ]
     },
     "execution_count": 36,
     "metadata": {},
     "output_type": "execute_result"
    }
   ],
   "source": [
    "# просмотр первых 10 строк moscow_genres\n",
    "\n",
    "moscow_genres.head(10)"
   ]
  },
  {
   "cell_type": "markdown",
   "metadata": {
    "deletable": false,
    "editable": false,
    "id": "cnPG2vnN_Zcv",
    "tags": [
     "start_task"
    ]
   },
   "source": [
    "**Задание 28**"
   ]
  },
  {
   "cell_type": "code",
   "execution_count": 37,
   "metadata": {
    "deletable": false,
    "id": "gluLIpE7_Zcv"
   },
   "outputs": [],
   "source": [
    "# одной строкой: группировка таблицы spb_general по \n",
    "#столбцу 'genre', выбор столбца `genre`, подсчёт\n",
    "#числа значений 'genre' методом count(), сохранение в spb_genres\n",
    "spb_genres = spb_general.groupby('genre')['genre'].count()\n",
    "\n",
    "# сортировка получившегося Series в порядке \n",
    "#убывания и сохранение обратно в spb_genres\n",
    "spb_genres = spb_genres.sort_values(ascending = False)"
   ]
  },
  {
   "cell_type": "markdown",
   "metadata": {
    "deletable": false,
    "editable": false,
    "id": "5Doha_ODgyQ8",
    "tags": [
     "start_task"
    ]
   },
   "source": [
    "**Задание 29**"
   ]
  },
  {
   "cell_type": "code",
   "execution_count": 38,
   "metadata": {
    "deletable": false,
    "id": "uaGJHjVU_Zcv"
   },
   "outputs": [
    {
     "data": {
      "text/plain": [
       "genre\n",
       "pop            2431\n",
       "dance          1932\n",
       "rock           1879\n",
       "electronic     1736\n",
       "hiphop          960\n",
       "alternative     649\n",
       "classical       646\n",
       "rusrap          564\n",
       "ruspop          538\n",
       "world           515\n",
       "Name: genre, dtype: int64"
      ]
     },
     "execution_count": 38,
     "metadata": {},
     "output_type": "execute_result"
    }
   ],
   "source": [
    "# просмотр первых 10 строк spb_genres\n",
    "spb_genres.head(10)"
   ]
  },
  {
   "cell_type": "markdown",
   "metadata": {
    "deletable": false,
    "editable": false,
    "id": "RY51YJYu_Zcv"
   },
   "source": [
    "**Выводы**"
   ]
  },
  {
   "cell_type": "markdown",
   "metadata": {
    "deletable": false,
    "editable": false,
    "id": "nVhnJEm__Zcv"
   },
   "source": [
    "Гипотеза частично подтвердилась:\n",
    "* Поп-музыка — самый популярный жанр в Москве, как и предполагала гипотеза. Более того, в топ-10 жанров встречается близкий жанр — русская популярная музыка.\n",
    "* Вопреки ожиданиям, рэп одинаково популярен в Москве и Петербурге.\n"
   ]
  },
  {
   "cell_type": "markdown",
   "metadata": {
    "deletable": false,
    "editable": false,
    "id": "ykKQ0N65_Zcv"
   },
   "source": [
    "## Итоги исследования"
   ]
  },
  {
   "cell_type": "markdown",
   "metadata": {
    "deletable": false,
    "editable": false,
    "id": "tjUwbHb3_Zcv"
   },
   "source": [
    "Вы проверили три гипотезы и установили:\n",
    "\n",
    "1. День недели по-разному влияет на активность пользователей в Москве и Петербурге.\n",
    "\n",
    "Первая гипотеза полностью подтвердилась.\n",
    "\n",
    "2. Музыкальные предпочтения не сильно меняются в течение недели — будь то Москва или Петербург. Небольшие различия заметны в начале недели, по понедельникам:\n",
    "* в Москве слушают музыку жанра “world”,\n",
    "* в Петербурге — джаз и классику.\n",
    "\n",
    "Таким образом, вторая гипотеза подтвердилась лишь отчасти. Этот результат мог оказаться иным, если бы не пропуски в данных.\n",
    "\n",
    "3. Во вкусах пользователей Москвы и Петербурга больше общего, чем различий. Вопреки ожиданиям, предпочтения жанров в Петербурге напоминают московские.\n",
    "\n",
    "Третья гипотеза не подтвердилась. Если различия в предпочтениях и существуют, на основной массе пользователей они незаметны.\n",
    "\n",
    "**На практике исследования содержат проверки статистических гипотез.**\n",
    "Из части данных одного сервиса невозможно сделать какие-то выводы о всех пользователях сервиса без методов статистики.\n",
    "Проверки статистических гипотез покажут, насколько они достоверны, исходя из имеющихся данных.\n",
    "С методами проверок гипотез вы ещё познакомитесь в следующих темах."
   ]
  }
 ],
 "metadata": {
  "ExecuteTimeLog": [
   {
    "duration": 45,
    "start_time": "2024-03-05T11:36:30.348Z"
   },
   {
    "duration": 414,
    "start_time": "2024-03-05T11:36:37.738Z"
   },
   {
    "duration": 77,
    "start_time": "2024-03-05T11:36:39.658Z"
   },
   {
    "duration": 6,
    "start_time": "2024-03-05T11:36:46.579Z"
   },
   {
    "duration": 42,
    "start_time": "2024-03-05T11:37:32.203Z"
   },
   {
    "duration": 221,
    "start_time": "2024-03-05T11:41:00.755Z"
   },
   {
    "duration": 15,
    "start_time": "2024-03-05T11:41:03.059Z"
   },
   {
    "duration": 31,
    "start_time": "2024-03-05T11:42:08.124Z"
   },
   {
    "duration": 70,
    "start_time": "2024-03-05T11:45:15.675Z"
   },
   {
    "duration": 2,
    "start_time": "2024-03-05T11:45:31.221Z"
   },
   {
    "duration": 12,
    "start_time": "2024-03-05T11:47:09.211Z"
   },
   {
    "duration": 3,
    "start_time": "2024-03-05T11:47:33.875Z"
   },
   {
    "duration": 13,
    "start_time": "2024-03-05T11:47:52.497Z"
   },
   {
    "duration": 3,
    "start_time": "2024-03-05T11:48:00.176Z"
   },
   {
    "duration": 12,
    "start_time": "2024-03-05T11:48:14.083Z"
   },
   {
    "duration": 2,
    "start_time": "2024-03-05T11:48:16.372Z"
   },
   {
    "duration": 12,
    "start_time": "2024-03-05T11:48:26.188Z"
   },
   {
    "duration": 4,
    "start_time": "2024-03-05T11:48:28.627Z"
   },
   {
    "duration": 31,
    "start_time": "2024-03-05T11:48:43.235Z"
   },
   {
    "duration": 26,
    "start_time": "2024-03-05T11:48:48.200Z"
   },
   {
    "duration": 1103,
    "start_time": "2024-03-05T11:50:38.683Z"
   },
   {
    "duration": 20,
    "start_time": "2024-03-05T11:59:55.068Z"
   },
   {
    "duration": 6,
    "start_time": "2024-03-05T12:00:52.405Z"
   },
   {
    "duration": 70,
    "start_time": "2024-03-05T12:02:03.148Z"
   },
   {
    "duration": 61,
    "start_time": "2024-03-05T12:02:05.259Z"
   },
   {
    "duration": 16,
    "start_time": "2024-03-05T12:44:21.984Z"
   },
   {
    "duration": 18,
    "start_time": "2024-03-05T12:44:36.302Z"
   },
   {
    "duration": 26,
    "start_time": "2024-03-05T12:44:49.277Z"
   },
   {
    "duration": 59,
    "start_time": "2024-03-05T12:44:54.616Z"
   },
   {
    "duration": 70,
    "start_time": "2024-03-05T12:44:58.832Z"
   },
   {
    "duration": 60,
    "start_time": "2024-03-05T12:45:10.784Z"
   },
   {
    "duration": 10,
    "start_time": "2024-03-05T12:45:26.875Z"
   },
   {
    "duration": 12,
    "start_time": "2024-03-05T12:51:13.548Z"
   },
   {
    "duration": 10,
    "start_time": "2024-03-05T12:51:35.510Z"
   },
   {
    "duration": 10,
    "start_time": "2024-03-05T12:52:05.944Z"
   },
   {
    "duration": 39,
    "start_time": "2024-03-05T12:53:06.412Z"
   },
   {
    "duration": 46,
    "start_time": "2024-03-05T21:20:48.143Z"
   },
   {
    "duration": 6,
    "start_time": "2024-03-05T21:21:14.876Z"
   },
   {
    "duration": 16,
    "start_time": "2024-03-05T21:21:22.105Z"
   },
   {
    "duration": 395,
    "start_time": "2024-03-05T21:21:28.616Z"
   },
   {
    "duration": 472,
    "start_time": "2024-03-05T21:21:31.409Z"
   },
   {
    "duration": 21,
    "start_time": "2024-03-05T21:21:33.811Z"
   },
   {
    "duration": 29,
    "start_time": "2024-03-05T21:21:37.033Z"
   },
   {
    "duration": 6,
    "start_time": "2024-03-05T21:21:39.505Z"
   },
   {
    "duration": 3,
    "start_time": "2024-03-05T21:21:41.622Z"
   },
   {
    "duration": 11,
    "start_time": "2024-03-05T21:21:43.254Z"
   },
   {
    "duration": 4,
    "start_time": "2024-03-05T21:21:45.248Z"
   },
   {
    "duration": 27,
    "start_time": "2024-03-05T21:21:47.428Z"
   },
   {
    "duration": 21,
    "start_time": "2024-03-05T21:21:49.571Z"
   },
   {
    "duration": 38,
    "start_time": "2024-03-05T21:21:51.399Z"
   },
   {
    "duration": 63,
    "start_time": "2024-03-05T21:21:53.932Z"
   },
   {
    "duration": 84,
    "start_time": "2024-03-05T21:21:56.288Z"
   },
   {
    "duration": 76,
    "start_time": "2024-03-05T21:21:58.864Z"
   },
   {
    "duration": 44,
    "start_time": "2024-03-05T21:22:01.814Z"
   },
   {
    "duration": 7,
    "start_time": "2024-03-05T21:22:05.824Z"
   },
   {
    "duration": 52,
    "start_time": "2024-03-05T21:22:07.504Z"
   },
   {
    "duration": 10,
    "start_time": "2024-03-05T21:22:43.546Z"
   },
   {
    "duration": 41,
    "start_time": "2024-03-05T21:22:46.026Z"
   },
   {
    "duration": 4,
    "start_time": "2024-03-05T21:25:42.617Z"
   },
   {
    "duration": 3,
    "start_time": "2024-03-05T21:25:48.249Z"
   },
   {
    "duration": 3,
    "start_time": "2024-03-05T21:25:51.724Z"
   },
   {
    "duration": 13,
    "start_time": "2024-03-05T21:26:13.924Z"
   },
   {
    "duration": 16,
    "start_time": "2024-03-05T21:26:46.834Z"
   },
   {
    "duration": 1666,
    "start_time": "2024-03-05T21:27:54.888Z"
   },
   {
    "duration": 4,
    "start_time": "2024-03-05T21:28:17.455Z"
   },
   {
    "duration": 12,
    "start_time": "2024-03-05T21:28:22.928Z"
   },
   {
    "duration": 1626,
    "start_time": "2024-03-05T21:28:32.984Z"
   },
   {
    "duration": 28,
    "start_time": "2024-03-05T21:28:49.917Z"
   },
   {
    "duration": 20,
    "start_time": "2024-03-05T21:29:21.300Z"
   },
   {
    "duration": 9,
    "start_time": "2024-03-05T21:29:33.046Z"
   },
   {
    "duration": 15,
    "start_time": "2024-03-05T21:30:15.791Z"
   },
   {
    "duration": 81,
    "start_time": "2024-03-05T21:32:50.366Z"
   },
   {
    "duration": 71,
    "start_time": "2024-03-05T21:32:52.716Z"
   },
   {
    "duration": 35,
    "start_time": "2024-03-05T21:34:46.114Z"
   },
   {
    "duration": 10,
    "start_time": "2024-03-05T21:35:26.649Z"
   },
   {
    "duration": 51,
    "start_time": "2024-03-06T08:06:00.998Z"
   },
   {
    "duration": 420,
    "start_time": "2024-03-06T08:06:12.890Z"
   },
   {
    "duration": 269,
    "start_time": "2024-03-06T08:06:15.078Z"
   },
   {
    "duration": 18,
    "start_time": "2024-03-06T08:06:17.058Z"
   },
   {
    "duration": 11,
    "start_time": "2024-03-06T08:06:24.196Z"
   },
   {
    "duration": 29,
    "start_time": "2024-03-06T08:06:27.434Z"
   },
   {
    "duration": 29,
    "start_time": "2024-03-06T08:06:30.158Z"
   },
   {
    "duration": 29,
    "start_time": "2024-03-06T08:06:32.842Z"
   },
   {
    "duration": 72,
    "start_time": "2024-03-06T08:06:35.642Z"
   },
   {
    "duration": 88,
    "start_time": "2024-03-06T08:06:38.025Z"
   },
   {
    "duration": 70,
    "start_time": "2024-03-06T08:06:40.006Z"
   },
   {
    "duration": 47,
    "start_time": "2024-03-06T08:06:42.094Z"
   },
   {
    "duration": 11,
    "start_time": "2024-03-06T08:06:45.858Z"
   },
   {
    "duration": 47,
    "start_time": "2024-03-06T08:06:48.086Z"
   },
   {
    "duration": 37,
    "start_time": "2024-03-06T08:06:53.738Z"
   },
   {
    "duration": 33,
    "start_time": "2024-03-06T08:23:22.969Z"
   },
   {
    "duration": 1352,
    "start_time": "2024-03-06T08:30:01.824Z"
   },
   {
    "duration": 1289,
    "start_time": "2024-03-06T08:30:18.896Z"
   },
   {
    "duration": 7,
    "start_time": "2024-03-06T08:30:25.944Z"
   },
   {
    "duration": 121,
    "start_time": "2024-03-06T08:34:32.209Z"
   },
   {
    "duration": 7,
    "start_time": "2024-03-06T08:34:35.945Z"
   },
   {
    "duration": 17,
    "start_time": "2024-03-06T08:34:42.529Z"
   },
   {
    "duration": 15,
    "start_time": "2024-03-06T08:35:10.229Z"
   },
   {
    "duration": 16,
    "start_time": "2024-03-06T08:35:44.538Z"
   },
   {
    "duration": 441,
    "start_time": "2024-03-06T10:58:14.752Z"
   },
   {
    "duration": 260,
    "start_time": "2024-03-06T10:58:15.194Z"
   },
   {
    "duration": 18,
    "start_time": "2024-03-06T10:58:15.456Z"
   },
   {
    "duration": 34,
    "start_time": "2024-03-06T10:58:15.476Z"
   },
   {
    "duration": 3,
    "start_time": "2024-03-06T10:58:15.512Z"
   },
   {
    "duration": 23,
    "start_time": "2024-03-06T10:58:15.516Z"
   },
   {
    "duration": 22,
    "start_time": "2024-03-06T10:58:15.540Z"
   },
   {
    "duration": 15,
    "start_time": "2024-03-06T10:58:15.564Z"
   },
   {
    "duration": 39,
    "start_time": "2024-03-06T10:58:15.581Z"
   },
   {
    "duration": 21,
    "start_time": "2024-03-06T10:58:15.623Z"
   },
   {
    "duration": 27,
    "start_time": "2024-03-06T10:58:15.646Z"
   },
   {
    "duration": 72,
    "start_time": "2024-03-06T10:58:15.682Z"
   },
   {
    "duration": 110,
    "start_time": "2024-03-06T10:58:15.756Z"
   },
   {
    "duration": 68,
    "start_time": "2024-03-06T10:58:15.868Z"
   },
   {
    "duration": 65,
    "start_time": "2024-03-06T10:58:15.937Z"
   },
   {
    "duration": 12,
    "start_time": "2024-03-06T10:58:16.003Z"
   },
   {
    "duration": 49,
    "start_time": "2024-03-06T10:58:16.016Z"
   },
   {
    "duration": 52,
    "start_time": "2024-03-06T10:58:16.067Z"
   },
   {
    "duration": 88,
    "start_time": "2024-03-06T10:58:16.121Z"
   },
   {
    "duration": 0,
    "start_time": "2024-03-06T10:58:16.212Z"
   },
   {
    "duration": 0,
    "start_time": "2024-03-06T10:58:16.213Z"
   },
   {
    "duration": 0,
    "start_time": "2024-03-06T10:58:16.214Z"
   },
   {
    "duration": 0,
    "start_time": "2024-03-06T10:58:16.216Z"
   },
   {
    "duration": 0,
    "start_time": "2024-03-06T10:58:16.218Z"
   },
   {
    "duration": 0,
    "start_time": "2024-03-06T10:58:16.219Z"
   },
   {
    "duration": 0,
    "start_time": "2024-03-06T10:58:16.221Z"
   },
   {
    "duration": 0,
    "start_time": "2024-03-06T10:58:16.222Z"
   },
   {
    "duration": 0,
    "start_time": "2024-03-06T10:58:16.224Z"
   },
   {
    "duration": 0,
    "start_time": "2024-03-06T10:58:16.226Z"
   },
   {
    "duration": 0,
    "start_time": "2024-03-06T10:58:16.227Z"
   },
   {
    "duration": 0,
    "start_time": "2024-03-06T10:58:16.228Z"
   },
   {
    "duration": 0,
    "start_time": "2024-03-06T10:58:16.230Z"
   },
   {
    "duration": 0,
    "start_time": "2024-03-06T10:58:16.231Z"
   },
   {
    "duration": 0,
    "start_time": "2024-03-06T10:58:16.233Z"
   },
   {
    "duration": 0,
    "start_time": "2024-03-06T10:58:16.235Z"
   },
   {
    "duration": 0,
    "start_time": "2024-03-06T10:58:16.236Z"
   },
   {
    "duration": 0,
    "start_time": "2024-03-06T10:58:16.237Z"
   },
   {
    "duration": 0,
    "start_time": "2024-03-06T10:58:16.239Z"
   },
   {
    "duration": 10,
    "start_time": "2024-03-06T10:59:01.018Z"
   },
   {
    "duration": 15,
    "start_time": "2024-03-06T10:59:15.134Z"
   },
   {
    "duration": 22,
    "start_time": "2024-03-06T11:03:51.505Z"
   },
   {
    "duration": 14,
    "start_time": "2024-03-06T11:04:02.025Z"
   },
   {
    "duration": 3,
    "start_time": "2024-03-06T11:14:31.131Z"
   },
   {
    "duration": 5,
    "start_time": "2024-03-06T11:14:34.595Z"
   },
   {
    "duration": 3,
    "start_time": "2024-03-06T11:14:48.884Z"
   },
   {
    "duration": 12,
    "start_time": "2024-03-06T11:15:03.114Z"
   },
   {
    "duration": 16,
    "start_time": "2024-03-06T11:16:21.377Z"
   },
   {
    "duration": 74,
    "start_time": "2024-03-06T11:17:01.828Z"
   },
   {
    "duration": 20,
    "start_time": "2024-03-06T11:17:52.096Z"
   },
   {
    "duration": 13,
    "start_time": "2024-03-06T11:18:02.404Z"
   },
   {
    "duration": 65,
    "start_time": "2024-03-06T11:18:17.212Z"
   },
   {
    "duration": 80,
    "start_time": "2024-03-06T11:18:26.694Z"
   },
   {
    "duration": 41,
    "start_time": "2024-03-06T11:20:42.851Z"
   },
   {
    "duration": 57,
    "start_time": "2024-03-06T11:22:01.180Z"
   },
   {
    "duration": 418,
    "start_time": "2024-03-06T14:41:11.384Z"
   },
   {
    "duration": 259,
    "start_time": "2024-03-06T14:41:11.805Z"
   },
   {
    "duration": 25,
    "start_time": "2024-03-06T14:41:12.065Z"
   },
   {
    "duration": 40,
    "start_time": "2024-03-06T14:41:12.092Z"
   },
   {
    "duration": 29,
    "start_time": "2024-03-06T14:41:12.134Z"
   },
   {
    "duration": 49,
    "start_time": "2024-03-06T14:41:12.164Z"
   },
   {
    "duration": 29,
    "start_time": "2024-03-06T14:41:12.214Z"
   },
   {
    "duration": 28,
    "start_time": "2024-03-06T14:41:12.245Z"
   },
   {
    "duration": 49,
    "start_time": "2024-03-06T14:41:12.274Z"
   },
   {
    "duration": 52,
    "start_time": "2024-03-06T14:41:12.325Z"
   },
   {
    "duration": 43,
    "start_time": "2024-03-06T14:41:12.379Z"
   },
   {
    "duration": 84,
    "start_time": "2024-03-06T14:41:12.423Z"
   },
   {
    "duration": 86,
    "start_time": "2024-03-06T14:41:12.508Z"
   },
   {
    "duration": 72,
    "start_time": "2024-03-06T14:41:12.597Z"
   },
   {
    "duration": 42,
    "start_time": "2024-03-06T14:41:12.670Z"
   },
   {
    "duration": 9,
    "start_time": "2024-03-06T14:41:12.714Z"
   },
   {
    "duration": 63,
    "start_time": "2024-03-06T14:41:12.724Z"
   },
   {
    "duration": 11,
    "start_time": "2024-03-06T14:41:12.788Z"
   },
   {
    "duration": 87,
    "start_time": "2024-03-06T14:41:12.801Z"
   },
   {
    "duration": 0,
    "start_time": "2024-03-06T14:41:12.890Z"
   },
   {
    "duration": 0,
    "start_time": "2024-03-06T14:41:12.891Z"
   },
   {
    "duration": 0,
    "start_time": "2024-03-06T14:41:12.892Z"
   },
   {
    "duration": 0,
    "start_time": "2024-03-06T14:41:12.893Z"
   },
   {
    "duration": 0,
    "start_time": "2024-03-06T14:41:12.893Z"
   },
   {
    "duration": 0,
    "start_time": "2024-03-06T14:41:12.894Z"
   },
   {
    "duration": 0,
    "start_time": "2024-03-06T14:41:12.895Z"
   },
   {
    "duration": 0,
    "start_time": "2024-03-06T14:41:12.897Z"
   },
   {
    "duration": 0,
    "start_time": "2024-03-06T14:41:12.898Z"
   },
   {
    "duration": 0,
    "start_time": "2024-03-06T14:41:12.899Z"
   },
   {
    "duration": 0,
    "start_time": "2024-03-06T14:41:12.900Z"
   },
   {
    "duration": 0,
    "start_time": "2024-03-06T14:41:12.901Z"
   },
   {
    "duration": 0,
    "start_time": "2024-03-06T14:41:12.902Z"
   },
   {
    "duration": 0,
    "start_time": "2024-03-06T14:41:12.903Z"
   },
   {
    "duration": 0,
    "start_time": "2024-03-06T14:41:12.904Z"
   },
   {
    "duration": 0,
    "start_time": "2024-03-06T14:41:12.905Z"
   },
   {
    "duration": 0,
    "start_time": "2024-03-06T14:41:12.906Z"
   },
   {
    "duration": 0,
    "start_time": "2024-03-06T14:41:12.907Z"
   },
   {
    "duration": 0,
    "start_time": "2024-03-06T14:41:12.908Z"
   },
   {
    "duration": 88,
    "start_time": "2024-03-06T14:44:37.500Z"
   },
   {
    "duration": 94,
    "start_time": "2024-03-06T14:44:51.000Z"
   },
   {
    "duration": 33,
    "start_time": "2024-03-06T14:45:40.925Z"
   },
   {
    "duration": 38,
    "start_time": "2024-03-06T14:45:55.005Z"
   },
   {
    "duration": 40,
    "start_time": "2024-03-06T14:46:40.672Z"
   },
   {
    "duration": 33,
    "start_time": "2024-03-06T14:46:56.079Z"
   },
   {
    "duration": 43,
    "start_time": "2024-03-06T14:47:08.031Z"
   },
   {
    "duration": 41,
    "start_time": "2024-03-06T14:47:14.330Z"
   },
   {
    "duration": 46,
    "start_time": "2024-03-06T14:48:07.501Z"
   },
   {
    "duration": 39,
    "start_time": "2024-03-06T14:49:11.834Z"
   },
   {
    "duration": 33,
    "start_time": "2024-03-06T14:49:26.097Z"
   },
   {
    "duration": 47,
    "start_time": "2024-03-06T14:49:36.583Z"
   },
   {
    "duration": 41,
    "start_time": "2024-03-06T14:50:01.008Z"
   },
   {
    "duration": 32,
    "start_time": "2024-03-06T14:50:11.282Z"
   },
   {
    "duration": 32,
    "start_time": "2024-03-06T14:50:16.434Z"
   },
   {
    "duration": 32,
    "start_time": "2024-03-06T14:50:27.381Z"
   },
   {
    "duration": 44,
    "start_time": "2024-03-06T14:53:51.251Z"
   },
   {
    "duration": 41,
    "start_time": "2024-03-06T14:54:26.259Z"
   },
   {
    "duration": 119,
    "start_time": "2024-03-06T14:54:50.848Z"
   },
   {
    "duration": 112,
    "start_time": "2024-03-06T14:55:00.851Z"
   },
   {
    "duration": 34,
    "start_time": "2024-03-06T14:55:06.967Z"
   },
   {
    "duration": 99,
    "start_time": "2024-03-06T14:56:28.611Z"
   },
   {
    "duration": 28,
    "start_time": "2024-03-06T14:56:39.375Z"
   },
   {
    "duration": 20,
    "start_time": "2024-03-06T14:57:28.467Z"
   },
   {
    "duration": 19,
    "start_time": "2024-03-06T14:57:34.067Z"
   },
   {
    "duration": 2,
    "start_time": "2024-03-06T14:59:32.979Z"
   },
   {
    "duration": 201,
    "start_time": "2024-03-06T14:59:32.983Z"
   },
   {
    "duration": 9,
    "start_time": "2024-03-06T14:59:33.186Z"
   },
   {
    "duration": 46,
    "start_time": "2024-03-06T14:59:33.197Z"
   },
   {
    "duration": 2,
    "start_time": "2024-03-06T14:59:33.245Z"
   },
   {
    "duration": 5,
    "start_time": "2024-03-06T14:59:33.248Z"
   },
   {
    "duration": 22,
    "start_time": "2024-03-06T14:59:33.255Z"
   },
   {
    "duration": 12,
    "start_time": "2024-03-06T14:59:33.278Z"
   },
   {
    "duration": 32,
    "start_time": "2024-03-06T14:59:33.291Z"
   },
   {
    "duration": 18,
    "start_time": "2024-03-06T14:59:33.325Z"
   },
   {
    "duration": 34,
    "start_time": "2024-03-06T14:59:33.344Z"
   },
   {
    "duration": 59,
    "start_time": "2024-03-06T14:59:33.380Z"
   },
   {
    "duration": 82,
    "start_time": "2024-03-06T14:59:33.441Z"
   },
   {
    "duration": 62,
    "start_time": "2024-03-06T14:59:33.526Z"
   },
   {
    "duration": 42,
    "start_time": "2024-03-06T14:59:33.589Z"
   },
   {
    "duration": 10,
    "start_time": "2024-03-06T14:59:33.633Z"
   },
   {
    "duration": 62,
    "start_time": "2024-03-06T14:59:33.645Z"
   },
   {
    "duration": 11,
    "start_time": "2024-03-06T14:59:33.709Z"
   },
   {
    "duration": 36,
    "start_time": "2024-03-06T14:59:33.722Z"
   },
   {
    "duration": 0,
    "start_time": "2024-03-06T14:59:33.760Z"
   },
   {
    "duration": 0,
    "start_time": "2024-03-06T14:59:33.765Z"
   },
   {
    "duration": 0,
    "start_time": "2024-03-06T14:59:33.767Z"
   },
   {
    "duration": 0,
    "start_time": "2024-03-06T14:59:33.768Z"
   },
   {
    "duration": 0,
    "start_time": "2024-03-06T14:59:33.769Z"
   },
   {
    "duration": 0,
    "start_time": "2024-03-06T14:59:33.771Z"
   },
   {
    "duration": 0,
    "start_time": "2024-03-06T14:59:33.772Z"
   },
   {
    "duration": 0,
    "start_time": "2024-03-06T14:59:33.774Z"
   },
   {
    "duration": 0,
    "start_time": "2024-03-06T14:59:33.775Z"
   },
   {
    "duration": 0,
    "start_time": "2024-03-06T14:59:33.776Z"
   },
   {
    "duration": 0,
    "start_time": "2024-03-06T14:59:33.778Z"
   },
   {
    "duration": 0,
    "start_time": "2024-03-06T14:59:33.779Z"
   },
   {
    "duration": 0,
    "start_time": "2024-03-06T14:59:33.780Z"
   },
   {
    "duration": 0,
    "start_time": "2024-03-06T14:59:33.782Z"
   },
   {
    "duration": 0,
    "start_time": "2024-03-06T14:59:33.783Z"
   },
   {
    "duration": 0,
    "start_time": "2024-03-06T14:59:33.784Z"
   },
   {
    "duration": 0,
    "start_time": "2024-03-06T14:59:33.786Z"
   },
   {
    "duration": 0,
    "start_time": "2024-03-06T14:59:33.787Z"
   },
   {
    "duration": 0,
    "start_time": "2024-03-06T14:59:33.789Z"
   },
   {
    "duration": 20,
    "start_time": "2024-03-06T14:59:59.243Z"
   },
   {
    "duration": 24,
    "start_time": "2024-03-06T15:00:42.504Z"
   },
   {
    "duration": 21,
    "start_time": "2024-03-06T15:00:48.252Z"
   },
   {
    "duration": 27,
    "start_time": "2024-03-06T15:00:53.018Z"
   },
   {
    "duration": 1239,
    "start_time": "2024-03-06T15:01:09.095Z"
   },
   {
    "duration": 50,
    "start_time": "2024-03-06T15:03:31.770Z"
   },
   {
    "duration": 49,
    "start_time": "2024-03-06T15:04:03.653Z"
   },
   {
    "duration": 31,
    "start_time": "2024-03-06T15:04:08.129Z"
   },
   {
    "duration": 2,
    "start_time": "2024-03-06T15:09:32.473Z"
   },
   {
    "duration": 242,
    "start_time": "2024-03-06T15:09:32.477Z"
   },
   {
    "duration": 11,
    "start_time": "2024-03-06T15:09:32.720Z"
   },
   {
    "duration": 46,
    "start_time": "2024-03-06T15:09:32.733Z"
   },
   {
    "duration": 4,
    "start_time": "2024-03-06T15:09:32.781Z"
   },
   {
    "duration": 18,
    "start_time": "2024-03-06T15:09:32.787Z"
   },
   {
    "duration": 19,
    "start_time": "2024-03-06T15:09:32.807Z"
   },
   {
    "duration": 7,
    "start_time": "2024-03-06T15:09:32.828Z"
   },
   {
    "duration": 63,
    "start_time": "2024-03-06T15:09:32.837Z"
   },
   {
    "duration": 27,
    "start_time": "2024-03-06T15:09:32.902Z"
   },
   {
    "duration": 39,
    "start_time": "2024-03-06T15:09:32.931Z"
   },
   {
    "duration": 88,
    "start_time": "2024-03-06T15:09:32.972Z"
   },
   {
    "duration": 89,
    "start_time": "2024-03-06T15:09:33.062Z"
   },
   {
    "duration": 62,
    "start_time": "2024-03-06T15:09:33.155Z"
   },
   {
    "duration": 48,
    "start_time": "2024-03-06T15:09:33.218Z"
   },
   {
    "duration": 9,
    "start_time": "2024-03-06T15:09:33.268Z"
   },
   {
    "duration": 61,
    "start_time": "2024-03-06T15:09:33.278Z"
   },
   {
    "duration": 10,
    "start_time": "2024-03-06T15:09:33.340Z"
   },
   {
    "duration": 49,
    "start_time": "2024-03-06T15:09:33.351Z"
   },
   {
    "duration": 0,
    "start_time": "2024-03-06T15:09:33.401Z"
   },
   {
    "duration": 0,
    "start_time": "2024-03-06T15:09:33.402Z"
   },
   {
    "duration": 0,
    "start_time": "2024-03-06T15:09:33.403Z"
   },
   {
    "duration": 0,
    "start_time": "2024-03-06T15:09:33.404Z"
   },
   {
    "duration": 0,
    "start_time": "2024-03-06T15:09:33.405Z"
   },
   {
    "duration": 0,
    "start_time": "2024-03-06T15:09:33.406Z"
   },
   {
    "duration": 0,
    "start_time": "2024-03-06T15:09:33.407Z"
   },
   {
    "duration": 0,
    "start_time": "2024-03-06T15:09:33.408Z"
   },
   {
    "duration": 0,
    "start_time": "2024-03-06T15:09:33.410Z"
   },
   {
    "duration": 0,
    "start_time": "2024-03-06T15:09:33.411Z"
   },
   {
    "duration": 0,
    "start_time": "2024-03-06T15:09:33.412Z"
   },
   {
    "duration": 0,
    "start_time": "2024-03-06T15:09:33.414Z"
   },
   {
    "duration": 0,
    "start_time": "2024-03-06T15:09:33.415Z"
   },
   {
    "duration": 0,
    "start_time": "2024-03-06T15:09:33.417Z"
   },
   {
    "duration": 0,
    "start_time": "2024-03-06T15:09:33.418Z"
   },
   {
    "duration": 0,
    "start_time": "2024-03-06T15:09:33.419Z"
   },
   {
    "duration": 0,
    "start_time": "2024-03-06T15:09:33.420Z"
   },
   {
    "duration": 0,
    "start_time": "2024-03-06T15:09:33.421Z"
   },
   {
    "duration": 0,
    "start_time": "2024-03-06T15:09:33.422Z"
   },
   {
    "duration": 32,
    "start_time": "2024-03-06T15:10:01.655Z"
   },
   {
    "duration": 47,
    "start_time": "2024-03-06T15:10:10.816Z"
   },
   {
    "duration": 40,
    "start_time": "2024-03-06T15:10:49.502Z"
   },
   {
    "duration": 84,
    "start_time": "2024-03-06T15:11:15.196Z"
   },
   {
    "duration": 1210,
    "start_time": "2024-03-06T15:11:22.569Z"
   },
   {
    "duration": 1224,
    "start_time": "2024-03-06T15:11:51.233Z"
   },
   {
    "duration": 36,
    "start_time": "2024-03-06T15:11:57.470Z"
   },
   {
    "duration": 1127,
    "start_time": "2024-03-06T15:12:24.039Z"
   },
   {
    "duration": 30,
    "start_time": "2024-03-06T15:13:05.324Z"
   },
   {
    "duration": 32,
    "start_time": "2024-03-06T15:13:13.021Z"
   },
   {
    "duration": 44,
    "start_time": "2024-03-06T15:13:16.596Z"
   },
   {
    "duration": 31,
    "start_time": "2024-03-06T15:13:20.290Z"
   },
   {
    "duration": 38,
    "start_time": "2024-03-06T15:13:24.230Z"
   },
   {
    "duration": 39,
    "start_time": "2024-03-06T15:15:20.987Z"
   },
   {
    "duration": 56,
    "start_time": "2024-03-06T15:15:37.733Z"
   },
   {
    "duration": 39,
    "start_time": "2024-03-06T15:15:46.530Z"
   },
   {
    "duration": 41,
    "start_time": "2024-03-06T15:16:33.990Z"
   },
   {
    "duration": 54,
    "start_time": "2024-03-06T15:16:38.648Z"
   },
   {
    "duration": 12,
    "start_time": "2024-03-06T15:18:24.406Z"
   },
   {
    "duration": 11,
    "start_time": "2024-03-06T15:18:31.311Z"
   },
   {
    "duration": 20,
    "start_time": "2024-03-06T15:18:37.035Z"
   },
   {
    "duration": 13,
    "start_time": "2024-03-06T15:18:51.459Z"
   },
   {
    "duration": 22,
    "start_time": "2024-03-06T15:19:01.045Z"
   },
   {
    "duration": 17,
    "start_time": "2024-03-06T15:19:22.015Z"
   },
   {
    "duration": 32,
    "start_time": "2024-03-06T15:19:43.626Z"
   },
   {
    "duration": 66,
    "start_time": "2024-03-06T15:20:13.660Z"
   },
   {
    "duration": 26,
    "start_time": "2024-03-06T15:20:55.110Z"
   },
   {
    "duration": 32,
    "start_time": "2024-03-06T15:21:03.630Z"
   },
   {
    "duration": 11,
    "start_time": "2024-03-06T15:21:13.242Z"
   },
   {
    "duration": 416,
    "start_time": "2024-03-06T19:18:13.234Z"
   },
   {
    "duration": 491,
    "start_time": "2024-03-06T19:18:13.652Z"
   },
   {
    "duration": 18,
    "start_time": "2024-03-06T19:18:14.145Z"
   },
   {
    "duration": 44,
    "start_time": "2024-03-06T19:18:14.165Z"
   },
   {
    "duration": 3,
    "start_time": "2024-03-06T19:18:14.211Z"
   },
   {
    "duration": 16,
    "start_time": "2024-03-06T19:18:14.215Z"
   },
   {
    "duration": 12,
    "start_time": "2024-03-06T19:18:14.233Z"
   },
   {
    "duration": 27,
    "start_time": "2024-03-06T19:18:14.247Z"
   },
   {
    "duration": 37,
    "start_time": "2024-03-06T19:18:14.275Z"
   },
   {
    "duration": 27,
    "start_time": "2024-03-06T19:18:14.314Z"
   },
   {
    "duration": 50,
    "start_time": "2024-03-06T19:18:14.343Z"
   },
   {
    "duration": 103,
    "start_time": "2024-03-06T19:18:14.395Z"
   },
   {
    "duration": 93,
    "start_time": "2024-03-06T19:18:14.501Z"
   },
   {
    "duration": 66,
    "start_time": "2024-03-06T19:18:14.596Z"
   },
   {
    "duration": 46,
    "start_time": "2024-03-06T19:18:14.669Z"
   },
   {
    "duration": 15,
    "start_time": "2024-03-06T19:18:14.718Z"
   },
   {
    "duration": 87,
    "start_time": "2024-03-06T19:18:14.736Z"
   },
   {
    "duration": 13,
    "start_time": "2024-03-06T19:18:14.825Z"
   },
   {
    "duration": 14,
    "start_time": "2024-03-06T19:18:16.328Z"
   },
   {
    "duration": 4,
    "start_time": "2024-03-06T19:36:31.941Z"
   },
   {
    "duration": 406,
    "start_time": "2024-03-06T19:51:22.790Z"
   },
   {
    "duration": 188,
    "start_time": "2024-03-06T19:51:23.198Z"
   },
   {
    "duration": 17,
    "start_time": "2024-03-06T19:51:23.388Z"
   },
   {
    "duration": 33,
    "start_time": "2024-03-06T19:51:23.407Z"
   },
   {
    "duration": 2,
    "start_time": "2024-03-06T19:51:23.443Z"
   },
   {
    "duration": 25,
    "start_time": "2024-03-06T19:51:23.447Z"
   },
   {
    "duration": 11,
    "start_time": "2024-03-06T19:51:23.474Z"
   },
   {
    "duration": 5,
    "start_time": "2024-03-06T19:51:23.487Z"
   },
   {
    "duration": 31,
    "start_time": "2024-03-06T19:51:23.494Z"
   },
   {
    "duration": 53,
    "start_time": "2024-03-06T19:51:23.527Z"
   },
   {
    "duration": 28,
    "start_time": "2024-03-06T19:51:23.582Z"
   },
   {
    "duration": 86,
    "start_time": "2024-03-06T19:51:23.612Z"
   },
   {
    "duration": 88,
    "start_time": "2024-03-06T19:51:23.700Z"
   },
   {
    "duration": 62,
    "start_time": "2024-03-06T19:51:23.792Z"
   },
   {
    "duration": 55,
    "start_time": "2024-03-06T19:51:23.855Z"
   },
   {
    "duration": 12,
    "start_time": "2024-03-06T19:51:23.911Z"
   },
   {
    "duration": 61,
    "start_time": "2024-03-06T19:51:23.925Z"
   },
   {
    "duration": 11,
    "start_time": "2024-03-06T19:51:23.988Z"
   },
   {
    "duration": 11,
    "start_time": "2024-03-06T19:51:24.001Z"
   },
   {
    "duration": 3,
    "start_time": "2024-03-06T19:51:24.014Z"
   },
   {
    "duration": 6,
    "start_time": "2024-03-06T19:51:24.018Z"
   },
   {
    "duration": 5,
    "start_time": "2024-03-06T19:51:24.025Z"
   },
   {
    "duration": 7,
    "start_time": "2024-03-06T19:51:24.031Z"
   },
   {
    "duration": 4,
    "start_time": "2024-03-06T19:51:24.040Z"
   },
   {
    "duration": 2,
    "start_time": "2024-03-06T19:51:24.070Z"
   },
   {
    "duration": 4,
    "start_time": "2024-03-06T19:51:24.073Z"
   },
   {
    "duration": 4,
    "start_time": "2024-03-06T19:51:24.078Z"
   },
   {
    "duration": 4,
    "start_time": "2024-03-06T19:51:24.083Z"
   },
   {
    "duration": 4,
    "start_time": "2024-03-06T19:51:24.089Z"
   },
   {
    "duration": 101,
    "start_time": "2024-03-06T19:51:24.095Z"
   },
   {
    "duration": 0,
    "start_time": "2024-03-06T19:51:24.198Z"
   },
   {
    "duration": 0,
    "start_time": "2024-03-06T19:51:24.199Z"
   },
   {
    "duration": 0,
    "start_time": "2024-03-06T19:51:24.200Z"
   },
   {
    "duration": 0,
    "start_time": "2024-03-06T19:51:24.201Z"
   },
   {
    "duration": 0,
    "start_time": "2024-03-06T19:51:24.202Z"
   },
   {
    "duration": 0,
    "start_time": "2024-03-06T19:51:24.203Z"
   },
   {
    "duration": 0,
    "start_time": "2024-03-06T19:51:24.204Z"
   },
   {
    "duration": 0,
    "start_time": "2024-03-06T19:51:24.205Z"
   },
   {
    "duration": 3,
    "start_time": "2024-03-06T19:51:33.045Z"
   },
   {
    "duration": 63,
    "start_time": "2024-03-06T19:57:51.358Z"
   },
   {
    "duration": 8,
    "start_time": "2024-03-06T20:02:57.085Z"
   },
   {
    "duration": 8,
    "start_time": "2024-03-06T20:03:02.417Z"
   },
   {
    "duration": 7,
    "start_time": "2024-03-06T20:03:04.167Z"
   },
   {
    "duration": 8,
    "start_time": "2024-03-06T20:03:05.852Z"
   },
   {
    "duration": 7,
    "start_time": "2024-03-06T20:03:08.232Z"
   },
   {
    "duration": 7,
    "start_time": "2024-03-06T20:03:10.017Z"
   },
   {
    "duration": 7,
    "start_time": "2024-03-06T20:03:11.617Z"
   },
   {
    "duration": 8,
    "start_time": "2024-03-06T20:03:14.665Z"
   },
   {
    "duration": 13,
    "start_time": "2024-03-06T20:03:19.800Z"
   },
   {
    "duration": 12,
    "start_time": "2024-03-06T20:03:42.282Z"
   },
   {
    "duration": 14,
    "start_time": "2024-03-06T20:04:21.399Z"
   },
   {
    "duration": 4,
    "start_time": "2024-03-06T20:11:55.824Z"
   },
   {
    "duration": 9,
    "start_time": "2024-03-06T20:12:05.768Z"
   },
   {
    "duration": 4,
    "start_time": "2024-03-06T20:12:30.016Z"
   },
   {
    "duration": 9,
    "start_time": "2024-03-06T20:12:41.021Z"
   },
   {
    "duration": 15,
    "start_time": "2024-03-06T20:34:55.045Z"
   },
   {
    "duration": 4,
    "start_time": "2024-03-06T20:38:23.479Z"
   },
   {
    "duration": 4,
    "start_time": "2024-03-06T20:40:17.849Z"
   },
   {
    "duration": 10,
    "start_time": "2024-03-06T20:48:50.241Z"
   },
   {
    "duration": 7,
    "start_time": "2024-03-06T21:01:30.069Z"
   },
   {
    "duration": 5,
    "start_time": "2024-03-06T21:01:48.145Z"
   },
   {
    "duration": 415,
    "start_time": "2024-03-17T20:55:08.597Z"
   },
   {
    "duration": 261,
    "start_time": "2024-03-17T20:55:09.013Z"
   },
   {
    "duration": 18,
    "start_time": "2024-03-17T20:55:09.276Z"
   },
   {
    "duration": 34,
    "start_time": "2024-03-17T20:55:09.296Z"
   },
   {
    "duration": 3,
    "start_time": "2024-03-17T20:55:09.332Z"
   },
   {
    "duration": 5,
    "start_time": "2024-03-17T20:55:09.336Z"
   },
   {
    "duration": 11,
    "start_time": "2024-03-17T20:55:09.343Z"
   },
   {
    "duration": 28,
    "start_time": "2024-03-17T20:55:09.356Z"
   },
   {
    "duration": 29,
    "start_time": "2024-03-17T20:55:09.386Z"
   },
   {
    "duration": 22,
    "start_time": "2024-03-17T20:55:09.417Z"
   },
   {
    "duration": 61,
    "start_time": "2024-03-17T20:55:09.441Z"
   },
   {
    "duration": 89,
    "start_time": "2024-03-17T20:55:09.504Z"
   },
   {
    "duration": 104,
    "start_time": "2024-03-17T20:55:09.595Z"
   },
   {
    "duration": 66,
    "start_time": "2024-03-17T20:55:09.702Z"
   },
   {
    "duration": 56,
    "start_time": "2024-03-17T20:55:09.770Z"
   },
   {
    "duration": 12,
    "start_time": "2024-03-17T20:55:09.828Z"
   },
   {
    "duration": 73,
    "start_time": "2024-03-17T20:55:09.841Z"
   },
   {
    "duration": 12,
    "start_time": "2024-03-17T20:55:09.915Z"
   },
   {
    "duration": 11,
    "start_time": "2024-03-17T20:55:09.928Z"
   },
   {
    "duration": 3,
    "start_time": "2024-03-17T20:55:09.941Z"
   },
   {
    "duration": 48,
    "start_time": "2024-03-17T20:55:09.945Z"
   },
   {
    "duration": 18,
    "start_time": "2024-03-17T20:55:09.994Z"
   },
   {
    "duration": 18,
    "start_time": "2024-03-17T20:55:10.014Z"
   },
   {
    "duration": 20,
    "start_time": "2024-03-17T20:55:10.034Z"
   },
   {
    "duration": 42,
    "start_time": "2024-03-17T20:55:10.055Z"
   },
   {
    "duration": 19,
    "start_time": "2024-03-17T20:55:10.098Z"
   },
   {
    "duration": 22,
    "start_time": "2024-03-17T20:55:10.118Z"
   },
   {
    "duration": 15,
    "start_time": "2024-03-17T20:55:10.141Z"
   },
   {
    "duration": 25,
    "start_time": "2024-03-17T20:55:10.158Z"
   },
   {
    "duration": 4,
    "start_time": "2024-03-17T20:55:10.184Z"
   },
   {
    "duration": 25,
    "start_time": "2024-03-17T20:55:10.190Z"
   },
   {
    "duration": 13,
    "start_time": "2024-03-17T20:55:10.216Z"
   },
   {
    "duration": 23,
    "start_time": "2024-03-17T20:55:10.231Z"
   },
   {
    "duration": 37,
    "start_time": "2024-03-17T20:55:10.256Z"
   },
   {
    "duration": 10,
    "start_time": "2024-03-17T20:55:10.294Z"
   },
   {
    "duration": 5,
    "start_time": "2024-03-17T20:55:10.305Z"
   },
   {
    "duration": 6,
    "start_time": "2024-03-17T20:55:10.312Z"
   },
   {
    "duration": 8,
    "start_time": "2024-03-17T20:55:10.320Z"
   },
   {
    "duration": 337,
    "start_time": "2024-03-17T20:55:23.879Z"
   },
   {
    "duration": 12,
    "start_time": "2024-03-17T20:55:28.600Z"
   }
  ],
  "celltoolbar": "Отсутствует",
  "colab": {
   "collapsed_sections": [
    "E0vqbgi9ay0H",
    "VUC88oWjTJw2"
   ],
   "provenance": []
  },
  "kernelspec": {
   "display_name": "Python 3 (ipykernel)",
   "language": "python",
   "name": "python3"
  },
  "language_info": {
   "codemirror_mode": {
    "name": "ipython",
    "version": 3
   },
   "file_extension": ".py",
   "mimetype": "text/x-python",
   "name": "python",
   "nbconvert_exporter": "python",
   "pygments_lexer": "ipython3",
   "version": "3.9.12"
  },
  "toc": {
   "base_numbering": 1,
   "nav_menu": {
    "height": "215px",
    "width": "403px"
   },
   "number_sections": true,
   "sideBar": true,
   "skip_h1_title": true,
   "title_cell": "Table of Contents",
   "title_sidebar": "Contents",
   "toc_cell": false,
   "toc_position": {
    "height": "calc(100% - 180px)",
    "left": "10px",
    "top": "150px",
    "width": "285.825px"
   },
   "toc_section_display": true,
   "toc_window_display": false
  }
 },
 "nbformat": 4,
 "nbformat_minor": 1
}
