{
 "cells": [
  {
   "cell_type": "markdown",
   "id": "f4ec8b0f",
   "metadata": {},
   "source": [
    "<div style=\"border:solid Purple 2px; padding: 40px\">\n",
    "\n",
    "<b>Привет, Илья!👋\n",
    "\n",
    "Меня зовут Эльвира, я буду ревьюером твоего проекта. Предлагаю общаться на «ты», но если это не удобно - дай мне знать, и мы перейдем на «вы».\n",
    "\n",
    "\n",
    "Ты можешь найти мои комментарии, обозначенные <font color='green'>зеленым</font>, <font color='gold'>желтым</font> и <font color='red'>красным</font> цветами, например:\n",
    "\n",
    "\n",
    "<div class=\"alert alert-success\">\n",
    "<h2> Комментарий ревьюера 😊<a class=\"tocSkip\"> </h2>\n",
    "    \n",
    "Такими комментариями я буду помечать отлично проделаную работу😉\n",
    "</div>\n",
    "    \n",
    "<div class=\"alert alert-warning\">\n",
    "<h2> Комментарий ревьюера 🤓<a class=\"tocSkip\"> </h2>\n",
    "        \n",
    "В таких комментариях я постараюсь подсказать тебе более элегантное или легкое решение, некоторые хитрости и фишки. Части проекта, помеченные такими комментариями, можно не исправлять, но рекомендую обратить на них внимание.</div>\n",
    "\n",
    "<div class=\"alert alert-block alert-danger\">\n",
    "<h2> Комментарий ревьюера ⛔️<a class=\"tocSkip\"></h2>\n",
    "    \n",
    "В случае, когда решение на отдельном шаге требует существенной переработки и внесения правок. Если ты видишь такой комментарий, значит здесть есть недочет, который следует исправить.\n",
    "</div>\n",
    "\n",
    "Ты также можешь реагировать на мои комментарии своими, выделяя их цветами и наиболее понравившимся тебе способом оформления, но явно  отличающимся от моих комментариев. Это нужно, чтобы не создавалась путаница🙃\n",
    "    \n",
    "`<div class=\"alert alert-info\"> <b>Комментарий студента:</b> Например, вот так.</div>`\n",
    "\n",
    "Чтобы сделать подобный блок, кликни здесь дважды и скопируй всю предыдущую строку ;)\n",
    "    \n",
    "Пожалуйста, не удаляй и не перемещай мои комментарии, они будут особенно полезны для нашей работы в случае повторной проверки проекта.</div></b>"
   ]
  },
  {
   "cell_type": "markdown",
   "id": "38e79a1b",
   "metadata": {},
   "source": [
    "<div class=\"alert alert-block alert-danger\">\n",
    "<h2> Комментарий ревьюера ⛔️<a class=\"tocSkip\"></h2>\n",
    "<s>\n",
    "Введение, как и общий вывод - важные части твоей работы, на которые в первую очередь обращает внимание заказчик. Давай добавим следующие пункты:\n",
    "* заголовок,\n",
    "\n",
    "* краткое описание проекта,\n",
    "\n",
    "* выделим цель проекта\n",
    "\n",
    "* описание данных\n",
    "\n",
    "* краткий план работы, выделим основные этапы, которые должны сделать.\n",
    "\n",
    "Тогда получатель отчета сможет быстрей его понять.\n",
    "\n",
    "</div>"
   ]
  },
  {
   "cell_type": "markdown",
   "id": "3f53a23d",
   "metadata": {},
   "source": [
    "<div class=\"alert alert-block alert-info\">\n",
    "Исправленные-дополненные комментарии буду помечать голубым цветом (как, собственно, и этот комментарий)"
   ]
  },
  {
   "cell_type": "markdown",
   "id": "b6c6327a",
   "metadata": {},
   "source": [
    "<div class=\"alert alert-success\">\n",
    "<h2> Комментарий ревьюера 😊 v_2 <a class=\"tocSkip\"> </h2>\n",
    "\n",
    "Принято)"
   ]
  },
  {
   "cell_type": "markdown",
   "id": "16e18922",
   "metadata": {},
   "source": [
    "\n",
    "# Введение\n",
    "### Рынок российского кинопроката\n",
    "<div class=\"alert alert-block alert-info\">\n",
    "Набор данных содержит информацию о прокатных удостоверениях, сборах и государственной поддержке фильмов, а также информацию с сайта КиноПоиск. \n",
    "Цель проекта - изучить рынок российского кинопроката и выявить текущие тренды!\n"
   ]
  },
  {
   "cell_type": "markdown",
   "id": "a45e94b9",
   "metadata": {},
   "source": [
    "<div class=\"alert alert-warning\">\n",
    "<h2> Комментарий ревьюера 🤓 v_2 <a class=\"tocSkip\"> </h2>\n",
    "    \n",
    "Введение можно улучшить, если в описании проекта мы добавим основные задачи, особенно с позиции бизнес задачи, которая решается, описание данных и краткий план работы, основные этапы, которые мы должны выполнить."
   ]
  },
  {
   "cell_type": "markdown",
   "id": "f984a7ac",
   "metadata": {},
   "source": [
    "# Впервые взглянем на наши данные"
   ]
  },
  {
   "cell_type": "code",
   "execution_count": 1,
   "id": "aed12c6b",
   "metadata": {},
   "outputs": [],
   "source": [
    "import pandas as pd\n",
    "import matplotlib.pyplot as plt\n",
    "#df1 = pd.read_csv('/Users/ilya/Desktop/Яндекс. Практикум проекты/mkrf_movies.csv')\n",
    "#df2 = pd.read_csv('/Users/ilya/Desktop/Яндекс. Практикум проекты/mkrf_shows.csv')"
   ]
  },
  {
   "cell_type": "markdown",
   "id": "79f307f1",
   "metadata": {},
   "source": [
    "<div class=\"alert alert-warning\">\n",
    "<h2> Комментарий ревьюера 🤓<a class=\"tocSkip\"> </h2>\n",
    "        \n",
    "Блок загрузки библиотек лучше размещать в отдельной от остального кода ячейке. Такой подход позволит улучшить читаемость кода, снизит время поиска ошибок (есть они есть) и исключит повторное выполнение кода. </div>"
   ]
  },
  {
   "cell_type": "code",
   "execution_count": 2,
   "id": "f794f492",
   "metadata": {},
   "outputs": [],
   "source": [
    "df1 = pd.read_csv('/datasets/mkrf_movies.csv')\n",
    "df2 = pd.read_csv('/datasets/mkrf_shows.csv')"
   ]
  },
  {
   "cell_type": "code",
   "execution_count": 3,
   "id": "01c4ea3d",
   "metadata": {},
   "outputs": [
    {
     "name": "stdout",
     "output_type": "stream",
     "text": [
      "<class 'pandas.core.frame.DataFrame'>\n",
      "RangeIndex: 7486 entries, 0 to 7485\n",
      "Data columns (total 15 columns):\n",
      " #   Column                 Non-Null Count  Dtype  \n",
      "---  ------                 --------------  -----  \n",
      " 0   title                  7486 non-null   object \n",
      " 1   puNumber               7486 non-null   object \n",
      " 2   show_start_date        7486 non-null   object \n",
      " 3   type                   7486 non-null   object \n",
      " 4   film_studio            7468 non-null   object \n",
      " 5   production_country     7484 non-null   object \n",
      " 6   director               7477 non-null   object \n",
      " 7   producer               6918 non-null   object \n",
      " 8   age_restriction        7486 non-null   object \n",
      " 9   refundable_support     332 non-null    float64\n",
      " 10  nonrefundable_support  332 non-null    float64\n",
      " 11  budget                 332 non-null    float64\n",
      " 12  financing_source       332 non-null    object \n",
      " 13  ratings                6519 non-null   object \n",
      " 14  genres                 6510 non-null   object \n",
      "dtypes: float64(3), object(12)\n",
      "memory usage: 877.4+ KB\n"
     ]
    }
   ],
   "source": [
    "df1.info()"
   ]
  },
  {
   "cell_type": "code",
   "execution_count": 4,
   "id": "2ac0dcdd",
   "metadata": {},
   "outputs": [
    {
     "name": "stdout",
     "output_type": "stream",
     "text": [
      "<class 'pandas.core.frame.DataFrame'>\n",
      "RangeIndex: 3158 entries, 0 to 3157\n",
      "Data columns (total 2 columns):\n",
      " #   Column      Non-Null Count  Dtype  \n",
      "---  ------      --------------  -----  \n",
      " 0   puNumber    3158 non-null   int64  \n",
      " 1   box_office  3158 non-null   float64\n",
      "dtypes: float64(1), int64(1)\n",
      "memory usage: 49.5 KB\n"
     ]
    }
   ],
   "source": [
    "df2.info()"
   ]
  },
  {
   "cell_type": "code",
   "execution_count": 5,
   "id": "31259c97",
   "metadata": {},
   "outputs": [
    {
     "name": "stdout",
     "output_type": "stream",
     "text": [
      "<class 'pandas.core.frame.DataFrame'>\n",
      "Int64Index: 7486 entries, 0 to 7485\n",
      "Data columns (total 16 columns):\n",
      " #   Column                 Non-Null Count  Dtype  \n",
      "---  ------                 --------------  -----  \n",
      " 0   title                  7486 non-null   object \n",
      " 1   puNumber               7486 non-null   object \n",
      " 2   show_start_date        7486 non-null   object \n",
      " 3   type                   7486 non-null   object \n",
      " 4   film_studio            7468 non-null   object \n",
      " 5   production_country     7484 non-null   object \n",
      " 6   director               7477 non-null   object \n",
      " 7   producer               6918 non-null   object \n",
      " 8   age_restriction        7486 non-null   object \n",
      " 9   refundable_support     332 non-null    float64\n",
      " 10  nonrefundable_support  332 non-null    float64\n",
      " 11  budget                 332 non-null    float64\n",
      " 12  financing_source       332 non-null    object \n",
      " 13  ratings                6519 non-null   object \n",
      " 14  genres                 6510 non-null   object \n",
      " 15  box_office             3158 non-null   float64\n",
      "dtypes: float64(4), object(12)\n",
      "memory usage: 994.2+ KB\n"
     ]
    }
   ],
   "source": [
    "df2['puNumber'] = df2['puNumber'] .astype('str')\n",
    "df = df1.merge(df2, on = 'puNumber', how = 'outer')\n",
    "df.info()"
   ]
  },
  {
   "cell_type": "markdown",
   "id": "50b31796",
   "metadata": {},
   "source": [
    " <a class=\"tocSkip\"></h3>\n",
    "    ferfmkrl"
   ]
  },
  {
   "cell_type": "markdown",
   "id": "21f1b49b",
   "metadata": {},
   "source": [
    "<div class=\"alert alert-block alert-info\">\n",
    "Рассмотрели два датафрейма и выяснили, что в одном порядка 3158 строк\n",
    "    \n",
    "Также после этого объединили две таблицы и видим, что мы нее потеряли ни одной строчки)\n",
    "    \n",
    "Используем метод `outer` (да бы не отсеивать другие данные, вдруг пригодятся!)"
   ]
  },
  {
   "cell_type": "markdown",
   "id": "23465691",
   "metadata": {},
   "source": [
    "<div class=\"alert alert-success\">\n",
    "<h2> Комментарий ревьюера 😊 v_2 <a class=\"tocSkip\"> </h2>\n",
    "\n",
    "👍"
   ]
  },
  {
   "cell_type": "markdown",
   "id": "03fcb3ac",
   "metadata": {},
   "source": [
    "<div class=\"alert alert-warning\">\n",
    "<h2> Комментарий ревьюера 🤓<a class=\"tocSkip\"> </h2>\n",
    "    \n",
    "Сразу после получения информации о таблице, будет здорово сформулировать вывод: проверить типы данных, а также важно понять, что по пропущенным значениям.\n",
    "</div>"
   ]
  },
  {
   "cell_type": "markdown",
   "id": "244caea9",
   "metadata": {},
   "source": [
    "<div class=\"alert alert-warning\">\n",
    "<h2> Комментарий ревьюера 🤓 <a class=\"tocSkip\"> </h2>\n",
    "\n",
    "При таком типе объединения, все данные которых нет в таблице с фильмами, но есть в кассовых сборах, будут перенесены. Но данная информация не будет информативной при анализе, так как образуются пропуски по столбцам с названием и т.д.  Поэтому следует использовать объединение `left`"
   ]
  },
  {
   "cell_type": "markdown",
   "id": "a121aa0c",
   "metadata": {},
   "source": [
    "<div class=\"alert alert-block alert-danger\">\n",
    "<h2> Комментарий ревьюера ⛔️<a class=\"tocSkip\"></h2>\n",
    "<s>\n",
    "По заданию необходимо произвести объединение данных без потерь, но мы никак не проверили это. Не зная сколько строк было до объединения, мы не можем сделать точный вывод, что данные корректно перенесены."
   ]
  },
  {
   "cell_type": "markdown",
   "id": "c2d0c7ae",
   "metadata": {},
   "source": [
    "# Предобработаем данных"
   ]
  },
  {
   "cell_type": "markdown",
   "id": "000784cd",
   "metadata": {},
   "source": [
    "### Исправим неверные типы данных"
   ]
  },
  {
   "cell_type": "markdown",
   "id": "9762347f",
   "metadata": {},
   "source": [
    "1) show_start_date - дата, а не object\n",
    "\n",
    "2) ratings - float, а не object"
   ]
  },
  {
   "cell_type": "code",
   "execution_count": 6,
   "id": "5d88c853",
   "metadata": {},
   "outputs": [],
   "source": [
    "df['show_start_date'] = pd.to_datetime(df['show_start_date'], format = '%Y-%m-%d')\n",
    "\n",
    "# Если не выставить игнор ошибки, то рейтинг, который был проставлен в процентах - даст ошибку. \n",
    "# Проблему с процентами решим чуть позже \n",
    "df['ratings'] = df['ratings'].astype('float', errors = 'ignore')"
   ]
  },
  {
   "cell_type": "markdown",
   "id": "f2ebf539",
   "metadata": {},
   "source": [
    "<div class=\"alert alert-warning\">\n",
    "<h2> Комментарий ревьюера 🤓<a class=\"tocSkip\"> </h2>\n",
    "\n",
    "Можно их сразу обработать)"
   ]
  },
  {
   "cell_type": "markdown",
   "id": "062d075a",
   "metadata": {},
   "source": [
    "### Рассмотрим пропуски в наших данных"
   ]
  },
  {
   "cell_type": "code",
   "execution_count": 7,
   "id": "8753e278",
   "metadata": {},
   "outputs": [
    {
     "data": {
      "text/plain": [
       "title                       0\n",
       "puNumber                    0\n",
       "show_start_date             0\n",
       "type                        0\n",
       "film_studio                18\n",
       "production_country          2\n",
       "director                    9\n",
       "producer                  568\n",
       "age_restriction             0\n",
       "refundable_support       7154\n",
       "nonrefundable_support    7154\n",
       "budget                   7154\n",
       "financing_source         7154\n",
       "ratings                   967\n",
       "genres                    976\n",
       "box_office               4328\n",
       "dtype: int64"
      ]
     },
     "execution_count": 7,
     "metadata": {},
     "output_type": "execute_result"
    }
   ],
   "source": [
    "df.isna().sum()"
   ]
  },
  {
   "cell_type": "markdown",
   "id": "ee9aab98",
   "metadata": {},
   "source": [
    "<div class=\"alert alert-block alert-info\">\n",
    "\n",
    "Также давайте взглянем на процентное соотношение пропусков в каждом столбце"
   ]
  },
  {
   "cell_type": "code",
   "execution_count": 8,
   "id": "8200519c",
   "metadata": {},
   "outputs": [
    {
     "data": {
      "text/plain": [
       "title                     0.000000\n",
       "puNumber                  0.000000\n",
       "show_start_date           0.000000\n",
       "type                      0.000000\n",
       "film_studio               0.240449\n",
       "production_country        0.026717\n",
       "director                  0.120224\n",
       "producer                  7.587497\n",
       "age_restriction           0.000000\n",
       "refundable_support       95.565055\n",
       "nonrefundable_support    95.565055\n",
       "budget                   95.565055\n",
       "financing_source         95.565055\n",
       "ratings                  12.917446\n",
       "genres                   13.037670\n",
       "box_office               57.814587\n",
       "dtype: float64"
      ]
     },
     "execution_count": 8,
     "metadata": {},
     "output_type": "execute_result"
    }
   ],
   "source": [
    "(df.isnull().sum()*100)/len(df)"
   ]
  },
  {
   "cell_type": "markdown",
   "id": "d08acb5b",
   "metadata": {},
   "source": [
    "<div class=\"alert alert-block alert-info\">\n",
    "Самые \"проблемные\" столбцы оказались - `refundable_support`, `nonrefundable_support`, `budget`, `financing_source`"
   ]
  },
  {
   "cell_type": "markdown",
   "id": "e44dd554",
   "metadata": {},
   "source": [
    "<div class=\"alert alert-warning\">\n",
    "<h2> Комментарий ревьюера 🤓<a class=\"tocSkip\"> </h2>\n",
    "\n",
    "Удобнее смотреть на процент пропусков по колонкам, это можно сделать,  например, так:\n",
    "    \n",
    "`data.isnull().sum()*100/len(data)`\n",
    "\n",
    "Более продвинутый вариант (кол-во пропусков + процент пропусков)\n",
    "    \n",
    "`report = data.isna().sum().to_frame()\n",
    "report = report.rename(columns = {0: 'missing_values'})\n",
    "report['% of total'] = (report['missing_values'] / data.shape[0]).round(2)\n",
    "report.sort_values(by = 'missing_values', ascending = False)`\n",
    "    \n",
    "Это полезное действие при подборе стратегии заполнения пропусков: обычно, если в данных кол-во пропусков превышает 10%, восполнение пропусков результатами выполнения стандартных операций типа расчета среднего/медианы по столбцу, может привести к искажению данных. Если мы сталкиваемся с такой ситуацией, то важно подумать и подобрать более сложную восполнения пропусков в данных."
   ]
  },
  {
   "cell_type": "markdown",
   "id": "24d174b7",
   "metadata": {},
   "source": [
    "Поделим наши столбцы с пропусками, для начала, на две категории, а именно:\n",
    "\n",
    "1) Много пропусков - надо думать как решать данную проблему\n",
    "    К такому типу столбцов относятся: producer, refundable_support, nonrefundable_support, budget,\n",
    "    financing_source, ratings, genres, box_office.  \n",
    "\n",
    "2) Мало пропусков - просто удалим их (да бы не получать ошибки при преобразовании данных ради 10-20 строчек)\n",
    "    К такому типу столбцов относятся: film_studio, production_country, director.\n",
    "    \n"
   ]
  },
  {
   "cell_type": "markdown",
   "id": "0fab7707",
   "metadata": {},
   "source": [
    "#### Возможные причины пропусков:\n",
    "\n",
    "1) refundable_support, nonrefundable_support, budget, financing_source  - далеко не все фильмы спонсируются государством. Интересная тенденция, что пропусков бюджета и наличия финансирования от государтсва - одинаковые\n",
    "Возможно это значит, что зачастую бюджет оглашают фильмы, которые получают финансирование "
   ]
  },
  {
   "cell_type": "code",
   "execution_count": 9,
   "id": "3969dfab",
   "metadata": {},
   "outputs": [
    {
     "data": {
      "text/plain": [
       "title                       0\n",
       "puNumber                    0\n",
       "show_start_date             0\n",
       "type                        0\n",
       "film_studio                 0\n",
       "production_country          0\n",
       "director                    0\n",
       "producer                  564\n",
       "age_restriction             0\n",
       "refundable_support       7127\n",
       "nonrefundable_support    7127\n",
       "budget                   7127\n",
       "financing_source         7127\n",
       "ratings                   948\n",
       "genres                    957\n",
       "box_office               4304\n",
       "dtype: int64"
      ]
     },
     "execution_count": 9,
     "metadata": {},
     "output_type": "execute_result"
    }
   ],
   "source": [
    "df = df.dropna(subset = ['film_studio','production_country','director'])\n",
    "df.isna().sum()"
   ]
  },
  {
   "cell_type": "markdown",
   "id": "05e1cf6b",
   "metadata": {},
   "source": [
    "Если со с второй категорией - все ясно\n",
    "\n",
    "Стоит поговорить отдельно, подробнее про первую:\n",
    "\n",
    "1) producer - сложно заменить на что-либо, оставим NaN\n",
    "\n",
    "2) refundable_support, nonrefundable_support,  financing_source, budget, box_office - данные столбцы имеют очень много пропусков. Заменив\n",
    "их грубым образом, можем видоизменить наши данные кардинально, так что оставим их как есть"
   ]
  },
  {
   "cell_type": "markdown",
   "id": "30ce4020",
   "metadata": {},
   "source": [
    "<div class=\"alert alert-success\">\n",
    "<h2> Комментарий ревьюера 😊<a class=\"tocSkip\"> </h2>\n",
    "    \n",
    "Верно, такое кол-во пропусков корректно восстановить мы не можем. Так как столбец продюсера строковый, можно заменить на \"неизвестно\")"
   ]
  },
  {
   "cell_type": "markdown",
   "id": "0fc2d455",
   "metadata": {},
   "source": [
    "### Посмотрим как обстоят дела с дубликатами"
   ]
  },
  {
   "cell_type": "code",
   "execution_count": 10,
   "id": "6403c6bf",
   "metadata": {},
   "outputs": [
    {
     "data": {
      "text/html": [
       "<div>\n",
       "<style scoped>\n",
       "    .dataframe tbody tr th:only-of-type {\n",
       "        vertical-align: middle;\n",
       "    }\n",
       "\n",
       "    .dataframe tbody tr th {\n",
       "        vertical-align: top;\n",
       "    }\n",
       "\n",
       "    .dataframe thead th {\n",
       "        text-align: right;\n",
       "    }\n",
       "</style>\n",
       "<table border=\"1\" class=\"dataframe\">\n",
       "  <thead>\n",
       "    <tr style=\"text-align: right;\">\n",
       "      <th></th>\n",
       "      <th>title</th>\n",
       "      <th>puNumber</th>\n",
       "      <th>show_start_date</th>\n",
       "      <th>type</th>\n",
       "      <th>film_studio</th>\n",
       "      <th>production_country</th>\n",
       "      <th>director</th>\n",
       "      <th>producer</th>\n",
       "      <th>age_restriction</th>\n",
       "      <th>refundable_support</th>\n",
       "      <th>nonrefundable_support</th>\n",
       "      <th>budget</th>\n",
       "      <th>financing_source</th>\n",
       "      <th>ratings</th>\n",
       "      <th>genres</th>\n",
       "      <th>box_office</th>\n",
       "    </tr>\n",
       "  </thead>\n",
       "  <tbody>\n",
       "    <tr>\n",
       "      <th>3</th>\n",
       "      <td>Особо опасен</td>\n",
       "      <td>221026916</td>\n",
       "      <td>2016-06-10 12:00:00+00:00</td>\n",
       "      <td>Художественный</td>\n",
       "      <td>Юниверсал Пикчерз, Кикстарт Продакшнз, Марк Пл...</td>\n",
       "      <td>США</td>\n",
       "      <td>Тимур Бекмамбетов</td>\n",
       "      <td>Джим Лемли, Джейсон Нетер, Марк Е.Платт, Яйн Смит</td>\n",
       "      <td>«18+» - запрещено для детей</td>\n",
       "      <td>NaN</td>\n",
       "      <td>NaN</td>\n",
       "      <td>NaN</td>\n",
       "      <td>NaN</td>\n",
       "      <td>6.8</td>\n",
       "      <td>фантастика,боевик,триллер</td>\n",
       "      <td>NaN</td>\n",
       "    </tr>\n",
       "    <tr>\n",
       "      <th>4</th>\n",
       "      <td>Особо опасен</td>\n",
       "      <td>221030815</td>\n",
       "      <td>2015-07-29 12:00:00+00:00</td>\n",
       "      <td>Художественный</td>\n",
       "      <td>Юниверсал Пикчерз, Кикстарт Продакшнз, Марк Пл...</td>\n",
       "      <td>США</td>\n",
       "      <td>Тимур Бекмамбетов</td>\n",
       "      <td>Джим Лемли, Джейсон Нетер, Марк Е.Платт, Яйн Смит</td>\n",
       "      <td>«18+» - запрещено для детей</td>\n",
       "      <td>NaN</td>\n",
       "      <td>NaN</td>\n",
       "      <td>NaN</td>\n",
       "      <td>NaN</td>\n",
       "      <td>6.8</td>\n",
       "      <td>фантастика,боевик,триллер</td>\n",
       "      <td>NaN</td>\n",
       "    </tr>\n",
       "    <tr>\n",
       "      <th>41</th>\n",
       "      <td>Алекс и Эмма</td>\n",
       "      <td>221004616</td>\n",
       "      <td>2016-02-09 12:00:00+00:00</td>\n",
       "      <td>Художественный</td>\n",
       "      <td>Эскейп Артистс, Франчайз Пикчерз, Рейнер-Грэйс...</td>\n",
       "      <td>США</td>\n",
       "      <td>Роб Райнер</td>\n",
       "      <td>Тодд Блэк, Элан Грейсман, Джереми Левен, Роб Р...</td>\n",
       "      <td>«16+» - для детей старше 16 лет</td>\n",
       "      <td>NaN</td>\n",
       "      <td>NaN</td>\n",
       "      <td>NaN</td>\n",
       "      <td>NaN</td>\n",
       "      <td>6.4</td>\n",
       "      <td>мелодрама,комедия</td>\n",
       "      <td>NaN</td>\n",
       "    </tr>\n",
       "    <tr>\n",
       "      <th>110</th>\n",
       "      <td>Гарри Поттер и орден Феникса /По роману Дж.К.Р...</td>\n",
       "      <td>121026316</td>\n",
       "      <td>2016-09-23 12:00:00+00:00</td>\n",
       "      <td>Художественный</td>\n",
       "      <td>Уорнер Бразерс, Хэйдей Филмз</td>\n",
       "      <td>США - Великобритания</td>\n",
       "      <td>Дэвид Йетс</td>\n",
       "      <td>Дэйвид Баррон, Дэйвид Хейман</td>\n",
       "      <td>«16+» - для детей старше 16 лет</td>\n",
       "      <td>NaN</td>\n",
       "      <td>NaN</td>\n",
       "      <td>NaN</td>\n",
       "      <td>NaN</td>\n",
       "      <td>7.7</td>\n",
       "      <td>фэнтези,приключения,семейный</td>\n",
       "      <td>759526.0</td>\n",
       "    </tr>\n",
       "    <tr>\n",
       "      <th>113</th>\n",
       "      <td>Гарри Поттер и узник Азкабана /По роману Дж.К....</td>\n",
       "      <td>121026116</td>\n",
       "      <td>2016-09-23 12:00:00+00:00</td>\n",
       "      <td>Художественный</td>\n",
       "      <td>Хэйдей Филмз, 1492 Пикчерз, Уорнер Бразерс</td>\n",
       "      <td>США</td>\n",
       "      <td>Альфонсо Куарон</td>\n",
       "      <td>Майкл Барната</td>\n",
       "      <td>«12+» - для детей старше 12 лет</td>\n",
       "      <td>NaN</td>\n",
       "      <td>NaN</td>\n",
       "      <td>NaN</td>\n",
       "      <td>NaN</td>\n",
       "      <td>8.2</td>\n",
       "      <td>фэнтези,приключения,семейный</td>\n",
       "      <td>1125302.0</td>\n",
       "    </tr>\n",
       "  </tbody>\n",
       "</table>\n",
       "</div>"
      ],
      "text/plain": [
       "                                                 title   puNumber  \\\n",
       "3                                         Особо опасен  221026916   \n",
       "4                                         Особо опасен  221030815   \n",
       "41                                        Алекс и Эмма  221004616   \n",
       "110  Гарри Поттер и орден Феникса /По роману Дж.К.Р...  121026316   \n",
       "113  Гарри Поттер и узник Азкабана /По роману Дж.К....  121026116   \n",
       "\n",
       "              show_start_date            type  \\\n",
       "3   2016-06-10 12:00:00+00:00  Художественный   \n",
       "4   2015-07-29 12:00:00+00:00  Художественный   \n",
       "41  2016-02-09 12:00:00+00:00  Художественный   \n",
       "110 2016-09-23 12:00:00+00:00  Художественный   \n",
       "113 2016-09-23 12:00:00+00:00  Художественный   \n",
       "\n",
       "                                           film_studio    production_country  \\\n",
       "3    Юниверсал Пикчерз, Кикстарт Продакшнз, Марк Пл...                   США   \n",
       "4    Юниверсал Пикчерз, Кикстарт Продакшнз, Марк Пл...                   США   \n",
       "41   Эскейп Артистс, Франчайз Пикчерз, Рейнер-Грэйс...                   США   \n",
       "110                       Уорнер Бразерс, Хэйдей Филмз  США - Великобритания   \n",
       "113         Хэйдей Филмз, 1492 Пикчерз, Уорнер Бразерс                   США   \n",
       "\n",
       "              director                                           producer  \\\n",
       "3    Тимур Бекмамбетов  Джим Лемли, Джейсон Нетер, Марк Е.Платт, Яйн Смит   \n",
       "4    Тимур Бекмамбетов  Джим Лемли, Джейсон Нетер, Марк Е.Платт, Яйн Смит   \n",
       "41          Роб Райнер  Тодд Блэк, Элан Грейсман, Джереми Левен, Роб Р...   \n",
       "110         Дэвид Йетс                       Дэйвид Баррон, Дэйвид Хейман   \n",
       "113    Альфонсо Куарон                                      Майкл Барната   \n",
       "\n",
       "                     age_restriction  refundable_support  \\\n",
       "3        «18+» - запрещено для детей                 NaN   \n",
       "4        «18+» - запрещено для детей                 NaN   \n",
       "41   «16+» - для детей старше 16 лет                 NaN   \n",
       "110  «16+» - для детей старше 16 лет                 NaN   \n",
       "113  «12+» - для детей старше 12 лет                 NaN   \n",
       "\n",
       "     nonrefundable_support  budget financing_source ratings  \\\n",
       "3                      NaN     NaN              NaN     6.8   \n",
       "4                      NaN     NaN              NaN     6.8   \n",
       "41                     NaN     NaN              NaN     6.4   \n",
       "110                    NaN     NaN              NaN     7.7   \n",
       "113                    NaN     NaN              NaN     8.2   \n",
       "\n",
       "                           genres  box_office  \n",
       "3       фантастика,боевик,триллер         NaN  \n",
       "4       фантастика,боевик,триллер         NaN  \n",
       "41              мелодрама,комедия         NaN  \n",
       "110  фэнтези,приключения,семейный    759526.0  \n",
       "113  фэнтези,приключения,семейный   1125302.0  "
      ]
     },
     "execution_count": 10,
     "metadata": {},
     "output_type": "execute_result"
    }
   ],
   "source": [
    "df[df['title'].duplicated()].head()"
   ]
  },
  {
   "cell_type": "code",
   "execution_count": 11,
   "id": "fb8bc2fe",
   "metadata": {},
   "outputs": [
    {
     "data": {
      "text/plain": [
       "0.09558922107521116"
      ]
     },
     "execution_count": 11,
     "metadata": {},
     "output_type": "execute_result"
    }
   ],
   "source": [
    "df[df['title'].duplicated()]['title'].count()/len(df) "
   ]
  },
  {
   "cell_type": "code",
   "execution_count": 12,
   "id": "5380cf84",
   "metadata": {},
   "outputs": [
    {
     "data": {
      "text/plain": [
       "title                    0\n",
       "puNumber                 0\n",
       "show_start_date          0\n",
       "type                     0\n",
       "film_studio              0\n",
       "production_country       0\n",
       "director                 0\n",
       "producer                 0\n",
       "age_restriction          0\n",
       "refundable_support       0\n",
       "nonrefundable_support    0\n",
       "budget                   0\n",
       "financing_source         0\n",
       "ratings                  0\n",
       "genres                   0\n",
       "box_office               0\n",
       "dtype: int64"
      ]
     },
     "execution_count": 12,
     "metadata": {},
     "output_type": "execute_result"
    }
   ],
   "source": [
    "df[df.duplicated()].count()"
   ]
  },
  {
   "cell_type": "markdown",
   "id": "cfede249",
   "metadata": {},
   "source": [
    "<div class=\"alert alert-block alert-info\">\n",
    "Какой можно сделать вывод по трем строчкам кода выше?\n",
    "    \n",
    "    1) У нас есть дубликаты в столбцу `title` и мы видим, что доля этих пропусков составляет меньше 10 процентов - удалим их\n",
    "    \n",
    "    2) У нас нет в датафрейме полный дубликатов - отлично)"
   ]
  },
  {
   "cell_type": "code",
   "execution_count": 13,
   "id": "a895fbb3",
   "metadata": {},
   "outputs": [],
   "source": [
    "df = df.drop_duplicates(subset = ['title'], keep = 'first')  "
   ]
  },
  {
   "cell_type": "code",
   "execution_count": 14,
   "id": "a02b415e",
   "metadata": {},
   "outputs": [
    {
     "name": "stdout",
     "output_type": "stream",
     "text": [
      "title                    0\n",
      "puNumber                 0\n",
      "show_start_date          0\n",
      "type                     0\n",
      "film_studio              0\n",
      "production_country       0\n",
      "director                 0\n",
      "producer                 0\n",
      "age_restriction          0\n",
      "refundable_support       0\n",
      "nonrefundable_support    0\n",
      "budget                   0\n",
      "financing_source         0\n",
      "ratings                  0\n",
      "genres                   0\n",
      "box_office               0\n",
      "dtype: int64\n"
     ]
    }
   ],
   "source": [
    "print(df[df['puNumber'].duplicated()].count())\n",
    "df = df.drop_duplicates(subset = ['puNumber'], keep = 'first')  \n"
   ]
  },
  {
   "cell_type": "markdown",
   "id": "334dc706",
   "metadata": {},
   "source": [
    "<div class=\"alert alert-block alert-info\">\n",
    "Выяснили, что еще есть дубликаты в поле `puNumber` - тоже удалим, из всего лишь 2 штуки"
   ]
  },
  {
   "cell_type": "markdown",
   "id": "e05717c8",
   "metadata": {},
   "source": [
    "<div class=\"alert alert-success\">\n",
    "<h2> Комментарий ревьюера 😊 v_2 <a class=\"tocSkip\"> </h2>\n",
    "\n",
    "Отлично"
   ]
  },
  {
   "cell_type": "markdown",
   "id": "4a9d1520",
   "metadata": {},
   "source": [
    "<div class=\"alert alert-block alert-danger\">\n",
    "<h2> Комментарий ревьюера ⛔️<a class=\"tocSkip\"></h2>\n",
    "<s>\n",
    "Важно не только вывести дубликаты, но и посчитать их  количество и также долю дубликатов, чтобы понимать какую часть данных они занимают. Вдруг мы удалили половину датасета.\n",
    "    \n",
    "Также стоит добавить проверку на полные дубликаты  и у нас есть еще один столбец, который, по идее, должен содержать уникальные значения. Стоит проверить - так ли это.\n"
   ]
  },
  {
   "cell_type": "markdown",
   "id": "bb6c5aa8",
   "metadata": {},
   "source": [
    "### Изучим столбцы, которые содержат категориальные значения"
   ]
  },
  {
   "cell_type": "markdown",
   "id": "00f37542",
   "metadata": {},
   "source": [
    "С самого начала видно, что поле `type` имеет свои проблемы (лишний пробел)\n",
    "\n",
    "Исправим это!"
   ]
  },
  {
   "cell_type": "code",
   "execution_count": 15,
   "id": "2d44efd0",
   "metadata": {},
   "outputs": [
    {
     "name": "stdout",
     "output_type": "stream",
     "text": [
      "Художественный                3924\n",
      " Художественный               1345\n",
      "Анимационный                   766\n",
      "Прочие                         385\n",
      "Документальный                 275\n",
      "Научно-популярный               49\n",
      " Анимационный                    1\n",
      "Музыкально-развлекательный       1\n",
      "Name: type, dtype: int64\n"
     ]
    }
   ],
   "source": [
    "print(df['type'].value_counts())\n",
    "df['type'] = df['type'].replace(' Художественный',str.strip(' Художественный'))\n",
    "df['type'] = df['type'].replace(' Анимационный',str.strip(' Анимационный'))"
   ]
  },
  {
   "cell_type": "markdown",
   "id": "4ed72651",
   "metadata": {},
   "source": [
    "<div class=\"alert alert-warning\">\n",
    "<h2> Комментарий ревьюера 🤓 <a class=\"tocSkip\"> </h2>\n",
    "\n",
    "Для корректировки значений необходимо применить `str.strip()`"
   ]
  },
  {
   "cell_type": "markdown",
   "id": "56f47356",
   "metadata": {},
   "source": [
    "Также давайте посмотрим на поле `film_studio` "
   ]
  },
  {
   "cell_type": "code",
   "execution_count": 16,
   "id": "e521dae8",
   "metadata": {
    "scrolled": true
   },
   "outputs": [
    {
     "data": {
      "text/html": [
       "<div>\n",
       "<style scoped>\n",
       "    .dataframe tbody tr th:only-of-type {\n",
       "        vertical-align: middle;\n",
       "    }\n",
       "\n",
       "    .dataframe tbody tr th {\n",
       "        vertical-align: top;\n",
       "    }\n",
       "\n",
       "    .dataframe thead th {\n",
       "        text-align: right;\n",
       "    }\n",
       "</style>\n",
       "<table border=\"1\" class=\"dataframe\">\n",
       "  <thead>\n",
       "    <tr style=\"text-align: right;\">\n",
       "      <th></th>\n",
       "      <th>budget</th>\n",
       "    </tr>\n",
       "    <tr>\n",
       "      <th>film_studio</th>\n",
       "      <th></th>\n",
       "    </tr>\n",
       "  </thead>\n",
       "  <tbody>\n",
       "    <tr>\n",
       "      <th>ООО \"КиноФирма\"</th>\n",
       "      <td>0.0</td>\n",
       "    </tr>\n",
       "    <tr>\n",
       "      <th>ООО \"Магнум-фильм\"</th>\n",
       "      <td>83553412.0</td>\n",
       "    </tr>\n",
       "    <tr>\n",
       "      <th>ООО \"Студия \"Рой\"</th>\n",
       "      <td>15010000.0</td>\n",
       "    </tr>\n",
       "    <tr>\n",
       "      <th>ООО \"Студия 25\", ООО \"Медиа Арт Студио\", ООО \"Продюсерский центр \"Синема Продакшн\"</th>\n",
       "      <td>222177790.0</td>\n",
       "    </tr>\n",
       "    <tr>\n",
       "      <th>ООО \"Студия МЕТРАФИЛЬМС\", Компания \"TASSE film\", Компания \"SIRENA film\"</th>\n",
       "      <td>76913058.0</td>\n",
       "    </tr>\n",
       "    <tr>\n",
       "      <th>...</th>\n",
       "      <td>...</td>\n",
       "    </tr>\n",
       "    <tr>\n",
       "      <th>ООО Продюсерский центр \"Всё хорошо\"</th>\n",
       "      <td>49280496.0</td>\n",
       "    </tr>\n",
       "    <tr>\n",
       "      <th>ФГУП \"Киноконцерн \"Мосфильм\", ООО \"Киностудия \"ВЕРТИКАЛЬ\"</th>\n",
       "      <td>69428728.0</td>\n",
       "    </tr>\n",
       "    <tr>\n",
       "      <th>ФГУП \"Киноконцерн \"Мосфильм\", ООО \"М-Продакшн Медиа\"</th>\n",
       "      <td>57767081.0</td>\n",
       "    </tr>\n",
       "    <tr>\n",
       "      <th>ФГУП \"ТПО \"Киностудия \"Союзмультфильм\"</th>\n",
       "      <td>48238075.0</td>\n",
       "    </tr>\n",
       "    <tr>\n",
       "      <th>Фонд поддержки развития общества \"Наши дети\"</th>\n",
       "      <td>126932894.0</td>\n",
       "    </tr>\n",
       "  </tbody>\n",
       "</table>\n",
       "<p>263 rows × 1 columns</p>\n",
       "</div>"
      ],
      "text/plain": [
       "                                                         budget\n",
       "film_studio                                                    \n",
       " ООО \"КиноФирма\"                                            0.0\n",
       " ООО \"Магнум-фильм\"                                  83553412.0\n",
       " ООО \"Студия \"Рой\"                                   15010000.0\n",
       " ООО \"Студия 25\", ООО \"Медиа Арт Студио\", ООО \"...  222177790.0\n",
       " ООО \"Студия МЕТРАФИЛЬМС\", Компания \"TASSE film...   76913058.0\n",
       "...                                                         ...\n",
       "ООО Продюсерский центр \"Всё хорошо\"                  49280496.0\n",
       "ФГУП \"Киноконцерн \"Мосфильм\", ООО \"Киностудия \"...   69428728.0\n",
       "ФГУП \"Киноконцерн \"Мосфильм\", ООО \"М-Продакшн М...   57767081.0\n",
       "ФГУП \"ТПО \"Киностудия \"Союзмультфильм\"               48238075.0\n",
       "Фонд поддержки развития общества \"Наши дети\"        126932894.0\n",
       "\n",
       "[263 rows x 1 columns]"
      ]
     },
     "execution_count": 16,
     "metadata": {},
     "output_type": "execute_result"
    }
   ],
   "source": [
    "df[~df['budget'].isna()].groupby('film_studio').agg({'budget': 'mean'})"
   ]
  },
  {
   "cell_type": "markdown",
   "id": "cde60ea0",
   "metadata": {},
   "source": [
    "Рассмотрим поле `genres`"
   ]
  },
  {
   "cell_type": "code",
   "execution_count": 17,
   "id": "267ca7a4",
   "metadata": {},
   "outputs": [
    {
     "data": {
      "text/plain": [
       "array(['боевик,драма,мелодрама', 'драма,военный',\n",
       "       'фантастика,боевик,триллер', 'драма', 'мелодрама,комедия',\n",
       "       'мюзикл,мелодрама,комедия', 'комедия,криминал',\n",
       "       'боевик,триллер,детектив', 'боевик,драма,приключения',\n",
       "       'драма,спорт', 'триллер,драма,мелодрама', 'комедия,мелодрама',\n",
       "       'драма,мелодрама,комедия', 'драма,мелодрама', 'драма,история',\n",
       "       'драма,мелодрама,семейный', 'комедия,мелодрама,криминал',\n",
       "       'комедия', 'боевик,драма,криминал', 'драма,комедия',\n",
       "       'ужасы,фантастика,комедия', 'мультфильм,короткометражка,мелодрама',\n",
       "       'драма,криминал', 'мультфильм,фантастика,фэнтези',\n",
       "       'триллер,драма,криминал', 'драма,мелодрама,биография',\n",
       "       'драма,комедия,военный', 'фантастика,драма,детектив',\n",
       "       'мюзикл,семейный', nan, 'военный,приключения,драма',\n",
       "       'документальный,драма', 'драма,биография,история',\n",
       "       'боевик,триллер,драма', 'фэнтези,боевик',\n",
       "       'боевик,комедия,криминал', 'мюзикл,комедия,детский',\n",
       "       'комедия,мелодрама,драма', 'мультфильм,фэнтези,комедия',\n",
       "       'комедия,история', 'мелодрама', 'драма,биография,музыка',\n",
       "       'фэнтези,драма,мелодрама', 'триллер,военный',\n",
       "       'драма,мелодрама,военный', 'мюзикл,драма,мелодрама',\n",
       "       'мюзикл,комедия', 'мультфильм,приключения,семейный',\n",
       "       'ужасы,триллер', 'боевик,драма,военный', 'драма,боевик',\n",
       "       'мультфильм,драма,комедия', 'триллер,криминал',\n",
       "       'военный,биография,драма', 'комедия,семейный', 'военный',\n",
       "       'драма,семейный,биография', 'фэнтези,приключения,семейный',\n",
       "       'драма,криминал,биография', 'ужасы,триллер,детектив',\n",
       "       'боевик,история,драма', 'ужасы,триллер,драма',\n",
       "       'драма,криминал,спорт', 'документальный,короткометражка',\n",
       "       'триллер,драма', 'криминал,детектив,приключения',\n",
       "       'драма,комедия,криминал', 'драма,комедия,вестерн',\n",
       "       'драма,мелодрама,детектив', 'мелодрама,биография',\n",
       "       'фэнтези,мелодрама,драма', 'драма,мелодрама,история',\n",
       "       'комедия,приключения,история', 'приключения', 'драма,семейный',\n",
       "       'криминал,детектив', 'мультфильм,короткометражка,ужасы',\n",
       "       'фантастика,триллер,драма', 'фэнтези,мелодрама,комедия',\n",
       "       'драма,биография', 'комедия,криминал,история',\n",
       "       'триллер,драма,детектив', 'фантастика,комедия,приключения',\n",
       "       'фэнтези,семейный', 'ужасы,фантастика,боевик',\n",
       "       'мелодрама,криминал', 'комедия,приключения,мелодрама',\n",
       "       'боевик,триллер,приключения', 'боевик,приключения',\n",
       "       'боевик,триллер,криминал', 'документальный,военный,история',\n",
       "       'драма,музыка', 'боевик,драма', 'приключения,боевик',\n",
       "       'драма,военный,биография', 'триллер,драма,приключения',\n",
       "       'аниме,мультфильм,фэнтези', 'триллер,детектив,драма',\n",
       "       'боевик,триллер,мелодрама', 'боевик,история',\n",
       "       'приключения,история', 'драма,комедия,приключения',\n",
       "       'фэнтези,комедия,приключения', 'драма,вестерн',\n",
       "       'документальный,музыка', 'мелодрама,драма',\n",
       "       'триллер,криминал,детектив', 'ужасы', 'боевик,комедия,приключения',\n",
       "       'мультфильм,фэнтези,боевик', 'боевик,фэнтези,драма',\n",
       "       'фэнтези,драма', 'фэнтези,боевик,комедия',\n",
       "       'приключения,детский,комедия', 'документальный',\n",
       "       'боевик,триллер,комедия', 'мелодрама,комедия,криминал',\n",
       "       'драма,детектив', 'мюзикл,ужасы,триллер', 'детектив,триллер,ужасы',\n",
       "       'ужасы,фэнтези', 'ужасы,фэнтези,триллер', 'мультфильм,драма',\n",
       "       'ужасы,боевик,фантастика', 'боевик', 'фантастика,боевик',\n",
       "       'мелодрама,комедия,приключения', 'триллер,детектив',\n",
       "       'мюзикл,мелодрама,фэнтези', 'криминал', 'триллер,комедия,криминал',\n",
       "       'боевик,приключения,триллер', 'триллер,драма,военный',\n",
       "       'комедия,семейный,музыка', 'комедия,фантастика,мелодрама',\n",
       "       'фантастика,триллер,криминал', 'комедия,драма', 'боевик,военный',\n",
       "       'ужасы,фантастика,триллер', 'фантастика,драма,мелодрама',\n",
       "       'фэнтези,драма,детектив', 'боевик,триллер', 'боевик,драма,история',\n",
       "       'мультфильм,мюзикл,фэнтези', 'для взрослых,драма,мелодрама',\n",
       "       'мультфильм,боевик,детектив', 'фантастика,мелодрама,боевик',\n",
       "       'ужасы,фантастика,детектив', 'фантастика,боевик,приключения',\n",
       "       'мелодрама,комедия,спорт', 'комедия,боевик,приключения',\n",
       "       'документальный,приключения', 'мультфильм,короткометражка,детский',\n",
       "       'комедия,приключения', 'ужасы,драма', 'ужасы,фэнтези,боевик',\n",
       "       'мультфильм,фэнтези,детский', 'мюзикл,боевик,драма',\n",
       "       'семейный,комедия,драма', 'концерт,музыка', 'фэнтези,боевик,драма',\n",
       "       'драма,комедия,музыка', 'фантастика,фэнтези,боевик',\n",
       "       'фэнтези,комедия,семейный', 'фэнтези,драма,комедия',\n",
       "       'мультфильм,мюзикл,драма', 'триллер', 'боевик,криминал,триллер',\n",
       "       'мультфильм,приключения,драма', 'мелодрама,музыка',\n",
       "       'документальный,музыка,концерт', 'мультфильм,семейный',\n",
       "       'мультфильм,комедия,приключения', 'мультфильм,комедия,семейный',\n",
       "       'фантастика,драма', 'фэнтези,боевик,приключения',\n",
       "       'мультфильм,приключения', 'драма,военный,история', 'история',\n",
       "       'драма,приключения,военный',\n",
       "       'документальный,короткометражка,семейный',\n",
       "       'мелодрама,история,триллер', 'ужасы,детектив',\n",
       "       'мюзикл,комедия,приключения', 'драма,спорт,биография',\n",
       "       'фантастика,боевик,комедия', 'фантастика,приключения,детектив',\n",
       "       'короткометражка,драма,военный', 'драма,мультфильм',\n",
       "       'приключения,семейный', 'детектив', 'триллер,приключения',\n",
       "       'аниме,мультфильм,боевик', 'драма,комедия,биография',\n",
       "       'драма,комедия,спорт', 'боевик,мелодрама,комедия',\n",
       "       'семейный,комедия', 'фэнтези,боевик,триллер',\n",
       "       'документальный,фэнтези,семейный', 'фантастика,фэнтези,драма',\n",
       "       'ужасы,комедия,фэнтези', 'документальный,биография,музыка',\n",
       "       'фантастика,боевик,фэнтези', 'ужасы,боевик,триллер',\n",
       "       'комедия,криминал,семейный', 'приключения,драма',\n",
       "       'криминал,драма,триллер', 'драма,детектив,криминал',\n",
       "       'фэнтези,приключения,комедия', 'комедия,спорт',\n",
       "       'мюзикл,фэнтези,мелодрама', 'мультфильм,фэнтези,приключения',\n",
       "       'фантастика,фэнтези,приключения', 'фэнтези',\n",
       "       'фэнтези,приключения,боевик', 'фантастика,боевик,драма',\n",
       "       'криминал,драма', 'криминал,триллер,драма',\n",
       "       'драма,мелодрама,приключения', 'детский,комедия',\n",
       "       'фантастика,драма,боевик', 'мультфильм,семейный,фэнтези',\n",
       "       'концерт,музыка,документальный', 'ужасы,комедия,приключения',\n",
       "       'драма,мелодрама,криминал', 'ужасы,фантастика,фэнтези',\n",
       "       'боевик,комедия', 'мультфильм,фантастика,комедия', 'триллер,ужасы',\n",
       "       'мультфильм,мюзикл,комедия', 'мелодрама,фэнтези,триллер',\n",
       "       'детский,приключения,комедия', 'комедия,детектив',\n",
       "       'аниме,мультфильм,мелодрама', 'документальный,драма,семейный',\n",
       "       'документальный,биография,история', 'военный,боевик,драма',\n",
       "       'ужасы,комедия', 'комедия,приключения,семейный',\n",
       "       'приключения,биография,история', 'детский,приключения,семейный',\n",
       "       'спорт,драма,биография', 'аниме,мультфильм,ужасы',\n",
       "       'фантастика,боевик,криминал', 'мюзикл,драма',\n",
       "       'драма,криминал,детектив', 'аниме,мультфильм,драма',\n",
       "       'драма,триллер,приключения', 'триллер,криминал,драма',\n",
       "       'фэнтези,комедия,драма', 'мультфильм,комедия',\n",
       "       'драма,комедия,история', 'комедия,биография,история',\n",
       "       'мультфильм,фантастика,приключения', 'аниме,мультфильм,фантастика',\n",
       "       'мультфильм,фэнтези,семейный', 'мультфильм,боевик,комедия',\n",
       "       'комедия,криминал,спорт', 'документальный,мюзикл',\n",
       "       'мелодрама,комедия,музыка', 'биография',\n",
       "       'триллер,криминал,комедия', 'фантастика,драма,комедия',\n",
       "       'комедия,драма,мелодрама', 'фантастика,приключения,боевик',\n",
       "       'мультфильм,фэнтези,драма', 'триллер,комедия',\n",
       "       'драма,приключения,биография', 'фантастика,комедия',\n",
       "       'мелодрама,драма,комедия', 'боевик,криминал',\n",
       "       'драма,криминал,боевик', 'мультфильм,мюзикл,детский',\n",
       "       'драма,фэнтези', 'документальный,семейный',\n",
       "       'фэнтези,драма,приключения', 'ужасы,комедия,фантастика',\n",
       "       'драма,мелодрама,музыка', 'фэнтези,драма,семейный',\n",
       "       'триллер,мелодрама,драма', 'вестерн,боевик,драма',\n",
       "       'мультфильм,короткометражка,комедия', 'триллер,драма,история',\n",
       "       'ужасы,фантастика', 'ужасы,мелодрама,комедия',\n",
       "       'фэнтези,приключения', 'фантастика,триллер',\n",
       "       'ужасы,боевик,фэнтези', 'мультфильм,комедия,детский',\n",
       "       'триллер,драма,биография', 'мультфильм,ужасы,фэнтези',\n",
       "       'мультфильм,ужасы,фантастика', 'ужасы,боевик,комедия',\n",
       "       'драма,биография,спорт', 'мультфильм', 'мелодрама,комедия,драма',\n",
       "       'приключения,фантастика,семейный', 'комедия,криминал,детектив',\n",
       "       'ужасы,триллер,комедия', 'криминал,комедия,триллер',\n",
       "       'семейный,приключения,комедия', 'мультфильм,драма,приключения',\n",
       "       'ужасы,драма,детектив', 'драма,приключения,фэнтези',\n",
       "       'фантастика,мультфильм,драма', 'драма,триллер,детектив',\n",
       "       'драма,история,музыка', 'детский', 'триллер,боевик,криминал',\n",
       "       'драма,фантастика', 'комедия,драма,семейный',\n",
       "       'боевик,драма,комедия', 'комедия,ужасы',\n",
       "       'драма,фантастика,триллер', 'фантастика,драма,триллер',\n",
       "       'история,спорт,драма', 'документальный,биография',\n",
       "       'биография,история', 'спорт,драма', 'боевик,фэнтези',\n",
       "       'мультфильм,фэнтези', 'документальный,комедия,история',\n",
       "       'криминал,комедия,боевик', 'фэнтези,приключения,драма',\n",
       "       'музыка,концерт', 'триллер,драма,боевик',\n",
       "       'комедия,криминал,боевик', 'комедия,фантастика,боевик',\n",
       "       'вестерн,приключения,боевик', 'аниме,мультфильм,комедия',\n",
       "       'детектив,криминал,триллер', 'мультфильм,комедия,криминал',\n",
       "       'комедия,приключения,детектив', 'мелодрама,фантастика,драма',\n",
       "       'драма,комедия,семейный', 'приключения,фантастика',\n",
       "       'триллер,детектив,ужасы', 'комедия,приключения,фэнтези',\n",
       "       'фэнтези,триллер,драма', 'мелодрама,приключения,боевик',\n",
       "       'детектив,триллер,криминал', 'фэнтези,семейный,мелодрама',\n",
       "       'военный,драма', 'документальный,приключения,семейный',\n",
       "       'криминал,комедия,драма', 'комедия,фантастика',\n",
       "       'история,биография,драма', 'мелодрама,драма,музыка',\n",
       "       'боевик,мелодрама', 'комедия,криминал,триллер',\n",
       "       'детектив,триллер,боевик', 'комедия,боевик,криминал',\n",
       "       'комедия,вестерн', 'детский,мелодрама,семейный',\n",
       "       'короткометражка,мультфильм', 'комедия,фэнтези',\n",
       "       'фантастика,драма,ужасы', 'триллер,драма,ужасы',\n",
       "       'драма,фэнтези,история', 'комедия,драма,короткометражка',\n",
       "       'фэнтези,триллер,приключения', 'семейный',\n",
       "       'комедия,криминал,драма', 'комедия,фэнтези,ужасы',\n",
       "       'короткометражка,комедия,криминал', 'фантастика',\n",
       "       'триллер,ужасы,драма', 'мелодрама,драма,фэнтези',\n",
       "       'фантастика,приключения,драма', 'боевик,детектив',\n",
       "       'военный,драма,боевик', 'комедия,мелодрама,фэнтези',\n",
       "       'вестерн,криминал,триллер', 'драма,история,триллер',\n",
       "       'мультфильм,фантастика,боевик', 'детектив,драма,криминал',\n",
       "       'приключения,история,драма', 'мультфильм,семейный,детский',\n",
       "       'биография,драма,история', 'триллер,криминал,боевик',\n",
       "       'история,мелодрама', 'приключения,детский',\n",
       "       'музыка,приключения,концерт', 'военный,драма,комедия',\n",
       "       'фэнтези,боевик,военный', 'фантастика,детектив,боевик',\n",
       "       'мультфильм,фэнтези,история', 'биография,мелодрама,драма',\n",
       "       'документальный,биография,спорт', 'фантастика,комедия,детектив',\n",
       "       'музыка,концерт,документальный', 'триллер,боевик,приключения',\n",
       "       'триллер,драма,комедия', 'детектив,криминал',\n",
       "       'мультфильм,приключения,фэнтези', 'мелодрама,приключения',\n",
       "       'комедия,музыка', 'мелодрама,комедия,ужасы',\n",
       "       'драма,криминал,приключения', 'приключения,детектив,мелодрама',\n",
       "       'драма,криминал,фантастика', 'фэнтези,драма,биография',\n",
       "       'детектив,фантастика,криминал', 'триллер,драма,фантастика',\n",
       "       'ужасы,комедия,боевик', 'мелодрама,история', 'триллер,боевик',\n",
       "       'фильм-нуар,триллер,детектив', 'комедия,криминал,приключения',\n",
       "       'ужасы,триллер,мелодрама', 'военный,драма,история',\n",
       "       'драма,спорт,история', 'документальный,драма,история',\n",
       "       'триллер,мелодрама,детектив', 'детский,семейный',\n",
       "       'мюзикл,семейный,драма', 'биография,военный,драма',\n",
       "       'мультфильм,детский', 'боевик,криминал,драма',\n",
       "       'детектив,фэнтези,триллер', 'драма,боевик,приключения',\n",
       "       'драма,мелодрама,фэнтези', 'детектив,история,драма',\n",
       "       'фэнтези,боевик,ужасы', 'ужасы,фэнтези,мелодрама',\n",
       "       'ужасы,приключения', 'боевик,фантастика',\n",
       "       'ужасы,мелодрама,детектив', 'фантастика,триллер,приключения',\n",
       "       'боевик,приключения,история', 'приключения,боевик,триллер',\n",
       "       'детектив,ужасы,криминал', 'семейный,фэнтези', 'мюзикл,мелодрама',\n",
       "       'драма,военный,приключения', 'фантастика,драма,приключения',\n",
       "       'приключения,семейный,драма', 'история,драма,боевик',\n",
       "       'мультфильм,приключения,комедия', 'криминал,драма,комедия',\n",
       "       'ужасы,комедия,драма', 'комедия,семейный,приключения',\n",
       "       'мюзикл,фэнтези,драма', 'драма,вестерн,боевик',\n",
       "       'фантастика,триллер,детектив', 'драма,история,детектив',\n",
       "       'короткометражка,биография', 'мультфильм,приключения,фантастика',\n",
       "       'комедия,триллер', 'мультфильм,приключения,детектив',\n",
       "       'драма,триллер', 'ужасы,триллер,криминал',\n",
       "       'документальный,криминал,военный', 'ужасы,фэнтези,драма',\n",
       "       'фэнтези,комедия', 'ужасы,фэнтези,комедия', 'комедия,музыка,драма',\n",
       "       'мультфильм,приключения,военный', 'мюзикл,фэнтези,комедия',\n",
       "       'боевик,фантастика,приключения', 'триллер,ужасы,криминал',\n",
       "       'ужасы,фантастика,драма', 'фантастика,приключения,семейный',\n",
       "       'короткометражка,музыка', 'мелодрама,детектив,комедия',\n",
       "       'документальный,триллер,биография', 'боевик,фантастика,триллер',\n",
       "       'спорт,драма,комедия', 'фэнтези,мелодрама,приключения',\n",
       "       'триллер,детектив,криминал', 'короткометражка,мелодрама',\n",
       "       'мультфильм,семейный,спорт', 'комедия,фэнтези,мелодрама',\n",
       "       'драма,спорт,комедия', 'история,драма,мелодрама',\n",
       "       'драма,боевик,криминал', 'драма,комедия,триллер',\n",
       "       'аниме,мультфильм', 'документальный,ужасы',\n",
       "       'мультфильм,короткометражка', 'драма,история,военный',\n",
       "       'мультфильм,короткометражка,фэнтези', 'комедия,военный,музыка',\n",
       "       'биография,история,драма', 'ужасы,драма,мелодрама',\n",
       "       'драма,комедия,детектив', 'комедия,семейный,фантастика',\n",
       "       'мультфильм,семейный,комедия', 'история,детектив',\n",
       "       'приключения,мелодрама,детектив', 'мюзикл,комедия,мелодрама',\n",
       "       'драма,фантастика,ужасы', 'мультфильм,ужасы,комедия',\n",
       "       'для взрослых,драма,комедия', 'ужасы,комедия,музыка',\n",
       "       'комедия,история,драма', 'семейный,детектив,детский',\n",
       "       'короткометражка,драма', 'документальный,новости,драма',\n",
       "       'триллер,мелодрама', 'ужасы,драма,вестерн',\n",
       "       'мюзикл,фэнтези,семейный', 'вестерн,драма,триллер',\n",
       "       'приключения,вестерн,боевик', 'семейный,комедия,музыка',\n",
       "       'боевик,драма,вестерн', 'ужасы,драма,триллер',\n",
       "       'фантастика,мелодрама', 'комедия,криминал,биография',\n",
       "       'семейный,мультфильм,комедия', 'комедия,драма,криминал',\n",
       "       'фантастика,боевик,военный', 'приключения,биография,драма',\n",
       "       'приключения,триллер,биография', 'криминал,боевик,триллер',\n",
       "       'боевик,вестерн,приключения', 'история,драма',\n",
       "       'фантастика,фэнтези,комедия', 'мультфильм,детский,комедия',\n",
       "       'мелодрама,комедия,триллер', 'документальный,боевик,приключения',\n",
       "       'драма,приключения', 'мелодрама,военный,драма', 'триллер,фэнтези',\n",
       "       'драма,триллер,биография', 'фэнтези,боевик,семейный',\n",
       "       'фантастика,триллер,комедия', 'документальный,фэнтези',\n",
       "       'комедия,мультфильм,фантастика', 'криминал,биография,комедия',\n",
       "       'биография,спорт,драма', 'приключения,военный',\n",
       "       'мультфильм,семейный,драма', 'документальный,фэнтези,драма',\n",
       "       'комедия,боевик,фантастика', 'семейный,приключения,военный',\n",
       "       'триллер,ужасы,детектив', 'короткометражка',\n",
       "       'мелодрама,триллер,история', 'документальный,история',\n",
       "       'мультфильм,приключения,детский', 'драма,комедия,мультфильм',\n",
       "       'военный,детектив', 'семейный,приключения,документальный',\n",
       "       'детский,фэнтези', 'документальный,комедия', 'комедия,биография',\n",
       "       'криминал,комедия', 'спорт,мелодрама,криминал',\n",
       "       'фантастика,комедия,боевик', 'боевик,приключения,детектив',\n",
       "       'детектив,триллер,драма', 'документальный,фантастика',\n",
       "       'мелодрама,комедия,семейный', 'мультфильм,мелодрама,комедия',\n",
       "       'драма,спорт,семейный', 'фантастика,мелодрама,фэнтези',\n",
       "       'мюзикл,комедия,музыка', 'фантастика,триллер,мелодрама',\n",
       "       'приключения,комедия,фэнтези', 'фэнтези,боевик,детектив',\n",
       "       'фэнтези,боевик,мелодрама', 'комедия,военный',\n",
       "       'драма,спорт,боевик', 'мультфильм,боевик,триллер',\n",
       "       'мелодрама,семейный', 'фантастика,боевик,детектив',\n",
       "       'драма,приключения,история', 'документальный,драма,музыка',\n",
       "       'фантастика,триллер,боевик', 'фэнтези,боевик,вестерн',\n",
       "       'драма,комедия,мелодрама', 'ужасы,фэнтези,приключения',\n",
       "       'триллер,фэнтези,драма', 'мультфильм,мюзикл,мелодрама',\n",
       "       'ужасы,триллер,фантастика', 'триллер,мелодрама,комедия',\n",
       "       'ужасы,комедия,семейный', 'комедия,приключения,музыка',\n",
       "       'документальный,комедия,криминал', 'мелодрама,детектив',\n",
       "       'детский,приключения,фантастика', 'короткометражка,боевик,драма',\n",
       "       'боевик,комедия,семейный', 'фантастика,боевик,мелодрама',\n",
       "       'фэнтези,триллер,мелодрама', 'драма,детектив,история',\n",
       "       'боевик,криминал,детектив', 'мультфильм,фэнтези,мелодрама',\n",
       "       'мелодрама,драма,боевик', 'драма,вестерн,приключения',\n",
       "       'драма,приключения,мелодрама', 'фэнтези,боевик,криминал',\n",
       "       'фантастика,комедия,семейный', 'детский,фэнтези,приключения',\n",
       "       'ужасы,боевик', 'фантастика,мелодрама,комедия',\n",
       "       'семейный,спорт,боевик', 'триллер,биография,драма',\n",
       "       'ужасы,драма,комедия', 'мультфильм,фэнтези,триллер', 'мюзикл',\n",
       "       'боевик,спорт,драма', 'комедия,приключения,вестерн',\n",
       "       'документальный,ужасы,боевик', 'фантастика,боевик,семейный',\n",
       "       'военный,история', 'ужасы,боевик,криминал', 'детектив,триллер',\n",
       "       'драма,семейный,комедия', 'драма,детектив,приключения',\n",
       "       'драма,криминал,история', 'приключения,триллер',\n",
       "       'боевик,драма,биография', 'драма,приключения,триллер',\n",
       "       'комедия,фэнтези,приключения', 'фантастика,боевик,ужасы',\n",
       "       'драма,комедия,фантастика', 'детектив,криминал,драма',\n",
       "       'боевик,триллер,фэнтези', 'приключения,детектив,семейный',\n",
       "       'ужасы,комедия,криминал', 'мультфильм,биография,драма',\n",
       "       'история,боевик,фэнтези', 'детектив,криминал,боевик',\n",
       "       'приключения,фэнтези', 'комедия,приключения,спорт',\n",
       "       'драма,биография,мюзикл', 'комедия,семейный,фэнтези',\n",
       "       'детектив,драма,триллер', 'боевик,приключения,семейный',\n",
       "       'биография,спорт,комедия', 'фантастика,приключения,военный',\n",
       "       'документальный,драма,биография', 'детектив,приключения,драма',\n",
       "       'аниме,мультфильм,приключения', 'семейный,приключения',\n",
       "       'ужасы,фэнтези,детектив', 'семейный,документальный',\n",
       "       'драма,приключения,семейный', 'приключения,история,военный',\n",
       "       'фэнтези,мелодрама', 'фэнтези,триллер,детектив',\n",
       "       'документальный,спорт,биография', 'комедия,триллер,драма',\n",
       "       'драма,ужасы', 'биография,музыка,драма', 'фэнтези,ужасы',\n",
       "       'детектив,мелодрама,фэнтези', 'боевик,военный,история',\n",
       "       'биография,драма,криминал', 'триллер,мелодрама,криминал',\n",
       "       'семейный,мелодрама', 'биография,драма', 'военный,история,драма',\n",
       "       'фантастика,детектив,фэнтези', 'детектив,приключения,триллер',\n",
       "       'фантастика,приключения', 'мультфильм,короткометражка,мюзикл',\n",
       "       'мультфильм,детский,семейный', 'документальный,драма,комедия',\n",
       "       'комедия,приключения,криминал', 'документальный,семейный,музыка',\n",
       "       'мелодрама,музыка,драма', 'детектив,фантастика,триллер',\n",
       "       'драма,мелодрама,триллер', 'биография,драма,военный',\n",
       "       'приключения,фантастика,драма', 'детектив,фильм-нуар,комедия',\n",
       "       'документальный,спорт', 'триллер,фантастика,драма',\n",
       "       'биография,документальный', 'ужасы,фантастика,мелодрама',\n",
       "       'детектив,комедия', 'история,биография,военный',\n",
       "       'криминал,мелодрама', 'драма,криминал,вестерн',\n",
       "       'мелодрама,семейный,приключения', 'триллер,ужасы,мелодрама',\n",
       "       'фэнтези,драма,фильм-нуар', 'детектив,мелодрама',\n",
       "       'комедия,драма,биография', 'драма,военный,боевик',\n",
       "       'драма,комедия,ужасы', 'фантастика,драма,криминал',\n",
       "       'документальный,музыка,биография', 'мультфильм,боевик,приключения',\n",
       "       'мультфильм,мелодрама,драма', 'боевик,военный,драма',\n",
       "       'фэнтези,семейный,приключения', 'детский,мультфильм,приключения',\n",
       "       'семейный,фэнтези,комедия', 'фэнтези,ужасы,триллер',\n",
       "       'ужасы,триллер,приключения', 'драма,боевик,история',\n",
       "       'фэнтези,комедия,детектив', 'история,приключения',\n",
       "       'аниме,мультфильм,короткометражка', 'драма,военный,триллер',\n",
       "       'биография,криминал,триллер', 'фантастика,фэнтези,детектив',\n",
       "       'вестерн,биография,драма', 'биография,музыка,мюзикл',\n",
       "       'драма,история,биография', 'приключения,драма,фантастика',\n",
       "       'комедия,фэнтези,криминал', 'биография,спорт,история',\n",
       "       'драма,криминал,семейный', 'детектив,боевик,история',\n",
       "       'ужасы,комедия,детектив', 'триллер,приключения,драма',\n",
       "       'фэнтези,комедия,криминал', 'триллер,криминал,приключения',\n",
       "       'комедия,детектив,приключения', 'фэнтези,драма,ужасы',\n",
       "       'ужасы,драма,военный', 'реальное ТВ', 'аниме,мультфильм,детектив',\n",
       "       'приключения,фэнтези,семейный', 'драма,биография,комедия',\n",
       "       'триллер,комедия,ужасы', 'музыка,мелодрама,фэнтези',\n",
       "       'мультфильм,история', 'мультфильм,комедия,фантастика',\n",
       "       'биография,криминал,драма', 'комедия,мелодрама,фантастика',\n",
       "       'криминал,боевик,комедия', 'история,криминал',\n",
       "       'детектив,комедия,драма', 'триллер,фантастика,боевик',\n",
       "       'криминал,боевик', 'комедия,драма,военный',\n",
       "       'драма,триллер,криминал', 'мультфильм,мелодрама,приключения',\n",
       "       'фантастика,фэнтези,триллер', 'короткометражка,драма,триллер',\n",
       "       'военный,боевик,история', 'боевик,драма,триллер',\n",
       "       'документальный,военный,драма', 'драма,криминал,фильм-нуар',\n",
       "       'мультфильм,детский,приключения', 'мелодрама,история,драма'],\n",
       "      dtype=object)"
      ]
     },
     "execution_count": 17,
     "metadata": {},
     "output_type": "execute_result"
    }
   ],
   "source": [
    "df['genres'].unique()"
   ]
  },
  {
   "cell_type": "code",
   "execution_count": 18,
   "id": "1276abb5",
   "metadata": {},
   "outputs": [
    {
     "data": {
      "text/html": [
       "<div>\n",
       "<style scoped>\n",
       "    .dataframe tbody tr th:only-of-type {\n",
       "        vertical-align: middle;\n",
       "    }\n",
       "\n",
       "    .dataframe tbody tr th {\n",
       "        vertical-align: top;\n",
       "    }\n",
       "\n",
       "    .dataframe thead th {\n",
       "        text-align: right;\n",
       "    }\n",
       "</style>\n",
       "<table border=\"1\" class=\"dataframe\">\n",
       "  <thead>\n",
       "    <tr style=\"text-align: right;\">\n",
       "      <th></th>\n",
       "      <th>title</th>\n",
       "      <th>puNumber</th>\n",
       "      <th>show_start_date</th>\n",
       "      <th>type</th>\n",
       "      <th>film_studio</th>\n",
       "      <th>production_country</th>\n",
       "      <th>director</th>\n",
       "      <th>producer</th>\n",
       "      <th>age_restriction</th>\n",
       "      <th>refundable_support</th>\n",
       "      <th>nonrefundable_support</th>\n",
       "      <th>budget</th>\n",
       "      <th>financing_source</th>\n",
       "      <th>ratings</th>\n",
       "      <th>genres</th>\n",
       "      <th>box_office</th>\n",
       "      <th>genres_j</th>\n",
       "    </tr>\n",
       "  </thead>\n",
       "  <tbody>\n",
       "    <tr>\n",
       "      <th>0</th>\n",
       "      <td>Открытый простор</td>\n",
       "      <td>221048915</td>\n",
       "      <td>2015-11-27 12:00:00+00:00</td>\n",
       "      <td>Художественный</td>\n",
       "      <td>Тачстоун Пикчерз, Кобальт Пикчерз, Бикон Пикче...</td>\n",
       "      <td>США</td>\n",
       "      <td>Кевин Костнер</td>\n",
       "      <td>Дэвид Валдес, Кевин Костнер, Джейк Эбертс</td>\n",
       "      <td>«18+» - запрещено для детей</td>\n",
       "      <td>NaN</td>\n",
       "      <td>NaN</td>\n",
       "      <td>NaN</td>\n",
       "      <td>NaN</td>\n",
       "      <td>7.2</td>\n",
       "      <td>боевик,драма,мелодрама</td>\n",
       "      <td>NaN</td>\n",
       "      <td>[боевик, драма, мелодрама]</td>\n",
       "    </tr>\n",
       "    <tr>\n",
       "      <th>1</th>\n",
       "      <td>Особо важное задание</td>\n",
       "      <td>111013716</td>\n",
       "      <td>2016-09-13 12:00:00+00:00</td>\n",
       "      <td>Художественный</td>\n",
       "      <td>Киностудия \"Мосфильм\"</td>\n",
       "      <td>СССР</td>\n",
       "      <td>Е.Матвеев</td>\n",
       "      <td>NaN</td>\n",
       "      <td>«6+» - для детей старше 6 лет</td>\n",
       "      <td>NaN</td>\n",
       "      <td>NaN</td>\n",
       "      <td>NaN</td>\n",
       "      <td>NaN</td>\n",
       "      <td>6.6</td>\n",
       "      <td>драма,военный</td>\n",
       "      <td>NaN</td>\n",
       "      <td>[драма, военный]</td>\n",
       "    </tr>\n",
       "    <tr>\n",
       "      <th>2</th>\n",
       "      <td>Особо опасен</td>\n",
       "      <td>221038416</td>\n",
       "      <td>2016-10-10 12:00:00+00:00</td>\n",
       "      <td>Художественный</td>\n",
       "      <td>Юниверсал Пикчерз, Кикстарт Продакшнз, Марк Пл...</td>\n",
       "      <td>США</td>\n",
       "      <td>Тимур Бекмамбетов</td>\n",
       "      <td>Джим Лемли, Джейсон Нетер, Марк Е.Платт, Яйн Смит</td>\n",
       "      <td>«18+» - запрещено для детей</td>\n",
       "      <td>NaN</td>\n",
       "      <td>NaN</td>\n",
       "      <td>NaN</td>\n",
       "      <td>NaN</td>\n",
       "      <td>6.8</td>\n",
       "      <td>фантастика,боевик,триллер</td>\n",
       "      <td>NaN</td>\n",
       "      <td>[фантастика, боевик, триллер]</td>\n",
       "    </tr>\n",
       "    <tr>\n",
       "      <th>5</th>\n",
       "      <td>Остановился поезд</td>\n",
       "      <td>111013816</td>\n",
       "      <td>2016-09-13 12:00:00+00:00</td>\n",
       "      <td>Художественный</td>\n",
       "      <td>Киностудия \"Мосфильм\"</td>\n",
       "      <td>СССР</td>\n",
       "      <td>В.Абдрашитов</td>\n",
       "      <td>NaN</td>\n",
       "      <td>«6+» - для детей старше 6 лет</td>\n",
       "      <td>NaN</td>\n",
       "      <td>NaN</td>\n",
       "      <td>NaN</td>\n",
       "      <td>NaN</td>\n",
       "      <td>7.7</td>\n",
       "      <td>драма</td>\n",
       "      <td>NaN</td>\n",
       "      <td>[драма]</td>\n",
       "    </tr>\n",
       "    <tr>\n",
       "      <th>6</th>\n",
       "      <td>Любовь и голуби</td>\n",
       "      <td>111007013</td>\n",
       "      <td>2013-10-18 12:00:00+00:00</td>\n",
       "      <td>Художественный</td>\n",
       "      <td>Киностудия \"Мосфильм\"</td>\n",
       "      <td>СССР</td>\n",
       "      <td>В.Меньшов</td>\n",
       "      <td>NaN</td>\n",
       "      <td>«12+» - для детей старше 12 лет</td>\n",
       "      <td>NaN</td>\n",
       "      <td>NaN</td>\n",
       "      <td>NaN</td>\n",
       "      <td>NaN</td>\n",
       "      <td>8.3</td>\n",
       "      <td>мелодрама,комедия</td>\n",
       "      <td>2700.0</td>\n",
       "      <td>[мелодрама, комедия]</td>\n",
       "    </tr>\n",
       "  </tbody>\n",
       "</table>\n",
       "</div>"
      ],
      "text/plain": [
       "                  title   puNumber           show_start_date            type  \\\n",
       "0      Открытый простор  221048915 2015-11-27 12:00:00+00:00  Художественный   \n",
       "1  Особо важное задание  111013716 2016-09-13 12:00:00+00:00  Художественный   \n",
       "2          Особо опасен  221038416 2016-10-10 12:00:00+00:00  Художественный   \n",
       "5     Остановился поезд  111013816 2016-09-13 12:00:00+00:00  Художественный   \n",
       "6       Любовь и голуби  111007013 2013-10-18 12:00:00+00:00  Художественный   \n",
       "\n",
       "                                         film_studio production_country  \\\n",
       "0  Тачстоун Пикчерз, Кобальт Пикчерз, Бикон Пикче...                США   \n",
       "1                              Киностудия \"Мосфильм\"               СССР   \n",
       "2  Юниверсал Пикчерз, Кикстарт Продакшнз, Марк Пл...                США   \n",
       "5                              Киностудия \"Мосфильм\"               СССР   \n",
       "6                              Киностудия \"Мосфильм\"               СССР   \n",
       "\n",
       "            director                                           producer  \\\n",
       "0      Кевин Костнер          Дэвид Валдес, Кевин Костнер, Джейк Эбертс   \n",
       "1          Е.Матвеев                                                NaN   \n",
       "2  Тимур Бекмамбетов  Джим Лемли, Джейсон Нетер, Марк Е.Платт, Яйн Смит   \n",
       "5       В.Абдрашитов                                                NaN   \n",
       "6          В.Меньшов                                                NaN   \n",
       "\n",
       "                   age_restriction  refundable_support  nonrefundable_support  \\\n",
       "0      «18+» - запрещено для детей                 NaN                    NaN   \n",
       "1    «6+» - для детей старше 6 лет                 NaN                    NaN   \n",
       "2      «18+» - запрещено для детей                 NaN                    NaN   \n",
       "5    «6+» - для детей старше 6 лет                 NaN                    NaN   \n",
       "6  «12+» - для детей старше 12 лет                 NaN                    NaN   \n",
       "\n",
       "   budget financing_source ratings                     genres  box_office  \\\n",
       "0     NaN              NaN     7.2     боевик,драма,мелодрама         NaN   \n",
       "1     NaN              NaN     6.6              драма,военный         NaN   \n",
       "2     NaN              NaN     6.8  фантастика,боевик,триллер         NaN   \n",
       "5     NaN              NaN     7.7                      драма         NaN   \n",
       "6     NaN              NaN     8.3          мелодрама,комедия      2700.0   \n",
       "\n",
       "                        genres_j  \n",
       "0     [боевик, драма, мелодрама]  \n",
       "1               [драма, военный]  \n",
       "2  [фантастика, боевик, триллер]  \n",
       "5                        [драма]  \n",
       "6           [мелодрама, комедия]  "
      ]
     },
     "execution_count": 18,
     "metadata": {},
     "output_type": "execute_result"
    }
   ],
   "source": [
    "def func_2(i):\n",
    "    if type(i) != float:\n",
    "        return i.split(',')\n",
    "    return i\n",
    "df['genres_j'] = df[~df['genres'].isna()]['genres'].apply(func_2)\n",
    "df.explode('genres_j')['genres_j'].value_counts()\n",
    "df.head()"
   ]
  },
  {
   "cell_type": "markdown",
   "id": "1a59646c",
   "metadata": {},
   "source": [
    "Можно заметить одну общую тенденцию при анализе категориальных стобцов - это то, что очень сложно анализить какие-то значения, которые в себе могут содеражать по 4-5 разных подтипов, однако данная задача решается через функцию `explode`"
   ]
  },
  {
   "cell_type": "markdown",
   "id": "4fdbe09a",
   "metadata": {},
   "source": [
    "<div class=\"alert alert-success\">\n",
    "<h2> Комментарий ревьюера 😊<a class=\"tocSkip\"> </h2>\n",
    "\n",
    "Проблему определили верно)"
   ]
  },
  {
   "cell_type": "markdown",
   "id": "3c21374a",
   "metadata": {},
   "source": [
    "### Изучим столбцы, которые хранят количественные значения"
   ]
  },
  {
   "cell_type": "markdown",
   "id": "dc3ab4d0",
   "metadata": {},
   "source": [
    "Рассмотрим проблему столбца \"ratings\": в столбце есть значения в процентах. Так как остальные оценки выставлены по школе оот 1 до 10, то скорей всего, например, значение 99% - означало 9.9 баллов\n"
   ]
  },
  {
   "cell_type": "code",
   "execution_count": 19,
   "id": "7c0177f1",
   "metadata": {},
   "outputs": [
    {
     "data": {
      "text/plain": [
       "array(['7.2', '6.6', '6.8', '7.7', '8.3', '8.0', '7.8', '8.1', '7.1',\n",
       "       '6.0', '7.4', '5.8', '8.7', '6.3', '6.9', '5.0', '4.3', '7.3',\n",
       "       '7.0', '6.4', nan, '8.2', '7.5', '6.7', '7.9', '5.9', '6.2', '5.6',\n",
       "       '6.5', '2.4', '7.6', '6.1', '8.6', '8.5', '8.8', '5.5', '5.1',\n",
       "       '5.7', '5.4', '99%', '4.4', '4.5', '5.3', '4.1', '8.4', '2.6',\n",
       "       '3.8', '4.6', '4.8', '4.0', '3.0', '1.6', '4.2', '5.2', '4.7',\n",
       "       '4.9', '3.9', '2.7', '3.3', '2.9', '28%', '3.7', '1.4', '3.1',\n",
       "       '97%', '3.5', '3.2', '2.8', '1.5', '2.1', '2.5', '9.2', '3.4',\n",
       "       '1.1', '3.6', '83%', '64%', '91%', '94%', '62%', '79%', '90%',\n",
       "       '19%', '88%', '1.0', '89%', '1.3', '1.9', '1.8', '1.2', '1.7',\n",
       "       '9.0', '98%', '8.9', '9.1'], dtype=object)"
      ]
     },
     "execution_count": 19,
     "metadata": {},
     "output_type": "execute_result"
    }
   ],
   "source": [
    "df['ratings'].unique()"
   ]
  },
  {
   "cell_type": "markdown",
   "id": "c375d95d",
   "metadata": {},
   "source": [
    "Исправим данное условие"
   ]
  },
  {
   "cell_type": "code",
   "execution_count": 20,
   "id": "e935ec6e",
   "metadata": {},
   "outputs": [],
   "source": [
    "def func_3(i):\n",
    "    \n",
    "    if str(i).split('%')[0] == str(i) :\n",
    "        return i\n",
    "    return int(i.split('%')[0])/10\n",
    "df['ratings'] = df['ratings'].apply(func_3)"
   ]
  },
  {
   "cell_type": "markdown",
   "id": "bab38e90",
   "metadata": {},
   "source": [
    "Проверим значения столбца"
   ]
  },
  {
   "cell_type": "code",
   "execution_count": 21,
   "id": "746e5266",
   "metadata": {},
   "outputs": [
    {
     "data": {
      "text/plain": [
       "array(['7.2', '6.6', '6.8', '7.7', '8.3', '8.0', '7.8', '8.1', '7.1',\n",
       "       '6.0', '7.4', '5.8', '8.7', '6.3', '6.9', '5.0', '4.3', '7.3',\n",
       "       '7.0', '6.4', nan, '8.2', '7.5', '6.7', '7.9', '5.9', '6.2', '5.6',\n",
       "       '6.5', '2.4', '7.6', '6.1', '8.6', '8.5', '8.8', '5.5', '5.1',\n",
       "       '5.7', '5.4', 9.9, '4.4', '4.5', '5.3', '4.1', '8.4', '2.6', '3.8',\n",
       "       '4.6', '4.8', '4.0', '3.0', '1.6', '4.2', '5.2', '4.7', '4.9',\n",
       "       '3.9', '2.7', '3.3', '2.9', 2.8, '3.7', '1.4', '3.1', 9.7, '3.5',\n",
       "       '3.2', '2.8', '1.5', '2.1', '2.5', '9.2', '3.4', '1.1', '3.6', 8.3,\n",
       "       6.4, 9.1, 9.4, 6.2, 7.9, 9.0, 1.9, 8.8, '1.0', 8.9, '1.3', '1.9',\n",
       "       '1.8', '1.2', '1.7', '9.0', 9.8, '8.9', '9.1'], dtype=object)"
      ]
     },
     "execution_count": 21,
     "metadata": {},
     "output_type": "execute_result"
    }
   ],
   "source": [
    "df['ratings'].unique()"
   ]
  },
  {
   "cell_type": "markdown",
   "id": "5c099e06",
   "metadata": {},
   "source": [
    "<div class=\"alert alert-warning\">\n",
    "<h2> Комментарий ревьюера 🤓<a class=\"tocSkip\"> </h2>\n",
    "\n",
    "Также можно изучить, нет ли фиьмов с бюджетом меньшим суммы гос. поддержки.\n",
    "\n",
    "Построить боксплоты и использовать метод describe() для изучения столбцов)"
   ]
  },
  {
   "cell_type": "markdown",
   "id": "785fe194",
   "metadata": {},
   "source": [
    "### Добавим новые столбцы"
   ]
  },
  {
   "cell_type": "code",
   "execution_count": 22,
   "id": "85061015",
   "metadata": {},
   "outputs": [],
   "source": [
    "def func_2(i):\n",
    "    if type(i) != float:\n",
    "        \n",
    "        return i.split(',')[0]\n",
    "    return i"
   ]
  },
  {
   "cell_type": "markdown",
   "id": "b3505de5",
   "metadata": {},
   "source": [
    "<div class=\"alert alert-success\">\n",
    "<h2> Комментарий ревьюера 😊<a class=\"tocSkip\"> </h2>\n",
    "\n",
    "Молодец, что используешь функции для автоатизации)"
   ]
  },
  {
   "cell_type": "code",
   "execution_count": 23,
   "id": "e4504f23",
   "metadata": {},
   "outputs": [],
   "source": [
    "df['show_start_date_year'] = df['show_start_date'].dt.year\n",
    "df['producer_main'] = df['director'].apply(func_2)\n",
    "df['genres_main'] = df['genres'].apply(func_2)\n",
    "df['dolya'] = (df['refundable_support'] + df['nonrefundable_support'])/df['budget']"
   ]
  },
  {
   "cell_type": "markdown",
   "id": "59bb8cbf",
   "metadata": {},
   "source": [
    "<div class=\"alert alert-block alert-info\">\n",
    "Проверим наши данные!"
   ]
  },
  {
   "cell_type": "code",
   "execution_count": 24,
   "id": "0b5a3f57",
   "metadata": {},
   "outputs": [
    {
     "name": "stdout",
     "output_type": "stream",
     "text": [
      "      show_start_date_year      producer_main genres_main  dolya\n",
      "0                     2015      Кевин Костнер      боевик    NaN\n",
      "1                     2016          Е.Матвеев       драма    NaN\n",
      "2                     2016  Тимур Бекмамбетов  фантастика    NaN\n",
      "5                     2016       В.Абдрашитов       драма    NaN\n",
      "6                     2013          В.Меньшов   мелодрама    NaN\n",
      "...                    ...                ...         ...    ...\n",
      "7481                  2019        Фил Грабски         NaN    NaN\n",
      "7482                  2019         Ник Пауэлл      боевик    NaN\n",
      "7483                  2019   Чарльз Е.Бастьен         NaN    NaN\n",
      "7484                  2019           А.Беляев         NaN    NaN\n",
      "7485                  2019           И.Трусов     комедия    NaN\n",
      "\n",
      "[6746 rows x 4 columns]\n"
     ]
    },
    {
     "data": {
      "text/html": [
       "<div>\n",
       "<style scoped>\n",
       "    .dataframe tbody tr th:only-of-type {\n",
       "        vertical-align: middle;\n",
       "    }\n",
       "\n",
       "    .dataframe tbody tr th {\n",
       "        vertical-align: top;\n",
       "    }\n",
       "\n",
       "    .dataframe thead th {\n",
       "        text-align: right;\n",
       "    }\n",
       "</style>\n",
       "<table border=\"1\" class=\"dataframe\">\n",
       "  <thead>\n",
       "    <tr style=\"text-align: right;\">\n",
       "      <th></th>\n",
       "      <th>title</th>\n",
       "      <th>puNumber</th>\n",
       "      <th>show_start_date</th>\n",
       "      <th>type</th>\n",
       "      <th>film_studio</th>\n",
       "      <th>production_country</th>\n",
       "      <th>director</th>\n",
       "      <th>producer</th>\n",
       "      <th>age_restriction</th>\n",
       "      <th>refundable_support</th>\n",
       "      <th>...</th>\n",
       "      <th>budget</th>\n",
       "      <th>financing_source</th>\n",
       "      <th>ratings</th>\n",
       "      <th>genres</th>\n",
       "      <th>box_office</th>\n",
       "      <th>genres_j</th>\n",
       "      <th>show_start_date_year</th>\n",
       "      <th>producer_main</th>\n",
       "      <th>genres_main</th>\n",
       "      <th>dolya</th>\n",
       "    </tr>\n",
       "  </thead>\n",
       "  <tbody>\n",
       "    <tr>\n",
       "      <th>1281</th>\n",
       "      <td>Пока еще жива</td>\n",
       "      <td>111005313</td>\n",
       "      <td>2013-10-11 12:00:00+00:00</td>\n",
       "      <td>Художественный</td>\n",
       "      <td>АНО содействия развитию кинематографии \"Ангел-...</td>\n",
       "      <td>Россия</td>\n",
       "      <td>А.Атанесян</td>\n",
       "      <td>А.Атанесян, М.Бабаханов, Р.Бутко</td>\n",
       "      <td>«16+» - для детей старше 16 лет</td>\n",
       "      <td>0.0</td>\n",
       "      <td>...</td>\n",
       "      <td>79411900.0</td>\n",
       "      <td>Министерство культуры</td>\n",
       "      <td>8.1</td>\n",
       "      <td>драма,мелодрама</td>\n",
       "      <td>3.653536e+05</td>\n",
       "      <td>[драма, мелодрама]</td>\n",
       "      <td>2013</td>\n",
       "      <td>А.Атанесян</td>\n",
       "      <td>драма</td>\n",
       "      <td>0.333703</td>\n",
       "    </tr>\n",
       "    <tr>\n",
       "      <th>1448</th>\n",
       "      <td>Бесславные придурки</td>\n",
       "      <td>111003314</td>\n",
       "      <td>2014-03-28 12:00:00+00:00</td>\n",
       "      <td>Художественный</td>\n",
       "      <td>ООО \"Компания \"АТК-Студио\"</td>\n",
       "      <td>Россия</td>\n",
       "      <td>А.Якимчук</td>\n",
       "      <td>А.Тютрюмов</td>\n",
       "      <td>«12+» - для детей старше 12 лет</td>\n",
       "      <td>0.0</td>\n",
       "      <td>...</td>\n",
       "      <td>37142857.0</td>\n",
       "      <td>Министерство культуры</td>\n",
       "      <td>NaN</td>\n",
       "      <td>NaN</td>\n",
       "      <td>2.814000e+04</td>\n",
       "      <td>NaN</td>\n",
       "      <td>2014</td>\n",
       "      <td>А.Якимчук</td>\n",
       "      <td>NaN</td>\n",
       "      <td>0.700000</td>\n",
       "    </tr>\n",
       "    <tr>\n",
       "      <th>1498</th>\n",
       "      <td>Невидимки</td>\n",
       "      <td>111004213</td>\n",
       "      <td>2013-09-10 12:00:00+00:00</td>\n",
       "      <td>Художественный</td>\n",
       "      <td>ООО \"Компания \"РЕАЛ-ДАКОТА\"</td>\n",
       "      <td>Россия</td>\n",
       "      <td>Р.Давлетьяров, С.Комаров</td>\n",
       "      <td>Р.Давлетьяров, А.Котелевский, А.Олейников</td>\n",
       "      <td>«12+» - для детей старше 12 лет</td>\n",
       "      <td>0.0</td>\n",
       "      <td>...</td>\n",
       "      <td>176023490.0</td>\n",
       "      <td>Фонд кино</td>\n",
       "      <td>5.3</td>\n",
       "      <td>комедия,фантастика</td>\n",
       "      <td>1.995703e+07</td>\n",
       "      <td>[комедия, фантастика]</td>\n",
       "      <td>2013</td>\n",
       "      <td>Р.Давлетьяров</td>\n",
       "      <td>комедия</td>\n",
       "      <td>0.612691</td>\n",
       "    </tr>\n",
       "    <tr>\n",
       "      <th>1524</th>\n",
       "      <td>БЕРЦЫ</td>\n",
       "      <td>111004314</td>\n",
       "      <td>2014-05-05 12:00:00+00:00</td>\n",
       "      <td>Художественный</td>\n",
       "      <td>ООО \"Студия \"Пассажир\"</td>\n",
       "      <td>Россия</td>\n",
       "      <td>Е.Миндадзе (псевдоним Катя Шагалова)</td>\n",
       "      <td>Л.Антонова</td>\n",
       "      <td>«16+» - для детей старше 16 лет</td>\n",
       "      <td>0.0</td>\n",
       "      <td>...</td>\n",
       "      <td>40574140.0</td>\n",
       "      <td>Министерство культуры</td>\n",
       "      <td>4.2</td>\n",
       "      <td>драма</td>\n",
       "      <td>5.591750e+04</td>\n",
       "      <td>[драма]</td>\n",
       "      <td>2014</td>\n",
       "      <td>Е.Миндадзе (псевдоним Катя Шагалова)</td>\n",
       "      <td>драма</td>\n",
       "      <td>0.690095</td>\n",
       "    </tr>\n",
       "    <tr>\n",
       "      <th>1792</th>\n",
       "      <td>Братья Ч</td>\n",
       "      <td>111004414</td>\n",
       "      <td>2014-04-23 12:00:00+00:00</td>\n",
       "      <td>Художественный</td>\n",
       "      <td>ООО \"Студия \"Пассажир\"</td>\n",
       "      <td>Россия</td>\n",
       "      <td>М.Угаров</td>\n",
       "      <td>А.Миндадзе, Л.Антонова</td>\n",
       "      <td>«16+» - для детей старше 16 лет</td>\n",
       "      <td>0.0</td>\n",
       "      <td>...</td>\n",
       "      <td>40015122.0</td>\n",
       "      <td>Министерство культуры</td>\n",
       "      <td>6.4</td>\n",
       "      <td>драма</td>\n",
       "      <td>2.321000e+05</td>\n",
       "      <td>[драма]</td>\n",
       "      <td>2014</td>\n",
       "      <td>М.Угаров</td>\n",
       "      <td>драма</td>\n",
       "      <td>0.624764</td>\n",
       "    </tr>\n",
       "    <tr>\n",
       "      <th>...</th>\n",
       "      <td>...</td>\n",
       "      <td>...</td>\n",
       "      <td>...</td>\n",
       "      <td>...</td>\n",
       "      <td>...</td>\n",
       "      <td>...</td>\n",
       "      <td>...</td>\n",
       "      <td>...</td>\n",
       "      <td>...</td>\n",
       "      <td>...</td>\n",
       "      <td>...</td>\n",
       "      <td>...</td>\n",
       "      <td>...</td>\n",
       "      <td>...</td>\n",
       "      <td>...</td>\n",
       "      <td>...</td>\n",
       "      <td>...</td>\n",
       "      <td>...</td>\n",
       "      <td>...</td>\n",
       "      <td>...</td>\n",
       "      <td>...</td>\n",
       "    </tr>\n",
       "    <tr>\n",
       "      <th>7456</th>\n",
       "      <td>Холоп</td>\n",
       "      <td>111021719</td>\n",
       "      <td>2019-12-19 12:00:00+00:00</td>\n",
       "      <td>Художественный</td>\n",
       "      <td>ООО \"МЕМ-МЕДИА\" по заказу АО \"ВБД Груп\"</td>\n",
       "      <td>Россия</td>\n",
       "      <td>К.Шипенко</td>\n",
       "      <td>Э.Илоян, Д.Жалинский, В.Дусмухаметов, Т.Бадзие...</td>\n",
       "      <td>«12+» - для детей старше 12 лет</td>\n",
       "      <td>25000000.0</td>\n",
       "      <td>...</td>\n",
       "      <td>160000000.0</td>\n",
       "      <td>Фонд кино</td>\n",
       "      <td>6.8</td>\n",
       "      <td>комедия</td>\n",
       "      <td>3.073569e+09</td>\n",
       "      <td>[комедия]</td>\n",
       "      <td>2019</td>\n",
       "      <td>К.Шипенко</td>\n",
       "      <td>комедия</td>\n",
       "      <td>0.375000</td>\n",
       "    </tr>\n",
       "    <tr>\n",
       "      <th>7464</th>\n",
       "      <td>Союз спасения</td>\n",
       "      <td>111022019</td>\n",
       "      <td>2019-12-26 12:00:00+00:00</td>\n",
       "      <td>Художественный</td>\n",
       "      <td>ЗАО \"Дирекция кино\"</td>\n",
       "      <td>Россия</td>\n",
       "      <td>А.Кравчук</td>\n",
       "      <td>А.Максимов, К.Эрнст</td>\n",
       "      <td>«12+» - для детей старше 12 лет</td>\n",
       "      <td>100000000.0</td>\n",
       "      <td>...</td>\n",
       "      <td>980000000.0</td>\n",
       "      <td>Фонд кино</td>\n",
       "      <td>6.0</td>\n",
       "      <td>история,биография,драма</td>\n",
       "      <td>7.177032e+08</td>\n",
       "      <td>[история, биография, драма]</td>\n",
       "      <td>2019</td>\n",
       "      <td>А.Кравчук</td>\n",
       "      <td>история</td>\n",
       "      <td>0.510204</td>\n",
       "    </tr>\n",
       "    <tr>\n",
       "      <th>7466</th>\n",
       "      <td>Иван Царевич и Серый Волк 4</td>\n",
       "      <td>114005019</td>\n",
       "      <td>2019-12-20 12:00:00+00:00</td>\n",
       "      <td>Анимационный</td>\n",
       "      <td>ООО \"Студия анимационного кино \"Мельница\"</td>\n",
       "      <td>Россия</td>\n",
       "      <td>Д.Шмидт, К.Феоктистов</td>\n",
       "      <td>С.Сельянов, А.Боярский</td>\n",
       "      <td>«6+» - для детей старше 6 лет</td>\n",
       "      <td>100000000.0</td>\n",
       "      <td>...</td>\n",
       "      <td>190000000.0</td>\n",
       "      <td>Фонд кино</td>\n",
       "      <td>6.7</td>\n",
       "      <td>мультфильм,приключения,семейный</td>\n",
       "      <td>5.010692e+08</td>\n",
       "      <td>[мультфильм, приключения, семейный]</td>\n",
       "      <td>2019</td>\n",
       "      <td>Д.Шмидт</td>\n",
       "      <td>мультфильм</td>\n",
       "      <td>0.526316</td>\n",
       "    </tr>\n",
       "    <tr>\n",
       "      <th>7476</th>\n",
       "      <td>Я свободен</td>\n",
       "      <td>111023019</td>\n",
       "      <td>2019-12-26 12:00:00+00:00</td>\n",
       "      <td>Художественный</td>\n",
       "      <td>АО \"ТПО \"Киностудия им. М.Горького\"</td>\n",
       "      <td>Россия</td>\n",
       "      <td>И.Северов</td>\n",
       "      <td>С.Зернов</td>\n",
       "      <td>«12+» - для детей старше 12 лет</td>\n",
       "      <td>0.0</td>\n",
       "      <td>...</td>\n",
       "      <td>46154000.0</td>\n",
       "      <td>Министерство культуры</td>\n",
       "      <td>5.9</td>\n",
       "      <td>драма</td>\n",
       "      <td>NaN</td>\n",
       "      <td>[драма]</td>\n",
       "      <td>2019</td>\n",
       "      <td>И.Северов</td>\n",
       "      <td>драма</td>\n",
       "      <td>0.649998</td>\n",
       "    </tr>\n",
       "    <tr>\n",
       "      <th>7478</th>\n",
       "      <td>(Не)идеальный мужчина</td>\n",
       "      <td>111023119</td>\n",
       "      <td>2019-12-24 12:00:00+00:00</td>\n",
       "      <td>Художественный</td>\n",
       "      <td>ООО \"Нон-Стоп Продакшн\"</td>\n",
       "      <td>Россия</td>\n",
       "      <td>М.Бальчюнас (псевдоним М.Вайсберг)</td>\n",
       "      <td>С.Мелькумов, А.Роднянский, М.Вайсберг, Р.Минас...</td>\n",
       "      <td>«12+» - для детей старше 12 лет</td>\n",
       "      <td>40000000.0</td>\n",
       "      <td>...</td>\n",
       "      <td>150147502.0</td>\n",
       "      <td>Фонд кино</td>\n",
       "      <td>4.5</td>\n",
       "      <td>комедия,фантастика,мелодрама</td>\n",
       "      <td>NaN</td>\n",
       "      <td>[комедия, фантастика, мелодрама]</td>\n",
       "      <td>2019</td>\n",
       "      <td>М.Бальчюнас (псевдоним М.Вайсберг)</td>\n",
       "      <td>комедия</td>\n",
       "      <td>0.666012</td>\n",
       "    </tr>\n",
       "  </tbody>\n",
       "</table>\n",
       "<p>329 rows × 21 columns</p>\n",
       "</div>"
      ],
      "text/plain": [
       "                            title   puNumber           show_start_date  \\\n",
       "1281                Пока еще жива  111005313 2013-10-11 12:00:00+00:00   \n",
       "1448          Бесславные придурки  111003314 2014-03-28 12:00:00+00:00   \n",
       "1498                    Невидимки  111004213 2013-09-10 12:00:00+00:00   \n",
       "1524                        БЕРЦЫ  111004314 2014-05-05 12:00:00+00:00   \n",
       "1792                     Братья Ч  111004414 2014-04-23 12:00:00+00:00   \n",
       "...                           ...        ...                       ...   \n",
       "7456                        Холоп  111021719 2019-12-19 12:00:00+00:00   \n",
       "7464                Союз спасения  111022019 2019-12-26 12:00:00+00:00   \n",
       "7466  Иван Царевич и Серый Волк 4  114005019 2019-12-20 12:00:00+00:00   \n",
       "7476                   Я свободен  111023019 2019-12-26 12:00:00+00:00   \n",
       "7478        (Не)идеальный мужчина  111023119 2019-12-24 12:00:00+00:00   \n",
       "\n",
       "                type                                        film_studio  \\\n",
       "1281  Художественный  АНО содействия развитию кинематографии \"Ангел-...   \n",
       "1448  Художественный                         ООО \"Компания \"АТК-Студио\"   \n",
       "1498  Художественный                        ООО \"Компания \"РЕАЛ-ДАКОТА\"   \n",
       "1524  Художественный                             ООО \"Студия \"Пассажир\"   \n",
       "1792  Художественный                             ООО \"Студия \"Пассажир\"   \n",
       "...              ...                                                ...   \n",
       "7456  Художественный            ООО \"МЕМ-МЕДИА\" по заказу АО \"ВБД Груп\"   \n",
       "7464  Художественный                                ЗАО \"Дирекция кино\"   \n",
       "7466    Анимационный          ООО \"Студия анимационного кино \"Мельница\"   \n",
       "7476  Художественный                АО \"ТПО \"Киностудия им. М.Горького\"   \n",
       "7478  Художественный                           ООО \"Нон-Стоп Продакшн\"    \n",
       "\n",
       "     production_country                              director  \\\n",
       "1281             Россия                            А.Атанесян   \n",
       "1448             Россия                             А.Якимчук   \n",
       "1498             Россия              Р.Давлетьяров, С.Комаров   \n",
       "1524             Россия  Е.Миндадзе (псевдоним Катя Шагалова)   \n",
       "1792             Россия                              М.Угаров   \n",
       "...                 ...                                   ...   \n",
       "7456             Россия                             К.Шипенко   \n",
       "7464             Россия                             А.Кравчук   \n",
       "7466             Россия                 Д.Шмидт, К.Феоктистов   \n",
       "7476             Россия                             И.Северов   \n",
       "7478             Россия    М.Бальчюнас (псевдоним М.Вайсберг)   \n",
       "\n",
       "                                               producer  \\\n",
       "1281                   А.Атанесян, М.Бабаханов, Р.Бутко   \n",
       "1448                                         А.Тютрюмов   \n",
       "1498          Р.Давлетьяров, А.Котелевский, А.Олейников   \n",
       "1524                                         Л.Антонова   \n",
       "1792                             А.Миндадзе, Л.Антонова   \n",
       "...                                                 ...   \n",
       "7456  Э.Илоян, Д.Жалинский, В.Дусмухаметов, Т.Бадзие...   \n",
       "7464                                А.Максимов, К.Эрнст   \n",
       "7466                             С.Сельянов, А.Боярский   \n",
       "7476                                           С.Зернов   \n",
       "7478  С.Мелькумов, А.Роднянский, М.Вайсберг, Р.Минас...   \n",
       "\n",
       "                      age_restriction  refundable_support  ...       budget  \\\n",
       "1281  «16+» - для детей старше 16 лет                 0.0  ...   79411900.0   \n",
       "1448  «12+» - для детей старше 12 лет                 0.0  ...   37142857.0   \n",
       "1498  «12+» - для детей старше 12 лет                 0.0  ...  176023490.0   \n",
       "1524  «16+» - для детей старше 16 лет                 0.0  ...   40574140.0   \n",
       "1792  «16+» - для детей старше 16 лет                 0.0  ...   40015122.0   \n",
       "...                               ...                 ...  ...          ...   \n",
       "7456  «12+» - для детей старше 12 лет          25000000.0  ...  160000000.0   \n",
       "7464  «12+» - для детей старше 12 лет         100000000.0  ...  980000000.0   \n",
       "7466    «6+» - для детей старше 6 лет         100000000.0  ...  190000000.0   \n",
       "7476  «12+» - для детей старше 12 лет                 0.0  ...   46154000.0   \n",
       "7478  «12+» - для детей старше 12 лет          40000000.0  ...  150147502.0   \n",
       "\n",
       "           financing_source ratings                           genres  \\\n",
       "1281  Министерство культуры     8.1                  драма,мелодрама   \n",
       "1448  Министерство культуры     NaN                              NaN   \n",
       "1498              Фонд кино     5.3               комедия,фантастика   \n",
       "1524  Министерство культуры     4.2                            драма   \n",
       "1792  Министерство культуры     6.4                            драма   \n",
       "...                     ...     ...                              ...   \n",
       "7456              Фонд кино     6.8                          комедия   \n",
       "7464              Фонд кино     6.0          история,биография,драма   \n",
       "7466              Фонд кино     6.7  мультфильм,приключения,семейный   \n",
       "7476  Министерство культуры     5.9                            драма   \n",
       "7478              Фонд кино     4.5     комедия,фантастика,мелодрама   \n",
       "\n",
       "        box_office                             genres_j show_start_date_year  \\\n",
       "1281  3.653536e+05                   [драма, мелодрама]                 2013   \n",
       "1448  2.814000e+04                                  NaN                 2014   \n",
       "1498  1.995703e+07                [комедия, фантастика]                 2013   \n",
       "1524  5.591750e+04                              [драма]                 2014   \n",
       "1792  2.321000e+05                              [драма]                 2014   \n",
       "...            ...                                  ...                  ...   \n",
       "7456  3.073569e+09                            [комедия]                 2019   \n",
       "7464  7.177032e+08          [история, биография, драма]                 2019   \n",
       "7466  5.010692e+08  [мультфильм, приключения, семейный]                 2019   \n",
       "7476           NaN                              [драма]                 2019   \n",
       "7478           NaN     [комедия, фантастика, мелодрама]                 2019   \n",
       "\n",
       "                             producer_main genres_main     dolya  \n",
       "1281                            А.Атанесян       драма  0.333703  \n",
       "1448                             А.Якимчук         NaN  0.700000  \n",
       "1498                         Р.Давлетьяров     комедия  0.612691  \n",
       "1524  Е.Миндадзе (псевдоним Катя Шагалова)       драма  0.690095  \n",
       "1792                              М.Угаров       драма  0.624764  \n",
       "...                                    ...         ...       ...  \n",
       "7456                             К.Шипенко     комедия  0.375000  \n",
       "7464                             А.Кравчук     история  0.510204  \n",
       "7466                               Д.Шмидт  мультфильм  0.526316  \n",
       "7476                             И.Северов       драма  0.649998  \n",
       "7478    М.Бальчюнас (псевдоним М.Вайсберг)     комедия  0.666012  \n",
       "\n",
       "[329 rows x 21 columns]"
      ]
     },
     "execution_count": 24,
     "metadata": {},
     "output_type": "execute_result"
    }
   ],
   "source": [
    "print(df[['show_start_date_year', 'producer_main', 'genres_main', 'dolya']])\n",
    "df[~df['dolya'].isna()]"
   ]
  },
  {
   "cell_type": "markdown",
   "id": "1da23e8f",
   "metadata": {},
   "source": [
    "## Промежуточный вывод\n",
    "<div class=\"alert alert-block alert-info\">\n",
    "    \n",
    "    1) Исправили неверные типы данных (show_start_date - дата, а не object; ratings - float, а не object)\n",
    "    \n",
    "    2) Выяснили, что мы имеем два типа пропусков ( которых мало - удаляем и забываем; очень много - что бы не делали, очень сильно изменим распределение данных, в целом). Возможно это значит, что зачастую бюджет оглашают фильмы, которые получают финансирование \n",
    "    \n",
    "    3) Иучили категориальные значения, увидели главную проблему - в одном поле, может быть по несколько значений данная ситуация усложняет анализ данных, однако с этой проблемой можно бороться функцией `explode` \n",
    "    \n",
    "    4) Также изучили и колчественные данные и заметили некорректные значения в поле `ratings` - и исправили это\n",
    "    \n",
    "    5) Добавили новые столбцы для дальнейшей работы с ними (столбец с информацией о годе проката, с именем и фамилией главного режиссёра, основным жанром фильма, долей от общего бюджета фильма)\n",
    "   "
   ]
  },
  {
   "cell_type": "markdown",
   "id": "4d2fc3ad",
   "metadata": {},
   "source": [
    "<div class=\"alert alert-warning\">\n",
    "<h2> Комментарий ревьюера 🤓 v_2<a class=\"tocSkip\"> </h2>\n",
    "\n",
    "Столбец с главным режисером следует переименовать, чтобы не было путанницы"
   ]
  },
  {
   "cell_type": "markdown",
   "id": "bad6f0f6",
   "metadata": {},
   "source": [
    "<div class=\"alert alert-block alert-danger\">\n",
    "<h2> Комментарий ревьюера ⛔️<a class=\"tocSkip\"></h2>\n",
    "<s>\n",
    "Нам нужно выделить главного режиссера, не продюсера. Будет хорошо вывести проверку значений после их добавления."
   ]
  },
  {
   "cell_type": "markdown",
   "id": "17115190",
   "metadata": {},
   "source": [
    "<div class=\"alert alert-warning\">\n",
    "<h2> Комментарий ревьюера 🤓<a class=\"tocSkip\"> </h2>\n",
    "\n",
    "Будет здорово добавить промежуточный вывод."
   ]
  },
  {
   "cell_type": "markdown",
   "id": "a96525d4",
   "metadata": {},
   "source": [
    "<div class=\"alert alert-success\">\n",
    "<h2> Комментарий ревьюера 😊 <a class=\"tocSkip\"> </h2>\n",
    "\n",
    "Блок предобработки выполнен хорошо: необходимые столбцы добавлены, типы скорректированы, есть проверка на пропуски и дубликаты, молодец)\n",
    "</div>"
   ]
  },
  {
   "cell_type": "markdown",
   "id": "59b837e3",
   "metadata": {},
   "source": [
    "# Проведем исследовательский анализ данных\n"
   ]
  },
  {
   "cell_type": "markdown",
   "id": "4a651e2d",
   "metadata": {},
   "source": [
    "Количество фильмов в прокате имеет плавный рост, однако видно, что в 2017 году произошел анамальный спад!"
   ]
  },
  {
   "cell_type": "code",
   "execution_count": 25,
   "id": "4b835ec4",
   "metadata": {},
   "outputs": [
    {
     "data": {
      "text/plain": [
       "Text(0.5, 1.0, 'Количество фильмов в прокате в зависимости от года')"
      ]
     },
     "execution_count": 25,
     "metadata": {},
     "output_type": "execute_result"
    },
    {
     "data": {
      "image/png": "[encoded data removed]",
      "text/plain": [
       "<Figure size 432x288 with 1 Axes>"
      ]
     },
     "metadata": {
      "needs_background": "light"
     },
     "output_type": "display_data"
    }
   ],
   "source": [
    "df.groupby('show_start_date_year')['puNumber'].count().plot()\n",
    "dolya = df[~df['box_office'].isna()].shape[0]/df['title'].shape[0]\n",
    "plt.title('Количество фильмов в прокате в зависимости от года')"
   ]
  },
  {
   "cell_type": "markdown",
   "id": "82a328d0",
   "metadata": {},
   "source": [
    "<div class=\"alert alert-success\">\n",
    "<h2> Комментарий ревьюера 😊<a class=\"tocSkip\"> </h2>\n",
    "\n",
    "Для того что убрать технические подписи, ты можешь использовать `plt.show()` или `;`. Так же можно добавить подписи к графику, используя `plt.xlabel()` и `plt.ylabel()`. Подробнее об оформлении графиков, ты можешь узнать тут:\n",
    "    \n",
    "https://slemeshevsky.github.io/python-course/visual/html/._visual-flatly002.html\n",
    "\n",
    "</div>"
   ]
  },
  {
   "cell_type": "code",
   "execution_count": 26,
   "id": "815e32f3",
   "metadata": {},
   "outputs": [
    {
     "data": {
      "image/png": "[encoded data removed]",
      "text/plain": [
       "<Figure size 432x288 with 1 Axes>"
      ]
     },
     "metadata": {
      "needs_background": "light"
     },
     "output_type": "display_data"
    }
   ],
   "source": [
    "(df.groupby('show_start_date_year')['box_office'].count()/df.groupby('show_start_date_year')['title'].count()).plot(title = 'Доля фильмов, которые имеют полную информацию о прокате')\n",
    "plt.show()"
   ]
  },
  {
   "cell_type": "markdown",
   "id": "aff6b6bc",
   "metadata": {},
   "source": [
    "Видна положительная динамика. С годами происходит плавный рост доли фильмов, имеющие данные о прокате! \n",
    "Самый репрезентивный год по информации о прокате был 2017 год \n",
    "Интересно, что выше мы поняли, что это чуть ли не худший год по количеству прокатов в общем. Но они почти все имели данные о себе"
   ]
  },
  {
   "cell_type": "markdown",
   "id": "5f164a08",
   "metadata": {},
   "source": [
    "<div class=\"alert alert-warning\">\n",
    "<h2> Комментарий ревьюера 🤓<a class=\"tocSkip\"> </h2>\n",
    "\n",
    "Выводы следует расплоложить под графиками)"
   ]
  },
  {
   "cell_type": "markdown",
   "id": "60e76492",
   "metadata": {},
   "source": [
    "<div class=\"alert alert-success\">\n",
    "<h2> Комментарий ревьюера 😊 v_2 <a class=\"tocSkip\"> </h2>\n",
    "\n",
    "👍"
   ]
  },
  {
   "cell_type": "markdown",
   "id": "f248107e",
   "metadata": {},
   "source": [
    "### Изучим, как менялась динамика сборов по годам."
   ]
  },
  {
   "cell_type": "markdown",
   "id": "0d532fce",
   "metadata": {},
   "source": [
    "Видно, что сумма сборов имеет положительную динамику\n",
    "\n",
    "Самый маленький показатель - в 2011 году \n",
    "Самый большой показатель - в 2017 году"
   ]
  },
  {
   "cell_type": "code",
   "execution_count": 27,
   "id": "be8d53b8",
   "metadata": {},
   "outputs": [
    {
     "data": {
      "image/png": "[encoded data removed]",
      "text/plain": [
       "<Figure size 432x288 with 1 Axes>"
      ]
     },
     "metadata": {
      "needs_background": "light"
     },
     "output_type": "display_data"
    }
   ],
   "source": [
    "df[~df['box_office'].isna()].groupby('show_start_date_year').agg({'box_office':['sum']}).plot()\n",
    "\n",
    "plt.title('динамика суммы сборов по годам')\n",
    "plt.show()"
   ]
  },
  {
   "cell_type": "markdown",
   "id": "5b73f1d4",
   "metadata": {},
   "source": [
    "<div class=\"alert alert-warning\">\n",
    "<h2> Комментарий ревьюера 🤓<a class=\"tocSkip\"> </h2>\n",
    "\n",
    "При построении графиков не следует использовать `[]` для значений."
   ]
  },
  {
   "cell_type": "markdown",
   "id": "c1e0e138",
   "metadata": {},
   "source": [
    "График дает подтверждение того как работает и чем отличается медиана от среднего значения\n",
    "\n",
    "Наше распределение - распределение денежной метрики (сумма сборов) - обычно такие метрики скошены вправо (то есть не симметрично)\n",
    "\n",
    "При таких данных среднее значение хуже отражает суть чем медиана, так как медиана - более устойчива к выбросам!"
   ]
  },
  {
   "cell_type": "code",
   "execution_count": 28,
   "id": "3255ce6d",
   "metadata": {},
   "outputs": [
    {
     "data": {
      "text/plain": [
       "<AxesSubplot:xlabel='show_start_date_year'>"
      ]
     },
     "execution_count": 28,
     "metadata": {},
     "output_type": "execute_result"
    },
    {
     "data": {
      "image/png": "[encoded data removed]",
      "text/plain": [
       "<Figure size 432x288 with 1 Axes>"
      ]
     },
     "metadata": {
      "needs_background": "light"
     },
     "output_type": "display_data"
    }
   ],
   "source": [
    "df.pivot_table(index = 'show_start_date_year', values = 'box_office', aggfunc = ['mean','median']).plot()"
   ]
  },
  {
   "cell_type": "markdown",
   "id": "76f69799",
   "metadata": {},
   "source": [
    "<div class=\"alert alert-success\">\n",
    "<h2> Комментарий ревьюера 😊<a class=\"tocSkip\"> </h2>\n",
    "\n",
    "Верно, хорошая работа)"
   ]
  },
  {
   "cell_type": "markdown",
   "id": "bb7b3cb5",
   "metadata": {},
   "source": [
    "Исходя из графика можно сделать вывод, что зависимость есть!\n",
    "\n",
    "Самая прибыльная категория - \"16+\"\n",
    "\n",
    "После идет - \"12+\"\n",
    "\n",
    "А вот самым не прибыльным - \"0+\""
   ]
  },
  {
   "cell_type": "code",
   "execution_count": 29,
   "id": "6cd36208",
   "metadata": {},
   "outputs": [
    {
     "data": {
      "image/png": "[encoded data removed]",
      "text/plain": [
       "<Figure size 432x288 with 1 Axes>"
      ]
     },
     "metadata": {
      "needs_background": "light"
     },
     "output_type": "display_data"
    }
   ],
   "source": [
    "#Определите, влияет ли возрастное ограничение аудитории («6+», «12+», «16+», «18+» и т. д.) \n",
    "#на сборы фильма в прокате в период с 2015 по 2019 год? Фильмы с каким возрастным ограничением \n",
    "#собрали больше всего денег в прокате? Меняется ли картина в зависимости от года? \n",
    "#Если да, предположите, с чем это может быть связано.\n",
    "df_ = df.query('show_start_date_year >= 2015 & show_start_date_year <= 2019').pivot_table(index = 'age_restriction', columns = 'show_start_date_year', values = 'box_office', aggfunc = 'sum')\n",
    "df_.columns = ['2015','2016','2017','2018','2019']\n",
    "df_1 = pd.concat([df_['2015'],df_['2016'],df_['2017'],df_['2018'],df_['2019']])\n",
    "plt.scatter(y = df_1.index, x = df_1.values)\n",
    "plt.rcParams['figure.figsize'] = [17, 5]"
   ]
  },
  {
   "cell_type": "markdown",
   "id": "faca119c",
   "metadata": {},
   "source": [
    "<div class=\"alert alert-block alert-danger\">\n",
    "<h2> Комментарий ревьюера ⛔️<a class=\"tocSkip\"></h2>\n",
    "<s>\n",
    "Давай повернем график по горизонтали, поменяв подписи по осям, чтобы мы можли изучить названия категорий)"
   ]
  },
  {
   "cell_type": "markdown",
   "id": "90464cb2",
   "metadata": {},
   "source": [
    "<div class=\"alert alert-success\">\n",
    "<h2> Комментарий ревьюера 😊 v_2 <a class=\"tocSkip\"> </h2>\n",
    "\n",
    "Так лучше)"
   ]
  },
  {
   "cell_type": "markdown",
   "id": "631aef0b",
   "metadata": {},
   "source": [
    "Говоря о динамике по годам - видно,что прям сильных изменений не было. Однако опять видно, что 2017 год - анамальный\n",
    "\n",
    "Интересно, что же там произошло ..."
   ]
  },
  {
   "cell_type": "code",
   "execution_count": 30,
   "id": "a8da3ed1",
   "metadata": {},
   "outputs": [
    {
     "data": {
      "image/png": "[encoded data removed]",
      "text/plain": [
       "<Figure size 1224x360 with 1 Axes>"
      ]
     },
     "metadata": {
      "needs_background": "light"
     },
     "output_type": "display_data"
    }
   ],
   "source": [
    "df_2 = df.query('show_start_date_year >= 2015 & show_start_date_year <= 2019').pivot_table(index = 'show_start_date_year', columns = 'age_restriction', values = 'box_office', aggfunc = 'sum')\n",
    "df_2.plot()\n",
    "plt.xticks(df_2.index)\n",
    "plt.show()"
   ]
  },
  {
   "cell_type": "markdown",
   "id": "cb6146c5",
   "metadata": {},
   "source": [
    "<div class=\"alert alert-block alert-danger\">\n",
    "<h2> Комментарий ревьюера ⛔️<a class=\"tocSkip\"></h2>\n",
    "<s>\n",
    "Нужно скорректировать график, чтобы в легенде были указаны категории, а года отображались по оси Х."
   ]
  },
  {
   "cell_type": "markdown",
   "id": "e81dff08",
   "metadata": {},
   "source": [
    "<div class=\"alert alert-success\">\n",
    "<h2> Комментарий ревьюера 😊 v_2 <a class=\"tocSkip\"> </h2>\n",
    "\n",
    "Супер, молодец!)"
   ]
  },
  {
   "cell_type": "markdown",
   "id": "c5a39524",
   "metadata": {},
   "source": [
    "<div class=\"alert alert-warning\">\n",
    "<h2> Комментарий ревьюера 🤓<a class=\"tocSkip\"> </h2>\n",
    "\n",
    "Общие продажи - не самая лучшая метрика для поиска наиболее прибыльной категории. Мы можем найти возрастную категорию, где фильмы стабильно приносят высокий доход - для этого стоит рассмотреть средние или медианные продажи.\n",
    "    "
   ]
  },
  {
   "cell_type": "markdown",
   "id": "fd516ad4",
   "metadata": {},
   "source": [
    "<div class=\"alert alert-success\">\n",
    "<h2> Комментарий ревьюера 😊 <a class=\"tocSkip\"> </h2>\n",
    "\n",
    "Отлично проведен исследовательский анализ данных)"
   ]
  },
  {
   "cell_type": "markdown",
   "id": "8b9222dc",
   "metadata": {},
   "source": [
    "### Исследуем фильмы, получившие финансирование от государства"
   ]
  },
  {
   "cell_type": "markdown",
   "id": "643cb151",
   "metadata": {},
   "source": [
    "Интересно, что мы имеем информацию о бюджете фильма - только от фильмов, которые имеют финансирование государства"
   ]
  },
  {
   "cell_type": "code",
   "execution_count": 31,
   "id": "c0dad04e",
   "metadata": {},
   "outputs": [
    {
     "data": {
      "text/plain": [
       "68490606.0"
      ]
     },
     "execution_count": 31,
     "metadata": {},
     "output_type": "execute_result"
    }
   ],
   "source": [
    "import copy\n",
    "df_gover = copy.deepcopy(df.query('~refundable_support.isna()'))\n",
    "df_non_gover = copy.deepcopy(df.query('refundable_support.isna()'))\n",
    "df_gover['budget'].median() "
   ]
  },
  {
   "cell_type": "code",
   "execution_count": 32,
   "id": "892b931b",
   "metadata": {},
   "outputs": [
    {
     "data": {
      "text/plain": [
       "array([nan])"
      ]
     },
     "execution_count": 32,
     "metadata": {},
     "output_type": "execute_result"
    }
   ],
   "source": [
    "df_non_gover['budget'].unique()"
   ]
  },
  {
   "cell_type": "code",
   "execution_count": 33,
   "id": "7b67e1b6",
   "metadata": {},
   "outputs": [
    {
     "data": {
      "text/plain": [
       "Text(0.5, 1.0, 'График, который отображает фактор окупаемости ')"
      ]
     },
     "execution_count": 33,
     "metadata": {},
     "output_type": "execute_result"
    },
    {
     "data": {
      "image/png": "[encoded data removed]",
      "text/plain": [
       "<Figure size 1224x360 with 1 Axes>"
      ]
     },
     "metadata": {
      "needs_background": "light"
     },
     "output_type": "display_data"
    }
   ],
   "source": [
    "df_gover['budget'].hist(legend= 'бюджет')\n",
    "df_gover['box_office'].hist(color = 'red',alpha = 0.3,legend= 'f')\n",
    "plt.title('График, который отображает фактор окупаемости ')"
   ]
  },
  {
   "cell_type": "markdown",
   "id": "c47aad9a",
   "metadata": {},
   "source": [
    "<div class=\"alert alert-success\">\n",
    "<h2> Комментарий ревьюера 😊 v_2 <a class=\"tocSkip\"> </h2>\n",
    "\n",
    "👍"
   ]
  },
  {
   "cell_type": "markdown",
   "id": "3de14a47",
   "metadata": {},
   "source": [
    "<div class=\"alert alert-block alert-danger\">\n",
    "<h2> Комментарий ревьюера ⛔️<a class=\"tocSkip\"></h2> \n",
    "   <s>\n",
    "Только давай добавим подписи, чтобы понимать, где, что отображено)"
   ]
  },
  {
   "cell_type": "code",
   "execution_count": 34,
   "id": "c66a17e1",
   "metadata": {},
   "outputs": [],
   "source": [
    "df_gover['roi'] = df_gover['box_office']/df_gover['budget']"
   ]
  },
  {
   "cell_type": "code",
   "execution_count": 35,
   "id": "06277258",
   "metadata": {},
   "outputs": [
    {
     "name": "stdout",
     "output_type": "stream",
     "text": [
      "83 фильма окупились\n"
     ]
    }
   ],
   "source": [
    "print(df_gover.query('roi >= 1')['roi'].count(), 'фильма окупились')"
   ]
  },
  {
   "cell_type": "code",
   "execution_count": 36,
   "id": "2d6383a8",
   "metadata": {},
   "outputs": [
    {
     "name": "stdout",
     "output_type": "stream",
     "text": [
      "процент фильмов, которые окупились - 36%\n"
     ]
    }
   ],
   "source": [
    "x = (df_gover.query('roi >= 1')['roi'].count()/df_gover.query('roi < 1')['roi'].count())\n",
    "print(f'процент фильмов, которые окупились - {x:.0%}')"
   ]
  },
  {
   "cell_type": "markdown",
   "id": "39886bf4",
   "metadata": {},
   "source": [
    "Проведем сравнение поля `ratings` в фильмах, где участвовало гос поддержка и где нет"
   ]
  },
  {
   "cell_type": "markdown",
   "id": "d951d0a4",
   "metadata": {},
   "source": [
    "Исходя из графиков можно сделать вывод, что в среднем фильмы без гос поддержки - лучше, чем которые получили его.\n",
    "\n",
    "Однако, например, сложно сказать что-то про выбросы, ибо в одной выборочке порядка 6 тысяч фильмов, а в другой всего лишь 300. Здесь мы скорей говорим про общую картину "
   ]
  },
  {
   "cell_type": "code",
   "execution_count": 37,
   "id": "ecb1c245",
   "metadata": {},
   "outputs": [
    {
     "data": {
      "image/png": "[encoded data removed]",
      "text/plain": [
       "<Figure size 1224x360 with 1 Axes>"
      ]
     },
     "metadata": {
      "needs_background": "light"
     },
     "output_type": "display_data"
    },
    {
     "data": {
      "image/png": "[encoded data removed]",
      "text/plain": [
       "<Figure size 1224x360 with 1 Axes>"
      ]
     },
     "metadata": {
      "needs_background": "light"
     },
     "output_type": "display_data"
    }
   ],
   "source": [
    "df_gover['ratings'] = df_gover['ratings'] .astype(float)\n",
    "df_non_gover['ratings'] = df_non_gover['ratings'] .astype(float)\n",
    "df_gover[['ratings']].boxplot()\n",
    "plt.title('Рейтинг фильмов, которые получали гос поддержку')\n",
    "plt.show()\n",
    "df_non_gover[['ratings']].boxplot()\n",
    "plt.title('Рейтинг фильмов, которые НЕ получали гос поддержку')\n",
    "plt.show()"
   ]
  },
  {
   "cell_type": "markdown",
   "id": "e3a14ba3",
   "metadata": {},
   "source": [
    "Рассмотрим поле `financing_source`\n",
    "\n",
    "Помимо двух нормальный типов, есть еще смешанный! \n",
    "Исправим(для анализа) это и построим графичек "
   ]
  },
  {
   "cell_type": "markdown",
   "id": "1c63581e",
   "metadata": {},
   "source": [
    "<div class=\"alert alert-block alert-danger\">\n",
    "<h2> Комментарий ревьюера ⛔️<a class=\"tocSkip\"></h2> \n",
    "   <s>\n",
    "Но ведь важен фактор смешанного источника, лучше оставить, как есть."
   ]
  },
  {
   "cell_type": "markdown",
   "id": "ba0143cc",
   "metadata": {},
   "source": [
    "Значения похожие, министерство культуры чуть-чуть больше спонсирует кино, чем фонд кино, а вот совместных проектов у них совсем мало"
   ]
  },
  {
   "cell_type": "code",
   "execution_count": 38,
   "id": "070bad4a",
   "metadata": {},
   "outputs": [
    {
     "data": {
      "text/plain": [
       "Text(0.5, 1.0, 'Количество фильмов, которые поддерживал тот или иной гос орган')"
      ]
     },
     "execution_count": 38,
     "metadata": {},
     "output_type": "execute_result"
    },
    {
     "data": {
      "image/png": "[encoded data removed]",
      "text/plain": [
       "<Figure size 1224x360 with 1 Axes>"
      ]
     },
     "metadata": {
      "needs_background": "light"
     },
     "output_type": "display_data"
    }
   ],
   "source": [
    "df.explode('financing_source')['financing_source'].value_counts().plot(kind = 'bar')\n",
    "plt.title('Количество фильмов, которые поддерживал тот или иной гос орган')"
   ]
  },
  {
   "cell_type": "markdown",
   "id": "c2faa7b6",
   "metadata": {},
   "source": [
    "<div class=\"alert alert-warning\">\n",
    "<h2> Комментарий ревьюера 🤓<a class=\"tocSkip\"> </h2>\n",
    "    \n",
    "Можно использовать горизонтальный график kind='barh'"
   ]
  },
  {
   "cell_type": "markdown",
   "id": "66da17b2",
   "metadata": {},
   "source": [
    "Рассмотрим объем денег, которые были выделены гос органами "
   ]
  },
  {
   "cell_type": "markdown",
   "id": "eb2f85d5",
   "metadata": {},
   "source": [
    "Очень много фильмов, которые не получали возвратные средства\n",
    "\n",
    "Для лучшего отображения, уберем нули и посмотрим среднее значение (медиана - для денежн метрик) объема выделенных вовзратных денег для кино "
   ]
  },
  {
   "cell_type": "code",
   "execution_count": 39,
   "id": "ce6b0ba0",
   "metadata": {},
   "outputs": [
    {
     "data": {
      "text/plain": [
       "Text(0.5, 1.0, 'объем выделенных возвратных средств')"
      ]
     },
     "execution_count": 39,
     "metadata": {},
     "output_type": "execute_result"
    },
    {
     "data": {
      "image/png": "[encoded data removed]",
      "text/plain": [
       "<Figure size 1224x360 with 1 Axes>"
      ]
     },
     "metadata": {
      "needs_background": "light"
     },
     "output_type": "display_data"
    }
   ],
   "source": [
    "df_gover['refundable_support'].hist()\n",
    "plt.title('объем выделенных возвратных средств')"
   ]
  },
  {
   "cell_type": "markdown",
   "id": "c1d2871d",
   "metadata": {},
   "source": [
    "<div class=\"alert alert-block alert-danger\">\n",
    "<h2> Комментарий ревьюера ⛔️<a class=\"tocSkip\"></h2>\n",
    "<s>\n",
    "График построен неверно, не нужно использовать value_counts()."
   ]
  },
  {
   "cell_type": "markdown",
   "id": "bc34b627",
   "metadata": {},
   "source": [
    "<div class=\"alert alert-success\">\n",
    "<h2> Комментарий ревьюера 😊 v_2 <a class=\"tocSkip\"> </h2>\n",
    "\n",
    "Теперь все верно)"
   ]
  },
  {
   "cell_type": "code",
   "execution_count": 40,
   "id": "32e978b2",
   "metadata": {},
   "outputs": [
    {
     "name": "stdout",
     "output_type": "stream",
     "text": [
      "25000000.0 - среднее значение объема выделенных возвратных средств\n"
     ]
    }
   ],
   "source": [
    "print(df_gover[df_gover['refundable_support'] != 0]['refundable_support'].median(), '- среднее значение объема выделенных возвратных средств')\n"
   ]
  },
  {
   "cell_type": "markdown",
   "id": "5883b96c",
   "metadata": {},
   "source": [
    "Сделаем аналогичную процедуру"
   ]
  },
  {
   "cell_type": "code",
   "execution_count": 41,
   "id": "3616e473",
   "metadata": {},
   "outputs": [
    {
     "data": {
      "text/plain": [
       "Text(0.5, 1.0, 'объем выделенных НЕ возвратных средств')"
      ]
     },
     "execution_count": 41,
     "metadata": {},
     "output_type": "execute_result"
    },
    {
     "data": {
      "image/png": "[encoded data removed]",
      "text/plain": [
       "<Figure size 1224x360 with 1 Axes>"
      ]
     },
     "metadata": {
      "needs_background": "light"
     },
     "output_type": "display_data"
    }
   ],
   "source": [
    "df_gover['nonrefundable_support'].hist()\n",
    "plt.title('объем выделенных НЕ возвратных средств')"
   ]
  },
  {
   "cell_type": "markdown",
   "id": "17837fcf",
   "metadata": {},
   "source": [
    "<div class=\"alert alert-block alert-danger\">\n",
    "<h2> Комментарий ревьюера ⛔️<a class=\"tocSkip\"></h2><s>\n",
    " И здесь"
   ]
  },
  {
   "cell_type": "code",
   "execution_count": 42,
   "id": "573bf3db",
   "metadata": {},
   "outputs": [
    {
     "name": "stdout",
     "output_type": "stream",
     "text": [
      "30000000.0 - среднее значение объема выделенных НЕ возвратных средств\n"
     ]
    }
   ],
   "source": [
    "print(df_gover[df_gover['nonrefundable_support'] != 0]['nonrefundable_support'].median(), '- среднее значение объема выделенных НЕ возвратных средств')\n"
   ]
  },
  {
   "cell_type": "markdown",
   "id": "2d8efa9d",
   "metadata": {},
   "source": [
    "<div class=\"alert alert-warning\">\n",
    "<h2> Комментарий ревьюера 🤓<a class=\"tocSkip\"> </h2>\n",
    "        \n",
    "Можно провести дополнительные исследования, например: \n",
    "    \n",
    "* Вывести топ-режиссеров, которые получали гос.подержку, рассмотреть рейтинги их фильмов\n",
    "* Рассмотреть окупаемость в динамике по годам\n",
    "</div>"
   ]
  },
  {
   "cell_type": "markdown",
   "id": "123c56d3",
   "metadata": {},
   "source": [
    "<div class=\"alert alert-success\">\n",
    "<h2> Комментарий ревьюера 😊 <a class=\"tocSkip\"> </h2>\n",
    "\n",
    "Хорошая работа по изучению фильмов с гос. поддержкой)"
   ]
  },
  {
   "cell_type": "markdown",
   "id": "745c3405",
   "metadata": {},
   "source": [
    "# Общий вывод"
   ]
  },
  {
   "cell_type": "markdown",
   "id": "799870b2",
   "metadata": {},
   "source": [
    "### Мы предобработали данные:\n",
    "    1) Исправили неверные типы данных (show_start_date - дата, а не object; ratings - float, а не object)\n",
    "    2) Выяснили, что мы имеем два типа пропусков ( которых мало - удаляем и забываем; очень много - что бы не делали, очень сильно изменим распределение данных, в целом)\n",
    "   \n",
    "Возможно это значит, что зачастую бюджет оглашают фильмы, которые получают финансирование \n",
    "    3) Иучили категориальные значения, увидели главную проблему - в одном поле, может быть по несколько значений данная ситуация усложняет анализ данных, однако с этой проблемой можно бороться функцией `explode` \n",
    "    4) Также изучили и колчественные данные и заметили некорректные значения в поле `ratings` - и исправили это\n",
    "    5) Добавили новые столбцы для дальнейшей работы с ними (столбец с информацией о годе проката, с именем и фамилией главного режиссёра, основным жанром фильма, долей от общего бюджета фильма)\n",
    "   \n",
    "### Провели исследовательский анализ данных и выяснили следующее:\n",
    "     1) И увидели, что далеко не все фильмы спонсируются государством. Интересная тенденция, что пропусков бюджета и наличия финансирования от государтсва - одинаковые\n",
    "     2) Количество фильмов, которые вышли в прокате имеет плавный рост, однако видно, что в 2017 году произошел анамальный спад!\n",
    "     3) С годами происходит плавный рост доли фильмов, имеющие данные о прокате! \n",
    "    Самый репрезентивный год по информации о прокате был 2017 год \n",
    "    Интересно, что выше мы поняли, что это чуть ли не худший год по количеству прокатов в общем. Но они почти все имели данные о себе\n",
    "     4) Видно, что сумма сборов имеет положительную динамику \n",
    "     Самый маленький показатель - в 2011 году; Самый большой показатель - в 2017 году\n",
    "     5) Увидели зависимость в типе возрастного ограничения и поняли, что \n",
    "     Самая прибыльная категория - \"16+\",После идет - \"12+\",А вот самым не прибыльным - \"0+\"\n",
    "### Исследовали фильмы, которые получили государственную поддержку\n",
    "     1) Поняли, что всего лишь 36% фильмов, имеющие гос поддержку - окупаются\n",
    "     2) В среднем фильмы без гос поддержки - имеют лучше рейтинг, чем которые получили его.\n",
    "     3) Поняли, что Министерство Культуры и Фонд кино почти в равном количестве - помогают кинокомпаниям\n",
    "     4) Нашли среднее значение (медиану) объема возвратных и невозвратных средств от государства - \n",
    "     25000000.0, 30000000.0 соотвественно\n",
    "     "
   ]
  },
  {
   "cell_type": "markdown",
   "id": "b49759a9",
   "metadata": {},
   "source": [
    "<div class=\"alert alert-success\">\n",
    "<h2> Комментарий ревьюера 😊 <a class=\"tocSkip\"> </h2>\n",
    "\n",
    "Содержательный вывод по проделанной работе, молодец)"
   ]
  },
  {
   "cell_type": "markdown",
   "id": "5db7df81",
   "metadata": {},
   "source": [
    "<div style=\"border:solid Purple 2px; padding: 40px\">\n",
    "\n",
    "<h2> Общий комментарий ревьюера 😊 v_2<a class=\"tocSkip\"> </h2>\n",
    "    <br/>\n",
    "Илья, спасибо за проект! Успехов в дальнейшем обучении!)\n",
    "    "
   ]
  },
  {
   "cell_type": "markdown",
   "id": "5f8abb07",
   "metadata": {},
   "source": [
    "<div style=\"border:solid Purple 2px; padding: 40px\">\n",
    "\n",
    "<h2> Общий комментарий ревьюера 😊<a class=\"tocSkip\"> </h2>\n",
    "    <br/>\n",
    "Ты проделал отличную работу, основные задачи выполнены. Хочу отметить работа с таблицами и графиками, а также использование функций!  Однако, есть несколько важных моментов, которые стоит улучшить, чтобы проект стал действительно идеальным!\n",
    "\n",
    "Необходимо доработать:\n",
    "    \n",
    "* Доработать столбцы\n",
    "* Дубликаты\n",
    "* Актуализировать результаты и выводы\n",
    "* Скорректировать графики\n",
    "* Остальные комментарии ты найдешь в работе\n",
    "\n",
    "**Желаю удачи и жду твой проект на повторное ревью! Если у тебя вдруг есть какие–либо вопросы, то я с радостью отвечу на них 😊**\n",
    "        \n",
    "Также оставлю дополнительный материал по визуализации, если будет интересно:\n",
    "    \n",
    "\n",
    "* книга Александра Богачева [Графики, которые убеждают всех](https://book24.ru/product/grafiki-kotorye-ubezhdayut-vsekh-5873820/)\n",
    "* [cheatsheet по визуализации](https://extremepresentation.typepad.com/.a/6a00d8341bfd2e53ef0111683a7591970c-pi)\n",
    "* бесплатный курс от Яндекс.Практикум [Визуальныe презентации](https://practicum.yandex.ru/visual-presentation/)\n",
    "* Формат таблиц в pandas с помощью style. В том числе цветовое выделение. (https://habr.com/ru/post/521894/)\n",
    "* Основные компоненты matplotlib (https://pyprog.pro/mpl/mpl_main_components.html)\n",
    "* 50 оттенков matplotlib — The Master Plots (с полным кодом на Python) (https://habr.com/ru/post/468295/)\n",
    "* Построение графиков с использованием двух осей. (https://matplotlib.org/stable/gallery/subplots_axes_and_figures/two_scales.html)\n",
    "* Сайт, подробно представлюящий практически все типы визуализаций. (https://datavizproject.com/)\n",
    "* Шпаргалка по визуализации данных в Python с помощью Plotly (https://habr.com/ru/post/502958/)\n",
    "</div> "
   ]
  },
  {
   "cell_type": "code",
   "execution_count": null,
   "id": "53fe122e",
   "metadata": {},
   "outputs": [],
   "source": []
  }
 ],
 "metadata": {
  "ExecuteTimeLog": [
   {
    "duration": 913,
    "start_time": "2024-05-12T08:40:57.086Z"
   },
   {
    "duration": 0,
    "start_time": "2024-05-12T08:40:58.002Z"
   },
   {
    "duration": 0,
    "start_time": "2024-05-12T08:40:58.002Z"
   },
   {
    "duration": 0,
    "start_time": "2024-05-12T08:40:58.003Z"
   },
   {
    "duration": 0,
    "start_time": "2024-05-12T08:40:58.004Z"
   },
   {
    "duration": 0,
    "start_time": "2024-05-12T08:40:58.005Z"
   },
   {
    "duration": 0,
    "start_time": "2024-05-12T08:40:58.006Z"
   },
   {
    "duration": 0,
    "start_time": "2024-05-12T08:40:58.007Z"
   },
   {
    "duration": 0,
    "start_time": "2024-05-12T08:40:58.008Z"
   },
   {
    "duration": 0,
    "start_time": "2024-05-12T08:40:58.009Z"
   },
   {
    "duration": 0,
    "start_time": "2024-05-12T08:40:58.010Z"
   },
   {
    "duration": 0,
    "start_time": "2024-05-12T08:40:58.011Z"
   },
   {
    "duration": 0,
    "start_time": "2024-05-12T08:40:58.012Z"
   },
   {
    "duration": 0,
    "start_time": "2024-05-12T08:40:58.013Z"
   },
   {
    "duration": 0,
    "start_time": "2024-05-12T08:40:58.014Z"
   },
   {
    "duration": 0,
    "start_time": "2024-05-12T08:40:58.015Z"
   },
   {
    "duration": 0,
    "start_time": "2024-05-12T08:40:58.016Z"
   },
   {
    "duration": 0,
    "start_time": "2024-05-12T08:40:58.017Z"
   },
   {
    "duration": 0,
    "start_time": "2024-05-12T08:40:58.018Z"
   },
   {
    "duration": 0,
    "start_time": "2024-05-12T08:40:58.020Z"
   },
   {
    "duration": 0,
    "start_time": "2024-05-12T08:40:58.021Z"
   },
   {
    "duration": 0,
    "start_time": "2024-05-12T08:40:58.022Z"
   },
   {
    "duration": 0,
    "start_time": "2024-05-12T08:40:58.023Z"
   },
   {
    "duration": 0,
    "start_time": "2024-05-12T08:40:58.024Z"
   },
   {
    "duration": 0,
    "start_time": "2024-05-12T08:40:58.025Z"
   },
   {
    "duration": 0,
    "start_time": "2024-05-12T08:40:58.026Z"
   },
   {
    "duration": 0,
    "start_time": "2024-05-12T08:40:58.027Z"
   },
   {
    "duration": 0,
    "start_time": "2024-05-12T08:40:58.029Z"
   },
   {
    "duration": 0,
    "start_time": "2024-05-12T08:40:58.030Z"
   },
   {
    "duration": 0,
    "start_time": "2024-05-12T08:40:58.031Z"
   },
   {
    "duration": 0,
    "start_time": "2024-05-12T08:40:58.032Z"
   },
   {
    "duration": 0,
    "start_time": "2024-05-12T08:40:58.033Z"
   },
   {
    "duration": 0,
    "start_time": "2024-05-12T08:40:58.091Z"
   },
   {
    "duration": 0,
    "start_time": "2024-05-12T08:40:58.093Z"
   },
   {
    "duration": 0,
    "start_time": "2024-05-12T08:40:58.094Z"
   },
   {
    "duration": 0,
    "start_time": "2024-05-12T08:40:58.095Z"
   },
   {
    "duration": 1,
    "start_time": "2024-05-12T08:40:58.095Z"
   },
   {
    "duration": 804,
    "start_time": "2024-05-12T08:41:57.776Z"
   },
   {
    "duration": 0,
    "start_time": "2024-05-12T08:41:58.583Z"
   },
   {
    "duration": 0,
    "start_time": "2024-05-12T08:41:58.584Z"
   },
   {
    "duration": 0,
    "start_time": "2024-05-12T08:41:58.585Z"
   },
   {
    "duration": 0,
    "start_time": "2024-05-12T08:41:58.587Z"
   },
   {
    "duration": 0,
    "start_time": "2024-05-12T08:41:58.587Z"
   },
   {
    "duration": 0,
    "start_time": "2024-05-12T08:41:58.591Z"
   },
   {
    "duration": 0,
    "start_time": "2024-05-12T08:41:58.592Z"
   },
   {
    "duration": 0,
    "start_time": "2024-05-12T08:41:58.594Z"
   },
   {
    "duration": 0,
    "start_time": "2024-05-12T08:41:58.595Z"
   },
   {
    "duration": 0,
    "start_time": "2024-05-12T08:41:58.596Z"
   },
   {
    "duration": 0,
    "start_time": "2024-05-12T08:41:58.598Z"
   },
   {
    "duration": 0,
    "start_time": "2024-05-12T08:41:58.599Z"
   },
   {
    "duration": 0,
    "start_time": "2024-05-12T08:41:58.600Z"
   },
   {
    "duration": 0,
    "start_time": "2024-05-12T08:41:58.601Z"
   },
   {
    "duration": 0,
    "start_time": "2024-05-12T08:41:58.603Z"
   },
   {
    "duration": 0,
    "start_time": "2024-05-12T08:41:58.604Z"
   },
   {
    "duration": 0,
    "start_time": "2024-05-12T08:41:58.605Z"
   },
   {
    "duration": 0,
    "start_time": "2024-05-12T08:41:58.606Z"
   },
   {
    "duration": 0,
    "start_time": "2024-05-12T08:41:58.607Z"
   },
   {
    "duration": 0,
    "start_time": "2024-05-12T08:41:58.608Z"
   },
   {
    "duration": 0,
    "start_time": "2024-05-12T08:41:58.609Z"
   },
   {
    "duration": 0,
    "start_time": "2024-05-12T08:41:58.610Z"
   },
   {
    "duration": 0,
    "start_time": "2024-05-12T08:41:58.612Z"
   },
   {
    "duration": 0,
    "start_time": "2024-05-12T08:41:58.613Z"
   },
   {
    "duration": 0,
    "start_time": "2024-05-12T08:41:58.614Z"
   },
   {
    "duration": 0,
    "start_time": "2024-05-12T08:41:58.616Z"
   },
   {
    "duration": 0,
    "start_time": "2024-05-12T08:41:58.617Z"
   },
   {
    "duration": 0,
    "start_time": "2024-05-12T08:41:58.618Z"
   },
   {
    "duration": 0,
    "start_time": "2024-05-12T08:41:58.619Z"
   },
   {
    "duration": 1,
    "start_time": "2024-05-12T08:41:58.619Z"
   },
   {
    "duration": 0,
    "start_time": "2024-05-12T08:41:58.621Z"
   },
   {
    "duration": 0,
    "start_time": "2024-05-12T08:41:58.622Z"
   },
   {
    "duration": 0,
    "start_time": "2024-05-12T08:41:58.623Z"
   },
   {
    "duration": 0,
    "start_time": "2024-05-12T08:41:58.624Z"
   },
   {
    "duration": 0,
    "start_time": "2024-05-12T08:41:58.624Z"
   },
   {
    "duration": 0,
    "start_time": "2024-05-12T08:41:58.625Z"
   },
   {
    "duration": 2,
    "start_time": "2024-05-12T08:46:43.056Z"
   },
   {
    "duration": 375,
    "start_time": "2024-05-12T08:47:13.657Z"
   },
   {
    "duration": 640,
    "start_time": "2024-05-12T08:47:16.688Z"
   },
   {
    "duration": 124,
    "start_time": "2024-05-12T08:47:17.330Z"
   },
   {
    "duration": 29,
    "start_time": "2024-05-12T08:47:17.456Z"
   },
   {
    "duration": 9,
    "start_time": "2024-05-12T08:47:17.487Z"
   },
   {
    "duration": 47,
    "start_time": "2024-05-12T08:47:17.497Z"
   },
   {
    "duration": 38,
    "start_time": "2024-05-12T08:47:17.546Z"
   },
   {
    "duration": 32,
    "start_time": "2024-05-12T08:47:17.585Z"
   },
   {
    "duration": 16,
    "start_time": "2024-05-12T08:47:17.619Z"
   },
   {
    "duration": 45,
    "start_time": "2024-05-12T08:47:17.636Z"
   },
   {
    "duration": 61,
    "start_time": "2024-05-12T08:47:17.683Z"
   },
   {
    "duration": 31,
    "start_time": "2024-05-12T08:47:17.746Z"
   },
   {
    "duration": 87,
    "start_time": "2024-05-12T08:47:17.778Z"
   },
   {
    "duration": 6,
    "start_time": "2024-05-12T08:47:17.867Z"
   },
   {
    "duration": 49,
    "start_time": "2024-05-12T08:47:17.876Z"
   },
   {
    "duration": 36,
    "start_time": "2024-05-12T08:47:17.926Z"
   },
   {
    "duration": 22,
    "start_time": "2024-05-12T08:47:17.963Z"
   },
   {
    "duration": 32,
    "start_time": "2024-05-12T08:47:17.987Z"
   },
   {
    "duration": 149,
    "start_time": "2024-05-12T08:47:18.020Z"
   },
   {
    "duration": 133,
    "start_time": "2024-05-12T08:47:18.171Z"
   },
   {
    "duration": 156,
    "start_time": "2024-05-12T08:47:18.306Z"
   },
   {
    "duration": 227,
    "start_time": "2024-05-12T08:47:18.464Z"
   },
   {
    "duration": 161,
    "start_time": "2024-05-12T08:47:18.694Z"
   },
   {
    "duration": 312,
    "start_time": "2024-05-12T08:47:18.856Z"
   },
   {
    "duration": 19,
    "start_time": "2024-05-12T08:47:19.170Z"
   },
   {
    "duration": 28,
    "start_time": "2024-05-12T08:47:19.191Z"
   },
   {
    "duration": 213,
    "start_time": "2024-05-12T08:47:19.221Z"
   },
   {
    "duration": 6,
    "start_time": "2024-05-12T08:47:19.436Z"
   },
   {
    "duration": 25,
    "start_time": "2024-05-12T08:47:19.446Z"
   },
   {
    "duration": 35,
    "start_time": "2024-05-12T08:47:19.473Z"
   },
   {
    "duration": 265,
    "start_time": "2024-05-12T08:47:19.510Z"
   },
   {
    "duration": 8,
    "start_time": "2024-05-12T08:47:19.776Z"
   },
   {
    "duration": 30,
    "start_time": "2024-05-12T08:47:19.791Z"
   },
   {
    "duration": 34,
    "start_time": "2024-05-12T08:47:19.822Z"
   },
   {
    "duration": 187,
    "start_time": "2024-05-12T08:47:19.858Z"
   },
   {
    "duration": 164,
    "start_time": "2024-05-12T08:47:20.047Z"
   },
   {
    "duration": 5,
    "start_time": "2024-05-12T08:47:20.212Z"
   },
   {
    "duration": 201,
    "start_time": "2024-05-12T08:47:20.219Z"
   },
   {
    "duration": 5,
    "start_time": "2024-05-12T08:47:20.421Z"
   },
   {
    "duration": 52,
    "start_time": "2024-05-12T09:05:37.791Z"
   },
   {
    "duration": 175,
    "start_time": "2024-05-12T09:13:38.614Z"
   },
   {
    "duration": 36,
    "start_time": "2024-05-12T09:16:11.480Z"
   },
   {
    "duration": 38,
    "start_time": "2024-05-12T09:16:23.004Z"
   },
   {
    "duration": 18,
    "start_time": "2024-05-12T09:16:31.600Z"
   },
   {
    "duration": 7,
    "start_time": "2024-05-12T09:22:14.889Z"
   },
   {
    "duration": 147,
    "start_time": "2024-05-12T09:22:34.648Z"
   },
   {
    "duration": 741,
    "start_time": "2024-05-12T15:28:05.019Z"
   },
   {
    "duration": 231,
    "start_time": "2024-05-12T15:28:09.071Z"
   },
   {
    "duration": 14,
    "start_time": "2024-05-12T15:28:11.095Z"
   },
   {
    "duration": 15,
    "start_time": "2024-05-12T15:28:15.559Z"
   },
   {
    "duration": 10,
    "start_time": "2024-05-12T15:28:27.454Z"
   },
   {
    "duration": 38,
    "start_time": "2024-05-12T15:29:19.237Z"
   },
   {
    "duration": 40,
    "start_time": "2024-05-12T15:31:05.116Z"
   },
   {
    "duration": 69,
    "start_time": "2024-05-12T15:35:51.835Z"
   },
   {
    "duration": 2,
    "start_time": "2024-05-12T15:35:56.093Z"
   },
   {
    "duration": 142,
    "start_time": "2024-05-12T15:35:56.096Z"
   },
   {
    "duration": 14,
    "start_time": "2024-05-12T15:35:56.239Z"
   },
   {
    "duration": 10,
    "start_time": "2024-05-12T15:35:56.254Z"
   },
   {
    "duration": 29,
    "start_time": "2024-05-12T15:35:56.266Z"
   },
   {
    "duration": 8,
    "start_time": "2024-05-12T15:36:03.907Z"
   },
   {
    "duration": 10,
    "start_time": "2024-05-12T15:36:06.588Z"
   },
   {
    "duration": 14,
    "start_time": "2024-05-12T15:36:16.933Z"
   },
   {
    "duration": 17,
    "start_time": "2024-05-12T15:36:38.976Z"
   },
   {
    "duration": 21,
    "start_time": "2024-05-12T15:39:42.331Z"
   },
   {
    "duration": 9,
    "start_time": "2024-05-12T15:40:03.978Z"
   },
   {
    "duration": 10,
    "start_time": "2024-05-12T15:40:20.757Z"
   },
   {
    "duration": 6,
    "start_time": "2024-05-12T15:40:31.818Z"
   },
   {
    "duration": 27,
    "start_time": "2024-05-12T15:40:57.919Z"
   },
   {
    "duration": 18,
    "start_time": "2024-05-12T15:41:15.184Z"
   },
   {
    "duration": 34,
    "start_time": "2024-05-12T15:44:19.087Z"
   },
   {
    "duration": 9,
    "start_time": "2024-05-12T15:44:26.054Z"
   },
   {
    "duration": 15,
    "start_time": "2024-05-12T15:45:41.020Z"
   },
   {
    "duration": 8,
    "start_time": "2024-05-12T15:47:15.823Z"
   },
   {
    "duration": 5,
    "start_time": "2024-05-12T15:47:18.803Z"
   },
   {
    "duration": 7,
    "start_time": "2024-05-12T15:47:40.243Z"
   },
   {
    "duration": 5,
    "start_time": "2024-05-12T15:47:41.331Z"
   },
   {
    "duration": 7,
    "start_time": "2024-05-12T15:47:53.203Z"
   },
   {
    "duration": 632,
    "start_time": "2024-05-12T15:47:57.932Z"
   },
   {
    "duration": 123,
    "start_time": "2024-05-12T15:47:58.566Z"
   },
   {
    "duration": 16,
    "start_time": "2024-05-12T15:47:58.690Z"
   },
   {
    "duration": 11,
    "start_time": "2024-05-12T15:47:58.708Z"
   },
   {
    "duration": 37,
    "start_time": "2024-05-12T15:47:58.720Z"
   },
   {
    "duration": 8,
    "start_time": "2024-05-12T15:47:58.759Z"
   },
   {
    "duration": 16,
    "start_time": "2024-05-12T15:47:58.769Z"
   },
   {
    "duration": 12,
    "start_time": "2024-05-12T15:47:58.787Z"
   },
   {
    "duration": 22,
    "start_time": "2024-05-12T15:47:58.801Z"
   },
   {
    "duration": 18,
    "start_time": "2024-05-12T15:47:58.826Z"
   },
   {
    "duration": 23,
    "start_time": "2024-05-12T15:47:58.846Z"
   },
   {
    "duration": 23,
    "start_time": "2024-05-12T15:47:58.871Z"
   },
   {
    "duration": 7,
    "start_time": "2024-05-12T15:47:58.896Z"
   },
   {
    "duration": 30,
    "start_time": "2024-05-12T15:47:58.905Z"
   },
   {
    "duration": 7,
    "start_time": "2024-05-12T15:47:59.880Z"
   },
   {
    "duration": 6,
    "start_time": "2024-05-12T15:48:07.207Z"
   },
   {
    "duration": 3,
    "start_time": "2024-05-12T15:49:58.810Z"
   },
   {
    "duration": 3,
    "start_time": "2024-05-12T15:50:01.359Z"
   },
   {
    "duration": 231,
    "start_time": "2024-05-12T15:50:01.363Z"
   },
   {
    "duration": 18,
    "start_time": "2024-05-12T15:50:01.596Z"
   },
   {
    "duration": 96,
    "start_time": "2024-05-12T15:50:01.616Z"
   },
   {
    "duration": 79,
    "start_time": "2024-05-12T15:50:01.714Z"
   },
   {
    "duration": 21,
    "start_time": "2024-05-12T15:50:01.794Z"
   },
   {
    "duration": 56,
    "start_time": "2024-05-12T15:50:01.817Z"
   },
   {
    "duration": 31,
    "start_time": "2024-05-12T15:50:01.875Z"
   },
   {
    "duration": 33,
    "start_time": "2024-05-12T15:50:01.908Z"
   },
   {
    "duration": 28,
    "start_time": "2024-05-12T15:50:01.943Z"
   },
   {
    "duration": 25,
    "start_time": "2024-05-12T15:50:01.973Z"
   },
   {
    "duration": 40,
    "start_time": "2024-05-12T15:50:02.000Z"
   },
   {
    "duration": 17,
    "start_time": "2024-05-12T15:50:02.042Z"
   },
   {
    "duration": 27,
    "start_time": "2024-05-12T15:50:02.060Z"
   },
   {
    "duration": 21,
    "start_time": "2024-05-12T15:50:02.088Z"
   },
   {
    "duration": 36,
    "start_time": "2024-05-12T15:50:02.111Z"
   },
   {
    "duration": 14,
    "start_time": "2024-05-12T15:50:02.148Z"
   },
   {
    "duration": 77,
    "start_time": "2024-05-12T15:50:02.164Z"
   },
   {
    "duration": 4,
    "start_time": "2024-05-12T15:50:02.243Z"
   },
   {
    "duration": 37,
    "start_time": "2024-05-12T15:50:02.249Z"
   },
   {
    "duration": 88,
    "start_time": "2024-05-12T15:50:02.288Z"
   },
   {
    "duration": 33,
    "start_time": "2024-05-12T15:50:02.378Z"
   },
   {
    "duration": 11,
    "start_time": "2024-05-12T15:50:03.146Z"
   },
   {
    "duration": 6,
    "start_time": "2024-05-12T15:50:09.066Z"
   },
   {
    "duration": 14,
    "start_time": "2024-05-12T15:51:15.389Z"
   },
   {
    "duration": 12,
    "start_time": "2024-05-12T15:51:21.049Z"
   },
   {
    "duration": 13,
    "start_time": "2024-05-12T15:51:22.488Z"
   },
   {
    "duration": 7,
    "start_time": "2024-05-12T15:51:56.032Z"
   },
   {
    "duration": 45,
    "start_time": "2024-05-12T15:52:04.225Z"
   },
   {
    "duration": 13,
    "start_time": "2024-05-12T15:52:09.277Z"
   },
   {
    "duration": 49,
    "start_time": "2024-05-12T15:52:19.309Z"
   },
   {
    "duration": 162,
    "start_time": "2024-05-12T15:55:37.259Z"
   },
   {
    "duration": 265,
    "start_time": "2024-05-12T15:56:27.339Z"
   },
   {
    "duration": 66,
    "start_time": "2024-05-12T15:57:12.633Z"
   },
   {
    "duration": 210,
    "start_time": "2024-05-12T15:57:23.837Z"
   },
   {
    "duration": 5,
    "start_time": "2024-05-12T15:57:45.889Z"
   },
   {
    "duration": 9,
    "start_time": "2024-05-12T15:57:54.384Z"
   },
   {
    "duration": 70,
    "start_time": "2024-05-12T15:57:56.429Z"
   },
   {
    "duration": 18,
    "start_time": "2024-05-12T15:57:59.277Z"
   },
   {
    "duration": 39,
    "start_time": "2024-05-12T15:58:28.571Z"
   },
   {
    "duration": 8,
    "start_time": "2024-05-12T15:58:42.405Z"
   },
   {
    "duration": 4,
    "start_time": "2024-05-12T15:58:44.859Z"
   },
   {
    "duration": 129,
    "start_time": "2024-05-12T15:59:07.339Z"
   },
   {
    "duration": 10,
    "start_time": "2024-05-12T15:59:12.954Z"
   },
   {
    "duration": 121,
    "start_time": "2024-05-12T15:59:15.591Z"
   },
   {
    "duration": 116,
    "start_time": "2024-05-12T15:59:24.824Z"
   },
   {
    "duration": 135,
    "start_time": "2024-05-12T15:59:32.911Z"
   },
   {
    "duration": 161,
    "start_time": "2024-05-12T15:59:43.127Z"
   },
   {
    "duration": 179,
    "start_time": "2024-05-12T16:00:10.486Z"
   },
   {
    "duration": 4,
    "start_time": "2024-05-12T17:01:06.805Z"
   },
   {
    "duration": 144,
    "start_time": "2024-05-12T17:01:06.810Z"
   },
   {
    "duration": 16,
    "start_time": "2024-05-12T17:01:06.955Z"
   },
   {
    "duration": 13,
    "start_time": "2024-05-12T17:01:06.972Z"
   },
   {
    "duration": 23,
    "start_time": "2024-05-12T17:01:06.987Z"
   },
   {
    "duration": 10,
    "start_time": "2024-05-12T17:01:07.012Z"
   },
   {
    "duration": 10,
    "start_time": "2024-05-12T17:01:07.024Z"
   },
   {
    "duration": 35,
    "start_time": "2024-05-12T17:01:07.035Z"
   },
   {
    "duration": 18,
    "start_time": "2024-05-12T17:01:07.072Z"
   },
   {
    "duration": 17,
    "start_time": "2024-05-12T17:01:07.092Z"
   },
   {
    "duration": 15,
    "start_time": "2024-05-12T17:01:07.111Z"
   },
   {
    "duration": 25,
    "start_time": "2024-05-12T17:01:07.128Z"
   },
   {
    "duration": 6,
    "start_time": "2024-05-12T17:01:07.165Z"
   },
   {
    "duration": 9,
    "start_time": "2024-05-12T17:01:07.172Z"
   },
   {
    "duration": 13,
    "start_time": "2024-05-12T17:01:07.183Z"
   },
   {
    "duration": 20,
    "start_time": "2024-05-12T17:01:07.197Z"
   },
   {
    "duration": 10,
    "start_time": "2024-05-12T17:01:07.219Z"
   },
   {
    "duration": 74,
    "start_time": "2024-05-12T17:01:07.230Z"
   },
   {
    "duration": 4,
    "start_time": "2024-05-12T17:01:07.306Z"
   },
   {
    "duration": 27,
    "start_time": "2024-05-12T17:01:07.312Z"
   },
   {
    "duration": 9,
    "start_time": "2024-05-12T17:01:07.340Z"
   },
   {
    "duration": 11,
    "start_time": "2024-05-12T17:01:07.351Z"
   },
   {
    "duration": 26,
    "start_time": "2024-05-12T17:01:07.363Z"
   },
   {
    "duration": 42,
    "start_time": "2024-05-12T17:01:07.391Z"
   },
   {
    "duration": 163,
    "start_time": "2024-05-12T17:01:07.434Z"
   },
   {
    "duration": 177,
    "start_time": "2024-05-12T17:01:07.599Z"
   },
   {
    "duration": 233,
    "start_time": "2024-05-12T17:01:07.778Z"
   },
   {
    "duration": 178,
    "start_time": "2024-05-12T17:01:08.013Z"
   },
   {
    "duration": 154,
    "start_time": "2024-05-12T17:01:08.195Z"
   },
   {
    "duration": 215,
    "start_time": "2024-05-12T17:01:08.660Z"
   },
   {
    "duration": 207,
    "start_time": "2024-05-12T17:01:50.776Z"
   },
   {
    "duration": 42,
    "start_time": "2024-05-12T19:36:55.185Z"
   },
   {
    "duration": 693,
    "start_time": "2024-05-12T19:37:00.627Z"
   },
   {
    "duration": 380,
    "start_time": "2024-05-12T19:37:01.322Z"
   },
   {
    "duration": 15,
    "start_time": "2024-05-12T19:37:01.703Z"
   },
   {
    "duration": 31,
    "start_time": "2024-05-12T19:37:01.720Z"
   },
   {
    "duration": 30,
    "start_time": "2024-05-12T19:37:01.753Z"
   },
   {
    "duration": 16,
    "start_time": "2024-05-12T19:37:01.784Z"
   },
   {
    "duration": 21,
    "start_time": "2024-05-12T19:37:01.801Z"
   },
   {
    "duration": 20,
    "start_time": "2024-05-12T19:37:01.824Z"
   },
   {
    "duration": 24,
    "start_time": "2024-05-12T19:37:01.845Z"
   },
   {
    "duration": 18,
    "start_time": "2024-05-12T19:37:01.870Z"
   },
   {
    "duration": 9,
    "start_time": "2024-05-12T19:37:01.890Z"
   },
   {
    "duration": 60,
    "start_time": "2024-05-12T19:37:01.900Z"
   },
   {
    "duration": 14,
    "start_time": "2024-05-12T19:37:01.962Z"
   },
   {
    "duration": 52,
    "start_time": "2024-05-12T19:37:01.978Z"
   },
   {
    "duration": 24,
    "start_time": "2024-05-12T19:37:02.031Z"
   },
   {
    "duration": 10,
    "start_time": "2024-05-12T19:37:02.057Z"
   },
   {
    "duration": 17,
    "start_time": "2024-05-12T19:37:02.069Z"
   },
   {
    "duration": 79,
    "start_time": "2024-05-12T19:37:02.087Z"
   },
   {
    "duration": 5,
    "start_time": "2024-05-12T19:37:02.167Z"
   },
   {
    "duration": 17,
    "start_time": "2024-05-12T19:37:02.173Z"
   },
   {
    "duration": 36,
    "start_time": "2024-05-12T19:37:02.192Z"
   },
   {
    "duration": 10,
    "start_time": "2024-05-12T19:37:02.229Z"
   },
   {
    "duration": 19,
    "start_time": "2024-05-12T19:37:02.240Z"
   },
   {
    "duration": 53,
    "start_time": "2024-05-12T19:37:02.260Z"
   },
   {
    "duration": 119,
    "start_time": "2024-05-12T19:37:02.314Z"
   },
   {
    "duration": 132,
    "start_time": "2024-05-12T19:37:02.434Z"
   },
   {
    "duration": 133,
    "start_time": "2024-05-12T19:37:02.567Z"
   },
   {
    "duration": 175,
    "start_time": "2024-05-12T19:37:02.702Z"
   },
   {
    "duration": 122,
    "start_time": "2024-05-12T19:37:02.879Z"
   },
   {
    "duration": 38,
    "start_time": "2024-05-12T19:37:03.003Z"
   },
   {
    "duration": 81,
    "start_time": "2024-05-12T19:37:11.988Z"
   },
   {
    "duration": 8,
    "start_time": "2024-05-12T19:37:14.481Z"
   },
   {
    "duration": 409,
    "start_time": "2024-05-12T19:37:21.515Z"
   },
   {
    "duration": 204,
    "start_time": "2024-05-12T19:37:29.653Z"
   },
   {
    "duration": 9,
    "start_time": "2024-05-12T19:37:35.994Z"
   },
   {
    "duration": 59,
    "start_time": "2024-05-12T19:38:00.227Z"
   },
   {
    "duration": 4,
    "start_time": "2024-05-12T19:38:02.109Z"
   },
   {
    "duration": 136,
    "start_time": "2024-05-12T19:38:11.907Z"
   },
   {
    "duration": 134,
    "start_time": "2024-05-12T19:38:19.368Z"
   },
   {
    "duration": 13,
    "start_time": "2024-05-12T19:38:44.301Z"
   },
   {
    "duration": 206,
    "start_time": "2024-05-12T19:38:59.923Z"
   },
   {
    "duration": 217,
    "start_time": "2024-05-12T19:39:25.350Z"
   },
   {
    "duration": 18,
    "start_time": "2024-05-12T19:39:33.129Z"
   },
   {
    "duration": 215,
    "start_time": "2024-05-12T19:39:37.352Z"
   },
   {
    "duration": 457,
    "start_time": "2024-05-12T19:39:49.501Z"
   },
   {
    "duration": 224,
    "start_time": "2024-05-12T19:39:55.147Z"
   },
   {
    "duration": 212,
    "start_time": "2024-05-12T19:41:17.169Z"
   },
   {
    "duration": 220,
    "start_time": "2024-05-12T19:41:24.187Z"
   },
   {
    "duration": 210,
    "start_time": "2024-05-12T19:41:28.815Z"
   },
   {
    "duration": 209,
    "start_time": "2024-05-12T19:41:35.634Z"
   },
   {
    "duration": 218,
    "start_time": "2024-05-12T19:41:55.149Z"
   },
   {
    "duration": 222,
    "start_time": "2024-05-12T19:42:01.965Z"
   },
   {
    "duration": 425,
    "start_time": "2024-05-12T19:42:24.611Z"
   },
   {
    "duration": 221,
    "start_time": "2024-05-12T19:42:57.112Z"
   },
   {
    "duration": 202,
    "start_time": "2024-05-12T19:43:08.498Z"
   },
   {
    "duration": 205,
    "start_time": "2024-05-12T19:43:16.601Z"
   },
   {
    "duration": 6,
    "start_time": "2024-05-12T19:43:49.148Z"
   },
   {
    "duration": 2,
    "start_time": "2024-05-12T19:43:54.836Z"
   },
   {
    "duration": 130,
    "start_time": "2024-05-12T19:43:54.840Z"
   },
   {
    "duration": 12,
    "start_time": "2024-05-12T19:43:54.971Z"
   },
   {
    "duration": 8,
    "start_time": "2024-05-12T19:43:54.984Z"
   },
   {
    "duration": 22,
    "start_time": "2024-05-12T19:43:54.993Z"
   },
   {
    "duration": 8,
    "start_time": "2024-05-12T19:43:55.016Z"
   },
   {
    "duration": 11,
    "start_time": "2024-05-12T19:43:55.026Z"
   },
   {
    "duration": 21,
    "start_time": "2024-05-12T19:43:55.038Z"
   },
   {
    "duration": 22,
    "start_time": "2024-05-12T19:43:55.061Z"
   },
   {
    "duration": 15,
    "start_time": "2024-05-12T19:43:55.085Z"
   },
   {
    "duration": 7,
    "start_time": "2024-05-12T19:43:55.101Z"
   },
   {
    "duration": 25,
    "start_time": "2024-05-12T19:43:55.109Z"
   },
   {
    "duration": 5,
    "start_time": "2024-05-12T19:43:55.135Z"
   },
   {
    "duration": 15,
    "start_time": "2024-05-12T19:43:55.142Z"
   },
   {
    "duration": 14,
    "start_time": "2024-05-12T19:43:55.158Z"
   },
   {
    "duration": 13,
    "start_time": "2024-05-12T19:43:55.185Z"
   },
   {
    "duration": 24,
    "start_time": "2024-05-12T19:43:55.199Z"
   },
   {
    "duration": 47,
    "start_time": "2024-05-12T19:43:55.224Z"
   },
   {
    "duration": 5,
    "start_time": "2024-05-12T19:43:55.272Z"
   },
   {
    "duration": 10,
    "start_time": "2024-05-12T19:43:55.278Z"
   },
   {
    "duration": 8,
    "start_time": "2024-05-12T19:43:55.289Z"
   },
   {
    "duration": 9,
    "start_time": "2024-05-12T19:43:55.298Z"
   },
   {
    "duration": 14,
    "start_time": "2024-05-12T19:43:55.308Z"
   },
   {
    "duration": 35,
    "start_time": "2024-05-12T19:43:55.324Z"
   },
   {
    "duration": 149,
    "start_time": "2024-05-12T19:43:55.361Z"
   },
   {
    "duration": 134,
    "start_time": "2024-05-12T19:43:55.512Z"
   },
   {
    "duration": 142,
    "start_time": "2024-05-12T19:43:55.647Z"
   },
   {
    "duration": 160,
    "start_time": "2024-05-12T19:43:55.792Z"
   },
   {
    "duration": 143,
    "start_time": "2024-05-12T19:43:55.953Z"
   },
   {
    "duration": 199,
    "start_time": "2024-05-12T19:43:56.098Z"
   },
   {
    "duration": 12,
    "start_time": "2024-05-12T19:43:56.298Z"
   },
   {
    "duration": 6,
    "start_time": "2024-05-12T19:43:56.312Z"
   },
   {
    "duration": 182,
    "start_time": "2024-05-12T19:43:56.319Z"
   },
   {
    "duration": 144,
    "start_time": "2024-05-12T19:44:12.030Z"
   },
   {
    "duration": 58,
    "start_time": "2024-05-12T19:44:18.236Z"
   },
   {
    "duration": 142,
    "start_time": "2024-05-12T19:44:21.468Z"
   },
   {
    "duration": 148,
    "start_time": "2024-05-12T19:44:23.595Z"
   },
   {
    "duration": 154,
    "start_time": "2024-05-12T19:44:25.312Z"
   },
   {
    "duration": 147,
    "start_time": "2024-05-12T19:44:27.785Z"
   },
   {
    "duration": 157,
    "start_time": "2024-05-12T19:44:31.144Z"
   },
   {
    "duration": 171,
    "start_time": "2024-05-12T19:44:38.456Z"
   },
   {
    "duration": 172,
    "start_time": "2024-05-12T19:44:46.977Z"
   },
   {
    "duration": 988,
    "start_time": "2024-05-12T19:45:20.195Z"
   },
   {
    "duration": 163,
    "start_time": "2024-05-12T19:45:30.538Z"
   },
   {
    "duration": 131,
    "start_time": "2024-05-12T19:46:08.191Z"
   },
   {
    "duration": 129,
    "start_time": "2024-05-12T19:46:19.444Z"
   },
   {
    "duration": 717,
    "start_time": "2024-05-13T11:11:52.771Z"
   },
   {
    "duration": 382,
    "start_time": "2024-05-13T11:11:53.490Z"
   },
   {
    "duration": 17,
    "start_time": "2024-05-13T11:11:53.874Z"
   },
   {
    "duration": 47,
    "start_time": "2024-05-13T11:11:53.893Z"
   },
   {
    "duration": 64,
    "start_time": "2024-05-13T11:11:53.942Z"
   },
   {
    "duration": 26,
    "start_time": "2024-05-13T11:11:54.008Z"
   },
   {
    "duration": 88,
    "start_time": "2024-05-13T11:11:54.036Z"
   },
   {
    "duration": 49,
    "start_time": "2024-05-13T11:11:54.126Z"
   },
   {
    "duration": 76,
    "start_time": "2024-05-13T11:11:54.176Z"
   },
   {
    "duration": 43,
    "start_time": "2024-05-13T11:11:54.255Z"
   },
   {
    "duration": 26,
    "start_time": "2024-05-13T11:11:54.299Z"
   },
   {
    "duration": 46,
    "start_time": "2024-05-13T11:11:54.327Z"
   },
   {
    "duration": 9,
    "start_time": "2024-05-13T11:11:54.375Z"
   },
   {
    "duration": 40,
    "start_time": "2024-05-13T11:11:54.386Z"
   },
   {
    "duration": 39,
    "start_time": "2024-05-13T11:11:54.427Z"
   },
   {
    "duration": 36,
    "start_time": "2024-05-13T11:11:54.468Z"
   },
   {
    "duration": 47,
    "start_time": "2024-05-13T11:11:54.505Z"
   },
   {
    "duration": 78,
    "start_time": "2024-05-13T11:11:54.554Z"
   },
   {
    "duration": 5,
    "start_time": "2024-05-13T11:11:54.634Z"
   },
   {
    "duration": 33,
    "start_time": "2024-05-13T11:11:54.640Z"
   },
   {
    "duration": 42,
    "start_time": "2024-05-13T11:11:54.675Z"
   },
   {
    "duration": 33,
    "start_time": "2024-05-13T11:11:54.719Z"
   },
   {
    "duration": 72,
    "start_time": "2024-05-13T11:11:54.754Z"
   },
   {
    "duration": 62,
    "start_time": "2024-05-13T11:11:54.827Z"
   },
   {
    "duration": 172,
    "start_time": "2024-05-13T11:11:54.891Z"
   },
   {
    "duration": 149,
    "start_time": "2024-05-13T11:11:55.064Z"
   },
   {
    "duration": 146,
    "start_time": "2024-05-13T11:11:55.214Z"
   },
   {
    "duration": 220,
    "start_time": "2024-05-13T11:11:55.363Z"
   },
   {
    "duration": 153,
    "start_time": "2024-05-13T11:11:55.584Z"
   },
   {
    "duration": 249,
    "start_time": "2024-05-13T11:11:55.739Z"
   },
   {
    "duration": 16,
    "start_time": "2024-05-13T11:11:55.990Z"
   },
   {
    "duration": 13,
    "start_time": "2024-05-13T11:11:56.007Z"
   },
   {
    "duration": 259,
    "start_time": "2024-05-13T11:11:56.021Z"
   },
   {
    "duration": 10,
    "start_time": "2024-05-13T11:11:56.282Z"
   },
   {
    "duration": 24,
    "start_time": "2024-05-13T11:11:56.294Z"
   },
   {
    "duration": 37,
    "start_time": "2024-05-13T11:11:56.320Z"
   },
   {
    "duration": 295,
    "start_time": "2024-05-13T11:11:56.358Z"
   },
   {
    "duration": 192,
    "start_time": "2024-05-13T11:11:56.655Z"
   },
   {
    "duration": 172,
    "start_time": "2024-05-13T11:11:56.848Z"
   },
   {
    "duration": 5,
    "start_time": "2024-05-13T11:11:57.022Z"
   },
   {
    "duration": 174,
    "start_time": "2024-05-13T11:11:57.029Z"
   },
   {
    "duration": 6,
    "start_time": "2024-05-13T11:11:57.204Z"
   }
  ],
  "kernelspec": {
   "display_name": "Python 3 (ipykernel)",
   "language": "python",
   "name": "python3"
  },
  "language_info": {
   "codemirror_mode": {
    "name": "ipython",
    "version": 3
   },
   "file_extension": ".py",
   "mimetype": "text/x-python",
   "name": "python",
   "nbconvert_exporter": "python",
   "pygments_lexer": "ipython3",
   "version": "3.9.5"
  },
  "toc": {
   "base_numbering": 1,
   "nav_menu": {},
   "number_sections": true,
   "sideBar": true,
   "skip_h1_title": true,
   "title_cell": "Table of Contents",
   "title_sidebar": "Contents",
   "toc_cell": false,
   "toc_position": {},
   "toc_section_display": true,
   "toc_window_display": false
  }
 },
 "nbformat": 4,
 "nbformat_minor": 5
}
